{
 "cells": [
  {
   "cell_type": "code",
   "execution_count": 37,
   "metadata": {},
   "outputs": [],
   "source": [
    "import pandas as pd\n",
    "import numpy as np\n",
    "file_name = 'case03_input_file..xlsx'\n",
    "submission = pd.DataFrame()\n",
    "df = pd.read_excel(file_name, sheet_name='Data', header=None, index_col=0)\n",
    "splitted = np.array_split(df, np.int(df.shape[0] / 9))\n",
    "for town in splitted:\n",
    "    dummy = town[:-1].T\n",
    "    towns = dummy.columns[0]\n",
    "    dummy[towns] = towns\n",
    "    res = pd.melt(dummy, id_vars=[towns, 'Диапазон'])\n",
    "    res.columns = ['Region', 'Partner', 'Range', 'Value']\n",
    "    map_dict = dict(zip(pd.unique(res['Range']), range(7)))\n",
    "    inverse_map_dict = {v: k for k, v in map_dict.items()}\n",
    "    res['Range'] = res['Range'].map(map_dict)\n",
    "    res = res.sort_values(by=['Partner', 'Range'])\n",
    "    res['Range'] = res['Range'].map(inverse_map_dict)\n",
    "    submission = pd.concat((submission, res))\n",
    "submission  = submission.dropna().reset_index(drop=True)\n",
    "fileName = pd.DataFrame(index=np.arange(submission.shape[0]))\n",
    "fileName['FileName'] = file_name\n",
    "submission = pd.concat([fileName, submission], axis=1)\n",
    "submission['Value'] = submission['Value'].astype(float)\n",
    "submission.to_csv('submission.csv', index=False, encoding=\"cp1251\")"
   ]
  },
  {
   "cell_type": "code",
   "execution_count": null,
   "metadata": {},
   "outputs": [],
   "source": []
  }
 ],
 "metadata": {
  "kernelspec": {
   "display_name": "Python 3",
   "language": "python",
   "name": "python3"
  },
  "language_info": {
   "codemirror_mode": {
    "name": "ipython",
    "version": 3
   },
   "file_extension": ".py",
   "mimetype": "text/x-python",
   "name": "python",
   "nbconvert_exporter": "python",
   "pygments_lexer": "ipython3",
   "version": "3.8.3"
  }
 },
 "nbformat": 4,
 "nbformat_minor": 4
}
