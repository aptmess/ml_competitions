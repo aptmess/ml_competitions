{
 "cells": [
  {
   "cell_type": "code",
   "execution_count": 170,
   "metadata": {},
   "outputs": [],
   "source": [
    "import pandas as pd\n",
    "from sklearn.preprocessing import StandardScaler, MinMaxScaler\n",
    "import numpy as np\n",
    "from sklearn.metrics import r2_score\n",
    "from sklearn.model_selection import cross_val_score\n",
    "from sklearn.linear_model import LinearRegression, Lasso, ElasticNet, RANSACRegressor\n",
    "from sklearn.model_selection import ShuffleSplit, KFold\n",
    "from sklearn.linear_model import Ridge\n",
    "from sklearn.preprocessing import MinMaxScaler, StandardScaler\n",
    "from sklearn.svm import LinearSVR\n",
    "from sklearn.tree import DecisionTreeRegressor, ExtraTreeRegressor\n",
    "from sklearn.ensemble import AdaBoostRegressor, BaggingRegressor, ExtraTreesRegressor, GradientBoostingRegressor, RandomForestRegressor"
   ]
  },
  {
   "cell_type": "code",
   "execution_count": 171,
   "metadata": {},
   "outputs": [],
   "source": [
    "train = pd.read_csv('train.csv')\n",
    "formula_train = pd.read_csv('formula_train.csv')\n",
    "test = pd.read_csv('test.csv')"
   ]
  },
  {
   "cell_type": "code",
   "execution_count": 172,
   "metadata": {},
   "outputs": [
    {
     "data": {
      "text/plain": [
       "<matplotlib.axes._subplots.AxesSubplot at 0x21a17106130>"
      ]
     },
     "execution_count": 172,
     "metadata": {},
     "output_type": "execute_result"
    },
    {
     "data": {
      "image/png": "[encoded data removed]",
      "text/plain": [
       "<Figure size 432x288 with 1 Axes>"
      ]
     },
     "metadata": {
      "needs_background": "light"
     },
     "output_type": "display_data"
    }
   ],
   "source": [
    "train['critical_temperature'].hist()"
   ]
  },
  {
   "cell_type": "markdown",
   "metadata": {},
   "source": [
    "## Baseline"
   ]
  },
  {
   "cell_type": "code",
   "execution_count": 15,
   "metadata": {},
   "outputs": [],
   "source": [
    "correlation = abs(train.corr()['critical_temperature'])\n",
    "features = train[correlation[correlation >=0.6].keys()]\n",
    "X = features.iloc[:, :-1]\n",
    "y = features.iloc[:, -1].values"
   ]
  },
  {
   "cell_type": "code",
   "execution_count": 16,
   "metadata": {},
   "outputs": [],
   "source": [
    "cl = AdaBoostRegressor(base_estimator=RandomForestRegressor(n_estimators=50))\n",
    "cv = ShuffleSplit(n_splits=10, test_size=0.2)\n",
    "cv = KFold(n_splits=10, shuffle=True)"
   ]
  },
  {
   "cell_type": "code",
   "execution_count": 20,
   "metadata": {},
   "outputs": [
    {
     "name": "stdout",
     "output_type": "stream",
     "text": [
      "iteration 0, acc: 0.9045381863322859\n",
      "iteration 1, acc: 0.9063820376121315\n",
      "iteration 2, acc: 0.9049741989023952\n",
      "iteration 3, acc: 0.9032400238597855\n",
      "iteration 4, acc: 0.9073835797303735\n"
     ]
    }
   ],
   "source": [
    "for i in range(5):\n",
    "    r2 = []\n",
    "    classifiers = []\n",
    "    for train_index, test_index in cv.split(X):\n",
    "        cl = AdaBoostRegressor(base_estimator=RandomForestRegressor(n_estimators=10))\n",
    "        X_train, X_test = X.iloc[train_index], X.iloc[test_index]\n",
    "        y_train, y_test = y[train_index], y[test_index]\n",
    "        cl.fit(X_train, y_train)\n",
    "        r2.append(r2_score(y_true=y_test, \n",
    "                           y_pred=cl.predict(X_test)))\n",
    "\n",
    "        # получим 5 оптимальных классификаторов\n",
    "        classifiers.append(cl)\n",
    "    print(f'iteration {i}, acc: {np.mean(r2)}')\n",
    "res = []\n",
    "for c in classifiers:\n",
    "    res.append(c.predict(X_test))\n",
    "dat = pd.DataFrame(np.array(res).T)\n",
    "dat.mean(axis=1).to_csv('answer.csv', index=False, header=0)"
   ]
  },
  {
   "cell_type": "markdown",
   "metadata": {},
   "source": [
    "## Use train"
   ]
  },
  {
   "cell_type": "code",
   "execution_count": 43,
   "metadata": {},
   "outputs": [],
   "source": [
    "formulas = formula_train['material'].str.findall('([A-Z][a-z]*)([0-9.]*)')\n",
    "a = []\n",
    "for k, fe in enumerate(formulas):\n",
    "    elements = formula_train[[f[0] for f in fe]].iloc[k, :]\n",
    "    amount = np.array([float(f[1]) if f[1] !='' else 1 for f in fe ])\n",
    "    a.append(np.sum(elements))\n",
    "train['formula'] = np.array(a)\n",
    "from scipy.stats import boxcox\n",
    "train['normal'] = boxcox(train['critical_temperature'], 0.3)\n",
    "from sklearn.linear_model import TweedieRegressor\n",
    "reg = TweedieRegressor(power=2, alpha=0.5)"
   ]
  },
  {
   "cell_type": "code",
   "execution_count": 45,
   "metadata": {},
   "outputs": [],
   "source": [
    "import matplotlib.pyplot as plt"
   ]
  },
  {
   "cell_type": "code",
   "execution_count": null,
   "metadata": {},
   "outputs": [],
   "source": []
  },
  {
   "cell_type": "code",
   "execution_count": 59,
   "metadata": {},
   "outputs": [
    {
     "data": {
      "text/plain": [
       "array([1.60943791, 2.7080502 , 0.        , ..., 0.        , 2.54396141,\n",
       "       1.60943791])"
      ]
     },
     "execution_count": 59,
     "metadata": {},
     "output_type": "execute_result"
    }
   ],
   "source": [
    "np.log(train[['formula', 'critical_temperature']].values[:, 0])"
   ]
  },
  {
   "cell_type": "code",
   "execution_count": 58,
   "metadata": {},
   "outputs": [
    {
     "data": {
      "text/plain": [
       "<matplotlib.collections.PathCollection at 0x21a1876fa30>"
      ]
     },
     "execution_count": 58,
     "metadata": {},
     "output_type": "execute_result"
    },
    {
     "data": {
      "image/png": "[encoded data removed]",
      "text/plain": [
       "<Figure size 432x288 with 1 Axes>"
      ]
     },
     "metadata": {
      "needs_background": "light"
     },
     "output_type": "display_data"
    }
   ],
   "source": [
    "plt.scatter(np.log(train[['formula', 'critical_temperature']].values[:, 0]), \n",
    "            train[['formula', 'critical_temperature']].values[:, 1])"
   ]
  },
  {
   "cell_type": "code",
   "execution_count": null,
   "metadata": {},
   "outputs": [],
   "source": [
    "for i, j in enumerate(formulas):\n",
    "    for l, v in j:\n",
    "        if v != '':\n",
    "            formula_train.at[i, l] = formula_train.at[i, l] + np.float(v)\n",
    "        else:\n",
    "            formula_train.at[i, l] = formula_train.at[i, l] + 1"
   ]
  },
  {
   "cell_type": "code",
   "execution_count": 226,
   "metadata": {},
   "outputs": [],
   "source": [
    "data = pd.concat((train, formula_train.iloc[:, :-1]),axis=1)"
   ]
  },
  {
   "cell_type": "code",
   "execution_count": 213,
   "metadata": {},
   "outputs": [
    {
     "data": {
      "text/html": [
       "<div>\n",
       "<style scoped>\n",
       "    .dataframe tbody tr th:only-of-type {\n",
       "        vertical-align: middle;\n",
       "    }\n",
       "\n",
       "    .dataframe tbody tr th {\n",
       "        vertical-align: top;\n",
       "    }\n",
       "\n",
       "    .dataframe thead th {\n",
       "        text-align: right;\n",
       "    }\n",
       "</style>\n",
       "<table border=\"1\" class=\"dataframe\">\n",
       "  <thead>\n",
       "    <tr style=\"text-align: right;\">\n",
       "      <th></th>\n",
       "      <th>feature1</th>\n",
       "      <th>feature2</th>\n",
       "      <th>feature3</th>\n",
       "      <th>feature4</th>\n",
       "      <th>feature5</th>\n",
       "      <th>feature6</th>\n",
       "      <th>feature7</th>\n",
       "      <th>feature8</th>\n",
       "      <th>feature9</th>\n",
       "      <th>feature10</th>\n",
       "      <th>...</th>\n",
       "      <th>Ir</th>\n",
       "      <th>Pt</th>\n",
       "      <th>Au</th>\n",
       "      <th>Hg</th>\n",
       "      <th>Tl</th>\n",
       "      <th>Pb</th>\n",
       "      <th>Bi</th>\n",
       "      <th>Po</th>\n",
       "      <th>At</th>\n",
       "      <th>Rn</th>\n",
       "    </tr>\n",
       "  </thead>\n",
       "  <tbody>\n",
       "    <tr>\n",
       "      <th>feature1</th>\n",
       "      <td>1.000000</td>\n",
       "      <td>-0.143847</td>\n",
       "      <td>-0.355671</td>\n",
       "      <td>-0.293672</td>\n",
       "      <td>-0.455712</td>\n",
       "      <td>0.939222</td>\n",
       "      <td>0.882318</td>\n",
       "      <td>0.681398</td>\n",
       "      <td>-0.321852</td>\n",
       "      <td>0.511752</td>\n",
       "      <td>...</td>\n",
       "      <td>-0.021827</td>\n",
       "      <td>-0.022415</td>\n",
       "      <td>-0.012088</td>\n",
       "      <td>0.015872</td>\n",
       "      <td>0.062713</td>\n",
       "      <td>-0.007323</td>\n",
       "      <td>0.104758</td>\n",
       "      <td>NaN</td>\n",
       "      <td>NaN</td>\n",
       "      <td>NaN</td>\n",
       "    </tr>\n",
       "    <tr>\n",
       "      <th>feature2</th>\n",
       "      <td>-0.143847</td>\n",
       "      <td>1.000000</td>\n",
       "      <td>0.816045</td>\n",
       "      <td>0.940250</td>\n",
       "      <td>0.746522</td>\n",
       "      <td>-0.104769</td>\n",
       "      <td>-0.100459</td>\n",
       "      <td>0.123859</td>\n",
       "      <td>0.450905</td>\n",
       "      <td>0.195576</td>\n",
       "      <td>...</td>\n",
       "      <td>0.039385</td>\n",
       "      <td>0.083620</td>\n",
       "      <td>0.029000</td>\n",
       "      <td>0.053613</td>\n",
       "      <td>0.088983</td>\n",
       "      <td>0.040947</td>\n",
       "      <td>0.066590</td>\n",
       "      <td>NaN</td>\n",
       "      <td>NaN</td>\n",
       "      <td>NaN</td>\n",
       "    </tr>\n",
       "    <tr>\n",
       "      <th>feature3</th>\n",
       "      <td>-0.355671</td>\n",
       "      <td>0.816045</td>\n",
       "      <td>1.000000</td>\n",
       "      <td>0.847721</td>\n",
       "      <td>0.964556</td>\n",
       "      <td>-0.309041</td>\n",
       "      <td>-0.415397</td>\n",
       "      <td>-0.144756</td>\n",
       "      <td>0.721212</td>\n",
       "      <td>-0.060214</td>\n",
       "      <td>...</td>\n",
       "      <td>0.044143</td>\n",
       "      <td>0.081542</td>\n",
       "      <td>0.037440</td>\n",
       "      <td>0.056701</td>\n",
       "      <td>0.063759</td>\n",
       "      <td>0.052774</td>\n",
       "      <td>0.078647</td>\n",
       "      <td>NaN</td>\n",
       "      <td>NaN</td>\n",
       "      <td>NaN</td>\n",
       "    </tr>\n",
       "    <tr>\n",
       "      <th>feature4</th>\n",
       "      <td>-0.293672</td>\n",
       "      <td>0.940250</td>\n",
       "      <td>0.847721</td>\n",
       "      <td>1.000000</td>\n",
       "      <td>0.856621</td>\n",
       "      <td>-0.189586</td>\n",
       "      <td>-0.234388</td>\n",
       "      <td>-0.177170</td>\n",
       "      <td>0.462499</td>\n",
       "      <td>-0.122259</td>\n",
       "      <td>...</td>\n",
       "      <td>0.038677</td>\n",
       "      <td>0.075443</td>\n",
       "      <td>0.030253</td>\n",
       "      <td>0.024280</td>\n",
       "      <td>0.050419</td>\n",
       "      <td>0.038375</td>\n",
       "      <td>0.026250</td>\n",
       "      <td>NaN</td>\n",
       "      <td>NaN</td>\n",
       "      <td>NaN</td>\n",
       "    </tr>\n",
       "    <tr>\n",
       "      <th>feature5</th>\n",
       "      <td>-0.455712</td>\n",
       "      <td>0.746522</td>\n",
       "      <td>0.964556</td>\n",
       "      <td>0.856621</td>\n",
       "      <td>1.000000</td>\n",
       "      <td>-0.370502</td>\n",
       "      <td>-0.486958</td>\n",
       "      <td>-0.351091</td>\n",
       "      <td>0.678597</td>\n",
       "      <td>-0.272247</td>\n",
       "      <td>...</td>\n",
       "      <td>0.039109</td>\n",
       "      <td>0.071033</td>\n",
       "      <td>0.036323</td>\n",
       "      <td>0.036428</td>\n",
       "      <td>0.031672</td>\n",
       "      <td>0.047812</td>\n",
       "      <td>0.035543</td>\n",
       "      <td>NaN</td>\n",
       "      <td>NaN</td>\n",
       "      <td>NaN</td>\n",
       "    </tr>\n",
       "    <tr>\n",
       "      <th>...</th>\n",
       "      <td>...</td>\n",
       "      <td>...</td>\n",
       "      <td>...</td>\n",
       "      <td>...</td>\n",
       "      <td>...</td>\n",
       "      <td>...</td>\n",
       "      <td>...</td>\n",
       "      <td>...</td>\n",
       "      <td>...</td>\n",
       "      <td>...</td>\n",
       "      <td>...</td>\n",
       "      <td>...</td>\n",
       "      <td>...</td>\n",
       "      <td>...</td>\n",
       "      <td>...</td>\n",
       "      <td>...</td>\n",
       "      <td>...</td>\n",
       "      <td>...</td>\n",
       "      <td>...</td>\n",
       "      <td>...</td>\n",
       "      <td>...</td>\n",
       "    </tr>\n",
       "    <tr>\n",
       "      <th>Pb</th>\n",
       "      <td>-0.007323</td>\n",
       "      <td>0.040947</td>\n",
       "      <td>0.052774</td>\n",
       "      <td>0.038375</td>\n",
       "      <td>0.047812</td>\n",
       "      <td>-0.006950</td>\n",
       "      <td>-0.012312</td>\n",
       "      <td>0.009218</td>\n",
       "      <td>0.048532</td>\n",
       "      <td>0.011668</td>\n",
       "      <td>...</td>\n",
       "      <td>-0.000601</td>\n",
       "      <td>-0.002153</td>\n",
       "      <td>-0.000357</td>\n",
       "      <td>-0.000790</td>\n",
       "      <td>-0.001596</td>\n",
       "      <td>1.000000</td>\n",
       "      <td>0.011989</td>\n",
       "      <td>NaN</td>\n",
       "      <td>NaN</td>\n",
       "      <td>NaN</td>\n",
       "    </tr>\n",
       "    <tr>\n",
       "      <th>Bi</th>\n",
       "      <td>0.104758</td>\n",
       "      <td>0.066590</td>\n",
       "      <td>0.078647</td>\n",
       "      <td>0.026250</td>\n",
       "      <td>0.035543</td>\n",
       "      <td>0.064118</td>\n",
       "      <td>0.055389</td>\n",
       "      <td>0.186317</td>\n",
       "      <td>0.078418</td>\n",
       "      <td>0.169601</td>\n",
       "      <td>...</td>\n",
       "      <td>-0.003570</td>\n",
       "      <td>-0.014563</td>\n",
       "      <td>-0.002192</td>\n",
       "      <td>-0.010604</td>\n",
       "      <td>-0.011926</td>\n",
       "      <td>0.011989</td>\n",
       "      <td>1.000000</td>\n",
       "      <td>NaN</td>\n",
       "      <td>NaN</td>\n",
       "      <td>NaN</td>\n",
       "    </tr>\n",
       "    <tr>\n",
       "      <th>Po</th>\n",
       "      <td>NaN</td>\n",
       "      <td>NaN</td>\n",
       "      <td>NaN</td>\n",
       "      <td>NaN</td>\n",
       "      <td>NaN</td>\n",
       "      <td>NaN</td>\n",
       "      <td>NaN</td>\n",
       "      <td>NaN</td>\n",
       "      <td>NaN</td>\n",
       "      <td>NaN</td>\n",
       "      <td>...</td>\n",
       "      <td>NaN</td>\n",
       "      <td>NaN</td>\n",
       "      <td>NaN</td>\n",
       "      <td>NaN</td>\n",
       "      <td>NaN</td>\n",
       "      <td>NaN</td>\n",
       "      <td>NaN</td>\n",
       "      <td>NaN</td>\n",
       "      <td>NaN</td>\n",
       "      <td>NaN</td>\n",
       "    </tr>\n",
       "    <tr>\n",
       "      <th>At</th>\n",
       "      <td>NaN</td>\n",
       "      <td>NaN</td>\n",
       "      <td>NaN</td>\n",
       "      <td>NaN</td>\n",
       "      <td>NaN</td>\n",
       "      <td>NaN</td>\n",
       "      <td>NaN</td>\n",
       "      <td>NaN</td>\n",
       "      <td>NaN</td>\n",
       "      <td>NaN</td>\n",
       "      <td>...</td>\n",
       "      <td>NaN</td>\n",
       "      <td>NaN</td>\n",
       "      <td>NaN</td>\n",
       "      <td>NaN</td>\n",
       "      <td>NaN</td>\n",
       "      <td>NaN</td>\n",
       "      <td>NaN</td>\n",
       "      <td>NaN</td>\n",
       "      <td>NaN</td>\n",
       "      <td>NaN</td>\n",
       "    </tr>\n",
       "    <tr>\n",
       "      <th>Rn</th>\n",
       "      <td>NaN</td>\n",
       "      <td>NaN</td>\n",
       "      <td>NaN</td>\n",
       "      <td>NaN</td>\n",
       "      <td>NaN</td>\n",
       "      <td>NaN</td>\n",
       "      <td>NaN</td>\n",
       "      <td>NaN</td>\n",
       "      <td>NaN</td>\n",
       "      <td>NaN</td>\n",
       "      <td>...</td>\n",
       "      <td>NaN</td>\n",
       "      <td>NaN</td>\n",
       "      <td>NaN</td>\n",
       "      <td>NaN</td>\n",
       "      <td>NaN</td>\n",
       "      <td>NaN</td>\n",
       "      <td>NaN</td>\n",
       "      <td>NaN</td>\n",
       "      <td>NaN</td>\n",
       "      <td>NaN</td>\n",
       "    </tr>\n",
       "  </tbody>\n",
       "</table>\n",
       "<p>168 rows × 168 columns</p>\n",
       "</div>"
      ],
      "text/plain": [
       "          feature1  feature2  feature3  feature4  feature5  feature6  \\\n",
       "feature1  1.000000 -0.143847 -0.355671 -0.293672 -0.455712  0.939222   \n",
       "feature2 -0.143847  1.000000  0.816045  0.940250  0.746522 -0.104769   \n",
       "feature3 -0.355671  0.816045  1.000000  0.847721  0.964556 -0.309041   \n",
       "feature4 -0.293672  0.940250  0.847721  1.000000  0.856621 -0.189586   \n",
       "feature5 -0.455712  0.746522  0.964556  0.856621  1.000000 -0.370502   \n",
       "...            ...       ...       ...       ...       ...       ...   \n",
       "Pb       -0.007323  0.040947  0.052774  0.038375  0.047812 -0.006950   \n",
       "Bi        0.104758  0.066590  0.078647  0.026250  0.035543  0.064118   \n",
       "Po             NaN       NaN       NaN       NaN       NaN       NaN   \n",
       "At             NaN       NaN       NaN       NaN       NaN       NaN   \n",
       "Rn             NaN       NaN       NaN       NaN       NaN       NaN   \n",
       "\n",
       "          feature7  feature8  feature9  feature10  ...        Ir        Pt  \\\n",
       "feature1  0.882318  0.681398 -0.321852   0.511752  ... -0.021827 -0.022415   \n",
       "feature2 -0.100459  0.123859  0.450905   0.195576  ...  0.039385  0.083620   \n",
       "feature3 -0.415397 -0.144756  0.721212  -0.060214  ...  0.044143  0.081542   \n",
       "feature4 -0.234388 -0.177170  0.462499  -0.122259  ...  0.038677  0.075443   \n",
       "feature5 -0.486958 -0.351091  0.678597  -0.272247  ...  0.039109  0.071033   \n",
       "...            ...       ...       ...        ...  ...       ...       ...   \n",
       "Pb       -0.012312  0.009218  0.048532   0.011668  ... -0.000601 -0.002153   \n",
       "Bi        0.055389  0.186317  0.078418   0.169601  ... -0.003570 -0.014563   \n",
       "Po             NaN       NaN       NaN        NaN  ...       NaN       NaN   \n",
       "At             NaN       NaN       NaN        NaN  ...       NaN       NaN   \n",
       "Rn             NaN       NaN       NaN        NaN  ...       NaN       NaN   \n",
       "\n",
       "                Au        Hg        Tl        Pb        Bi  Po  At  Rn  \n",
       "feature1 -0.012088  0.015872  0.062713 -0.007323  0.104758 NaN NaN NaN  \n",
       "feature2  0.029000  0.053613  0.088983  0.040947  0.066590 NaN NaN NaN  \n",
       "feature3  0.037440  0.056701  0.063759  0.052774  0.078647 NaN NaN NaN  \n",
       "feature4  0.030253  0.024280  0.050419  0.038375  0.026250 NaN NaN NaN  \n",
       "feature5  0.036323  0.036428  0.031672  0.047812  0.035543 NaN NaN NaN  \n",
       "...            ...       ...       ...       ...       ...  ..  ..  ..  \n",
       "Pb       -0.000357 -0.000790 -0.001596  1.000000  0.011989 NaN NaN NaN  \n",
       "Bi       -0.002192 -0.010604 -0.011926  0.011989  1.000000 NaN NaN NaN  \n",
       "Po             NaN       NaN       NaN       NaN       NaN NaN NaN NaN  \n",
       "At             NaN       NaN       NaN       NaN       NaN NaN NaN NaN  \n",
       "Rn             NaN       NaN       NaN       NaN       NaN NaN NaN NaN  \n",
       "\n",
       "[168 rows x 168 columns]"
      ]
     },
     "execution_count": 213,
     "metadata": {},
     "output_type": "execute_result"
    }
   ],
   "source": [
    "data.corr()['cri']"
   ]
  },
  {
   "cell_type": "code",
   "execution_count": 227,
   "metadata": {},
   "outputs": [
    {
     "data": {
      "text/plain": [
       "feature1    0.601695\n",
       "feature2    0.115790\n",
       "feature3    0.313932\n",
       "feature4    0.233108\n",
       "feature5    0.371676\n",
       "              ...   \n",
       "Pb          0.013307\n",
       "Bi          0.169786\n",
       "Po               NaN\n",
       "At               NaN\n",
       "Rn               NaN\n",
       "Name: critical_temperature, Length: 168, dtype: float64"
      ]
     },
     "execution_count": 227,
     "metadata": {},
     "output_type": "execute_result"
    }
   ],
   "source": [
    "correlation2 = abs(data.corr()['critical_temperature'])\n",
    "correlation2"
   ]
  },
  {
   "cell_type": "code",
   "execution_count": 231,
   "metadata": {},
   "outputs": [],
   "source": [
    "fet = data[correlation2[correlation2 >=0.2].keys()]"
   ]
  },
  {
   "cell_type": "code",
   "execution_count": 133,
   "metadata": {},
   "outputs": [
    {
     "data": {
      "text/plain": [
       "feature1                0.601695\n",
       "feature2                0.115790\n",
       "feature3                0.313932\n",
       "feature4                0.233108\n",
       "feature5                0.371676\n",
       "                          ...   \n",
       "feature79               0.440456\n",
       "feature80               0.208518\n",
       "feature81               0.301859\n",
       "critical_temperature    1.000000\n",
       "formula                 0.116671\n",
       "Name: critical_temperature, Length: 83, dtype: float64"
      ]
     },
     "execution_count": 133,
     "metadata": {},
     "output_type": "execute_result"
    }
   ],
   "source": [
    "correlation = abs(train.corr()['critical_temperature'])\n",
    "correlation"
   ]
  },
  {
   "cell_type": "code",
   "execution_count": 239,
   "metadata": {},
   "outputs": [],
   "source": [
    "features = train[correlation[correlation >=0.6].keys()]\n",
    "features = data[correlation2[correlation2 >=0.6].keys()]\n",
    "X = features.iloc[:, :-1].values\n",
    "y = features.iloc[:, -1].values"
   ]
  },
  {
   "cell_type": "code",
   "execution_count": 240,
   "metadata": {},
   "outputs": [
    {
     "data": {
      "text/plain": [
       "0.9018408696497004"
      ]
     },
     "execution_count": 240,
     "metadata": {},
     "output_type": "execute_result"
    }
   ],
   "source": []
  },
  {
   "cell_type": "code",
   "execution_count": null,
   "metadata": {},
   "outputs": [],
   "source": [
    "cl.fit(X, y)"
   ]
  },
  {
   "cell_type": "code",
   "execution_count": null,
   "metadata": {},
   "outputs": [],
   "source": []
  }
 ],
 "metadata": {
  "kernelspec": {
   "display_name": "Python 3",
   "language": "python",
   "name": "python3"
  },
  "language_info": {
   "codemirror_mode": {
    "name": "ipython",
    "version": 3
   },
   "file_extension": ".py",
   "mimetype": "text/x-python",
   "name": "python",
   "nbconvert_exporter": "python",
   "pygments_lexer": "ipython3",
   "version": "3.8.5"
  }
 },
 "nbformat": 4,
 "nbformat_minor": 4
}
