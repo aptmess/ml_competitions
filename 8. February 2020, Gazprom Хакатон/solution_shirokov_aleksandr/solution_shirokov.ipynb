{
 "cells": [
  {
   "cell_type": "markdown",
   "metadata": {},
   "source": [
    "# Прогноз проницаемости образцов горной породы по петрофизическим свойствам методами машинного обучения. \n",
    "---\n",
    "\n",
    "<div style=\"text-align: right\"> \n",
    "    \n",
    "    Хакатон Газпром Нефть\n",
    "    \n",
    "    18-19/02/21 \n",
    "    \n",
    "    Александр Широков\n",
    "</div> \n",
    "\n",
    "---"
   ]
  },
  {
   "cell_type": "markdown",
   "metadata": {},
   "source": [
    "## 1. Постановка задачи\n",
    "\n",
    "### 1.1 Признаки \n",
    "\n",
    "Необходимо разработать методику для прогноза проницаемости образцов горной породы по их петрофизическим свойствам методами машинного обучения.\n",
    "Входными признаками являются: \n",
    "<ol>\n",
    "<li>Общая пористость образца ($\\Phi$) - это доля объёма порового пространства в общем объёме горного образца.\n",
    "<li>Профиль пористости образца вдоль оси Z ($\\phi_z$) - локальная пористость горного образца замеренная вдоль оси Z, она показывает степень однородности породы по направлению оси Z.\n",
    "</ol>\n",
    "\n",
    "### 1.2 Целевая функция:\n",
    "\n",
    "Абсолютная проницаемость вдоль оси Z ($k_z$)- это величина, характеризующая способность горного образца пропускать жидкость (или газ) при перепаде давления, типичная размерность мД (миллидарси). Чем это значение выше, тем лучше образец пропускает жидкость."
   ]
  },
  {
   "cell_type": "markdown",
   "metadata": {},
   "source": [
    "## 2. Data\n",
    "\n",
    "Загрузим тренировочные и тестовые данные.\n",
    "\n",
    "### 2.1 Train Data\n",
    "\n",
    "1. Загрузка **общей пористости образцов** ($\\Phi$, porosity):"
   ]
  },
  {
   "cell_type": "code",
   "execution_count": 1,
   "metadata": {},
   "outputs": [],
   "source": [
    "import numpy as np\n",
    "import pandas as pd\n",
    "import matplotlib.pyplot as plt\n",
    "import seaborn as sns"
   ]
  },
  {
   "cell_type": "code",
   "execution_count": 2,
   "metadata": {},
   "outputs": [
    {
     "name": "stdout",
     "output_type": "stream",
     "text": [
      "Количество образцов в обучающей выборке:  100\n"
     ]
    }
   ],
   "source": [
    "train_porosity = np.genfromtxt('porosity.csv',\n",
    "                             invalid_raise=False,\n",
    "                             comments='#',\n",
    "                             delimiter=',')\n",
    "print('Количество образцов в обучающей выборке: ',np.size(train_porosity))"
   ]
  },
  {
   "cell_type": "markdown",
   "metadata": {},
   "source": [
    "2. Загрузка **профиля пористости образца вдоль оси Z** ($\\phi_z$, porosityProfile, был замерен с интервалом 5 мкм):"
   ]
  },
  {
   "cell_type": "code",
   "execution_count": 3,
   "metadata": {},
   "outputs": [
    {
     "name": "stdout",
     "output_type": "stream",
     "text": [
      "Размерность признаков профиля пористости (100, 200)\n"
     ]
    }
   ],
   "source": [
    "train_porosityProfile = np.genfromtxt('porosityProfile.csv',\n",
    "                                  invalid_raise=False,\n",
    "                                  comments='#',\n",
    "                                  delimiter=',')\n",
    "print(f'Размерность признаков профиля пористости {train_porosityProfile.shape}')"
   ]
  },
  {
   "cell_type": "markdown",
   "metadata": {},
   "source": [
    "3. Загрузка абсолютной проницаемости вдоль оси Z ($k_z$, permeabilityZ) - целевой признак $Y$:"
   ]
  },
  {
   "cell_type": "code",
   "execution_count": 4,
   "metadata": {},
   "outputs": [],
   "source": [
    "train_permeabilityZ = np.genfromtxt('permeabilityZ.csv',\n",
    "                                    invalid_raise=False,\n",
    "                                    comments='#',\n",
    "                                    delimiter=',')"
   ]
  },
  {
   "cell_type": "markdown",
   "metadata": {},
   "source": [
    "### 2.2 Test Data\n",
    "\n",
    "1. Загрузка **общей пористости образцов** ($\\Phi$, porosity):"
   ]
  },
  {
   "cell_type": "code",
   "execution_count": 5,
   "metadata": {},
   "outputs": [
    {
     "name": "stdout",
     "output_type": "stream",
     "text": [
      "Количество образцов в тестовой выборке:  100\n"
     ]
    }
   ],
   "source": [
    "test_porosity = np.genfromtxt('test_porosity.csv',\n",
    "                            invalid_raise=False,\n",
    "                            comments='#',\n",
    "                            delimiter=',')\n",
    "print('Количество образцов в тестовой выборке: ',np.size(test_porosity))"
   ]
  },
  {
   "cell_type": "markdown",
   "metadata": {},
   "source": [
    "2. Загрузка **профиля пористости образца вдоль оси Z** ($\\phi_z$, porosityProfile"
   ]
  },
  {
   "cell_type": "code",
   "execution_count": 6,
   "metadata": {},
   "outputs": [
    {
     "name": "stdout",
     "output_type": "stream",
     "text": [
      "Размерность признаков профиля пористости (100, 200)\n"
     ]
    }
   ],
   "source": [
    "test_porosityProfile = np.genfromtxt('test_porosityProfile.csv',\n",
    "                                     invalid_raise=False,\n",
    "                                     comments='#',\n",
    "                                     delimiter=',')\n",
    "print(f'Размерность признаков профиля пористости {test_porosityProfile.shape}')"
   ]
  },
  {
   "cell_type": "markdown",
   "metadata": {},
   "source": [
    "## 3. Explore Analyse\n",
    "\n",
    "### 3.1 All Answer in Data\n",
    "\n",
    "Для начала воспроизведём некоторые действия из `baseline` решения - отобразим зависимость *абсолютной проницаемости* от *общей пористости*:"
   ]
  },
  {
   "cell_type": "code",
   "execution_count": 7,
   "metadata": {},
   "outputs": [
    {
     "data": {
      "image/png": "[encoded data removed]",
      "text/plain": [
       "<Figure size 1152x576 with 2 Axes>"
      ]
     },
     "metadata": {
      "needs_background": "light"
     },
     "output_type": "display_data"
    }
   ],
   "source": [
    "fig, ax = plt.subplots(1, 2, figsize=(16, 8))\n",
    "ax[0].scatter(train_porosity, train_permeabilityZ, color='darkblue')\n",
    "ax[0].set_xlabel('$\\Phi$')\n",
    "ax[0].set_title('Обычный мастшаб')\n",
    "ax[0].set_ylabel('$k_z$ (мД)')\n",
    "ax[1].semilogy(train_porosity, train_permeabilityZ, 'or')\n",
    "ax[1].set_xlabel('$\\Phi$')\n",
    "ax[1].set_ylabel('$k_z$ (мД)')\n",
    "ax[1].set_title('Логарифимечский масштаб')\n",
    "plt.show()"
   ]
  },
  {
   "cell_type": "markdown",
   "metadata": {},
   "source": [
    "В `baseline` решении было сделано, логичное предположение, что зависимость проявляется через экспоненциальную функцию. Но, может, зависимость можно уточнить с помощью признаков *профиля пористости образца вдоль оси Z*? Я решил проверить это, и первое сомнение закралось у меня, когда я решил построить корреляционную матрицу признаков:"
   ]
  },
  {
   "cell_type": "code",
   "execution_count": 8,
   "metadata": {},
   "outputs": [
    {
     "data": {
      "text/html": [
       "<div>\n",
       "<style scoped>\n",
       "    .dataframe tbody tr th:only-of-type {\n",
       "        vertical-align: middle;\n",
       "    }\n",
       "\n",
       "    .dataframe tbody tr th {\n",
       "        vertical-align: top;\n",
       "    }\n",
       "\n",
       "    .dataframe thead th {\n",
       "        text-align: right;\n",
       "    }\n",
       "</style>\n",
       "<table border=\"1\" class=\"dataframe\">\n",
       "  <thead>\n",
       "    <tr style=\"text-align: right;\">\n",
       "      <th></th>\n",
       "      <th>porosity</th>\n",
       "      <th>k_1</th>\n",
       "      <th>k_2</th>\n",
       "      <th>k_3</th>\n",
       "      <th>k_4</th>\n",
       "      <th>k_5</th>\n",
       "      <th>k_6</th>\n",
       "      <th>k_7</th>\n",
       "      <th>k_8</th>\n",
       "      <th>k_9</th>\n",
       "      <th>...</th>\n",
       "      <th>k_192</th>\n",
       "      <th>k_193</th>\n",
       "      <th>k_194</th>\n",
       "      <th>k_195</th>\n",
       "      <th>k_196</th>\n",
       "      <th>k_197</th>\n",
       "      <th>k_198</th>\n",
       "      <th>k_199</th>\n",
       "      <th>k_200</th>\n",
       "      <th>Y</th>\n",
       "    </tr>\n",
       "  </thead>\n",
       "  <tbody>\n",
       "    <tr>\n",
       "      <th>porosity</th>\n",
       "      <td>1.000000</td>\n",
       "      <td>0.854964</td>\n",
       "      <td>0.856588</td>\n",
       "      <td>0.858928</td>\n",
       "      <td>0.864524</td>\n",
       "      <td>0.869726</td>\n",
       "      <td>0.876164</td>\n",
       "      <td>0.884154</td>\n",
       "      <td>0.890864</td>\n",
       "      <td>0.896278</td>\n",
       "      <td>...</td>\n",
       "      <td>0.935272</td>\n",
       "      <td>0.931634</td>\n",
       "      <td>0.927921</td>\n",
       "      <td>0.924229</td>\n",
       "      <td>0.918044</td>\n",
       "      <td>0.909635</td>\n",
       "      <td>0.899475</td>\n",
       "      <td>0.892064</td>\n",
       "      <td>0.888014</td>\n",
       "      <td>0.872960</td>\n",
       "    </tr>\n",
       "    <tr>\n",
       "      <th>k_1</th>\n",
       "      <td>0.854964</td>\n",
       "      <td>1.000000</td>\n",
       "      <td>0.999841</td>\n",
       "      <td>0.998645</td>\n",
       "      <td>0.994375</td>\n",
       "      <td>0.985663</td>\n",
       "      <td>0.972690</td>\n",
       "      <td>0.955570</td>\n",
       "      <td>0.935755</td>\n",
       "      <td>0.912288</td>\n",
       "      <td>...</td>\n",
       "      <td>0.806596</td>\n",
       "      <td>0.810321</td>\n",
       "      <td>0.812001</td>\n",
       "      <td>0.814023</td>\n",
       "      <td>0.813938</td>\n",
       "      <td>0.807523</td>\n",
       "      <td>0.800208</td>\n",
       "      <td>0.794044</td>\n",
       "      <td>0.790734</td>\n",
       "      <td>0.714721</td>\n",
       "    </tr>\n",
       "    <tr>\n",
       "      <th>k_2</th>\n",
       "      <td>0.856588</td>\n",
       "      <td>0.999841</td>\n",
       "      <td>1.000000</td>\n",
       "      <td>0.999344</td>\n",
       "      <td>0.995887</td>\n",
       "      <td>0.988035</td>\n",
       "      <td>0.975814</td>\n",
       "      <td>0.959306</td>\n",
       "      <td>0.939949</td>\n",
       "      <td>0.916929</td>\n",
       "      <td>...</td>\n",
       "      <td>0.807361</td>\n",
       "      <td>0.810956</td>\n",
       "      <td>0.812581</td>\n",
       "      <td>0.814614</td>\n",
       "      <td>0.814517</td>\n",
       "      <td>0.808119</td>\n",
       "      <td>0.800841</td>\n",
       "      <td>0.794722</td>\n",
       "      <td>0.791421</td>\n",
       "      <td>0.716723</td>\n",
       "    </tr>\n",
       "    <tr>\n",
       "      <th>k_3</th>\n",
       "      <td>0.858928</td>\n",
       "      <td>0.998645</td>\n",
       "      <td>0.999344</td>\n",
       "      <td>1.000000</td>\n",
       "      <td>0.998359</td>\n",
       "      <td>0.992431</td>\n",
       "      <td>0.981941</td>\n",
       "      <td>0.966990</td>\n",
       "      <td>0.948805</td>\n",
       "      <td>0.926833</td>\n",
       "      <td>...</td>\n",
       "      <td>0.807629</td>\n",
       "      <td>0.810939</td>\n",
       "      <td>0.812486</td>\n",
       "      <td>0.814530</td>\n",
       "      <td>0.814486</td>\n",
       "      <td>0.808141</td>\n",
       "      <td>0.801019</td>\n",
       "      <td>0.794992</td>\n",
       "      <td>0.791749</td>\n",
       "      <td>0.718428</td>\n",
       "    </tr>\n",
       "    <tr>\n",
       "      <th>k_4</th>\n",
       "      <td>0.864524</td>\n",
       "      <td>0.994375</td>\n",
       "      <td>0.995887</td>\n",
       "      <td>0.998359</td>\n",
       "      <td>1.000000</td>\n",
       "      <td>0.997568</td>\n",
       "      <td>0.990259</td>\n",
       "      <td>0.978228</td>\n",
       "      <td>0.962441</td>\n",
       "      <td>0.942602</td>\n",
       "      <td>...</td>\n",
       "      <td>0.810468</td>\n",
       "      <td>0.813553</td>\n",
       "      <td>0.815224</td>\n",
       "      <td>0.817218</td>\n",
       "      <td>0.817109</td>\n",
       "      <td>0.810774</td>\n",
       "      <td>0.803773</td>\n",
       "      <td>0.797834</td>\n",
       "      <td>0.794633</td>\n",
       "      <td>0.723757</td>\n",
       "    </tr>\n",
       "    <tr>\n",
       "      <th>...</th>\n",
       "      <td>...</td>\n",
       "      <td>...</td>\n",
       "      <td>...</td>\n",
       "      <td>...</td>\n",
       "      <td>...</td>\n",
       "      <td>...</td>\n",
       "      <td>...</td>\n",
       "      <td>...</td>\n",
       "      <td>...</td>\n",
       "      <td>...</td>\n",
       "      <td>...</td>\n",
       "      <td>...</td>\n",
       "      <td>...</td>\n",
       "      <td>...</td>\n",
       "      <td>...</td>\n",
       "      <td>...</td>\n",
       "      <td>...</td>\n",
       "      <td>...</td>\n",
       "      <td>...</td>\n",
       "      <td>...</td>\n",
       "      <td>...</td>\n",
       "    </tr>\n",
       "    <tr>\n",
       "      <th>k_197</th>\n",
       "      <td>0.909635</td>\n",
       "      <td>0.807523</td>\n",
       "      <td>0.808119</td>\n",
       "      <td>0.808141</td>\n",
       "      <td>0.810774</td>\n",
       "      <td>0.811840</td>\n",
       "      <td>0.813304</td>\n",
       "      <td>0.813401</td>\n",
       "      <td>0.812240</td>\n",
       "      <td>0.808392</td>\n",
       "      <td>...</td>\n",
       "      <td>0.951935</td>\n",
       "      <td>0.966745</td>\n",
       "      <td>0.980062</td>\n",
       "      <td>0.990687</td>\n",
       "      <td>0.997575</td>\n",
       "      <td>1.000000</td>\n",
       "      <td>0.998105</td>\n",
       "      <td>0.995078</td>\n",
       "      <td>0.993002</td>\n",
       "      <td>0.812183</td>\n",
       "    </tr>\n",
       "    <tr>\n",
       "      <th>k_198</th>\n",
       "      <td>0.899475</td>\n",
       "      <td>0.800208</td>\n",
       "      <td>0.800841</td>\n",
       "      <td>0.801019</td>\n",
       "      <td>0.803773</td>\n",
       "      <td>0.804821</td>\n",
       "      <td>0.806370</td>\n",
       "      <td>0.806232</td>\n",
       "      <td>0.804858</td>\n",
       "      <td>0.800673</td>\n",
       "      <td>...</td>\n",
       "      <td>0.936764</td>\n",
       "      <td>0.952902</td>\n",
       "      <td>0.968124</td>\n",
       "      <td>0.981428</td>\n",
       "      <td>0.991826</td>\n",
       "      <td>0.998105</td>\n",
       "      <td>1.000000</td>\n",
       "      <td>0.999217</td>\n",
       "      <td>0.998248</td>\n",
       "      <td>0.799739</td>\n",
       "    </tr>\n",
       "    <tr>\n",
       "      <th>k_199</th>\n",
       "      <td>0.892064</td>\n",
       "      <td>0.794044</td>\n",
       "      <td>0.794722</td>\n",
       "      <td>0.794992</td>\n",
       "      <td>0.797834</td>\n",
       "      <td>0.798923</td>\n",
       "      <td>0.800543</td>\n",
       "      <td>0.800315</td>\n",
       "      <td>0.798916</td>\n",
       "      <td>0.794625</td>\n",
       "      <td>...</td>\n",
       "      <td>0.926004</td>\n",
       "      <td>0.942778</td>\n",
       "      <td>0.959133</td>\n",
       "      <td>0.974016</td>\n",
       "      <td>0.986471</td>\n",
       "      <td>0.995078</td>\n",
       "      <td>0.999217</td>\n",
       "      <td>1.000000</td>\n",
       "      <td>0.999781</td>\n",
       "      <td>0.791805</td>\n",
       "    </tr>\n",
       "    <tr>\n",
       "      <th>k_200</th>\n",
       "      <td>0.888014</td>\n",
       "      <td>0.790734</td>\n",
       "      <td>0.791421</td>\n",
       "      <td>0.791749</td>\n",
       "      <td>0.794633</td>\n",
       "      <td>0.795719</td>\n",
       "      <td>0.797367</td>\n",
       "      <td>0.797148</td>\n",
       "      <td>0.795764</td>\n",
       "      <td>0.791437</td>\n",
       "      <td>...</td>\n",
       "      <td>0.920197</td>\n",
       "      <td>0.937218</td>\n",
       "      <td>0.954052</td>\n",
       "      <td>0.969703</td>\n",
       "      <td>0.983218</td>\n",
       "      <td>0.993002</td>\n",
       "      <td>0.998248</td>\n",
       "      <td>0.999781</td>\n",
       "      <td>1.000000</td>\n",
       "      <td>0.787216</td>\n",
       "    </tr>\n",
       "    <tr>\n",
       "      <th>Y</th>\n",
       "      <td>0.872960</td>\n",
       "      <td>0.714721</td>\n",
       "      <td>0.716723</td>\n",
       "      <td>0.718428</td>\n",
       "      <td>0.723757</td>\n",
       "      <td>0.729869</td>\n",
       "      <td>0.740378</td>\n",
       "      <td>0.752048</td>\n",
       "      <td>0.767663</td>\n",
       "      <td>0.781214</td>\n",
       "      <td>...</td>\n",
       "      <td>0.826551</td>\n",
       "      <td>0.825672</td>\n",
       "      <td>0.823173</td>\n",
       "      <td>0.823398</td>\n",
       "      <td>0.820745</td>\n",
       "      <td>0.812183</td>\n",
       "      <td>0.799739</td>\n",
       "      <td>0.791805</td>\n",
       "      <td>0.787216</td>\n",
       "      <td>1.000000</td>\n",
       "    </tr>\n",
       "  </tbody>\n",
       "</table>\n",
       "<p>202 rows × 202 columns</p>\n",
       "</div>"
      ],
      "text/plain": [
       "          porosity       k_1       k_2       k_3       k_4       k_5  \\\n",
       "porosity  1.000000  0.854964  0.856588  0.858928  0.864524  0.869726   \n",
       "k_1       0.854964  1.000000  0.999841  0.998645  0.994375  0.985663   \n",
       "k_2       0.856588  0.999841  1.000000  0.999344  0.995887  0.988035   \n",
       "k_3       0.858928  0.998645  0.999344  1.000000  0.998359  0.992431   \n",
       "k_4       0.864524  0.994375  0.995887  0.998359  1.000000  0.997568   \n",
       "...            ...       ...       ...       ...       ...       ...   \n",
       "k_197     0.909635  0.807523  0.808119  0.808141  0.810774  0.811840   \n",
       "k_198     0.899475  0.800208  0.800841  0.801019  0.803773  0.804821   \n",
       "k_199     0.892064  0.794044  0.794722  0.794992  0.797834  0.798923   \n",
       "k_200     0.888014  0.790734  0.791421  0.791749  0.794633  0.795719   \n",
       "Y         0.872960  0.714721  0.716723  0.718428  0.723757  0.729869   \n",
       "\n",
       "               k_6       k_7       k_8       k_9  ...     k_192     k_193  \\\n",
       "porosity  0.876164  0.884154  0.890864  0.896278  ...  0.935272  0.931634   \n",
       "k_1       0.972690  0.955570  0.935755  0.912288  ...  0.806596  0.810321   \n",
       "k_2       0.975814  0.959306  0.939949  0.916929  ...  0.807361  0.810956   \n",
       "k_3       0.981941  0.966990  0.948805  0.926833  ...  0.807629  0.810939   \n",
       "k_4       0.990259  0.978228  0.962441  0.942602  ...  0.810468  0.813553   \n",
       "...            ...       ...       ...       ...  ...       ...       ...   \n",
       "k_197     0.813304  0.813401  0.812240  0.808392  ...  0.951935  0.966745   \n",
       "k_198     0.806370  0.806232  0.804858  0.800673  ...  0.936764  0.952902   \n",
       "k_199     0.800543  0.800315  0.798916  0.794625  ...  0.926004  0.942778   \n",
       "k_200     0.797367  0.797148  0.795764  0.791437  ...  0.920197  0.937218   \n",
       "Y         0.740378  0.752048  0.767663  0.781214  ...  0.826551  0.825672   \n",
       "\n",
       "             k_194     k_195     k_196     k_197     k_198     k_199  \\\n",
       "porosity  0.927921  0.924229  0.918044  0.909635  0.899475  0.892064   \n",
       "k_1       0.812001  0.814023  0.813938  0.807523  0.800208  0.794044   \n",
       "k_2       0.812581  0.814614  0.814517  0.808119  0.800841  0.794722   \n",
       "k_3       0.812486  0.814530  0.814486  0.808141  0.801019  0.794992   \n",
       "k_4       0.815224  0.817218  0.817109  0.810774  0.803773  0.797834   \n",
       "...            ...       ...       ...       ...       ...       ...   \n",
       "k_197     0.980062  0.990687  0.997575  1.000000  0.998105  0.995078   \n",
       "k_198     0.968124  0.981428  0.991826  0.998105  1.000000  0.999217   \n",
       "k_199     0.959133  0.974016  0.986471  0.995078  0.999217  1.000000   \n",
       "k_200     0.954052  0.969703  0.983218  0.993002  0.998248  0.999781   \n",
       "Y         0.823173  0.823398  0.820745  0.812183  0.799739  0.791805   \n",
       "\n",
       "             k_200         Y  \n",
       "porosity  0.888014  0.872960  \n",
       "k_1       0.790734  0.714721  \n",
       "k_2       0.791421  0.716723  \n",
       "k_3       0.791749  0.718428  \n",
       "k_4       0.794633  0.723757  \n",
       "...            ...       ...  \n",
       "k_197     0.993002  0.812183  \n",
       "k_198     0.998248  0.799739  \n",
       "k_199     0.999781  0.791805  \n",
       "k_200     1.000000  0.787216  \n",
       "Y         0.787216  1.000000  \n",
       "\n",
       "[202 rows x 202 columns]"
      ]
     },
     "execution_count": 8,
     "metadata": {},
     "output_type": "execute_result"
    }
   ],
   "source": [
    "columns = ['porosity'] + [f'k_{z}' for z in range(1, 201)] + ['Y']\n",
    "data = pd.DataFrame(data=np.concatenate((train_porosity.reshape(-1, 1), \n",
    "                                         train_porosityProfile, \n",
    "                                         train_permeabilityZ.reshape(-1, 1)), \n",
    "                                        axis=1), \n",
    "                    columns=columns)\n",
    "data.corr()"
   ]
  },
  {
   "cell_type": "markdown",
   "metadata": {},
   "source": [
    "Показалась удивительной такая мультикоррелярность признаков между собой - конечно, в регресии такие признаки применять нельзя, так как определитель корреляционной матрицы признаков примерно равен нулю (все коэффициенты корреляции близки к 1).\n",
    "\n",
    "Эта ситуация с матрицей корреляцией натолкнула меня на мысль проверить данные на функциональную зависимость... и я взял среднее по оси `axis=1` данных признаков."
   ]
  },
  {
   "cell_type": "code",
   "execution_count": 9,
   "metadata": {},
   "outputs": [],
   "source": [
    "data2 = pd.DataFrame(data=np.concatenate((train_porosity.reshape(-1, 1), \n",
    "                                          train_porosityProfile.mean(axis=1).reshape(-1, 1), \n",
    "                                          train_permeabilityZ.reshape(-1, 1)), axis=1), \n",
    "                     columns=['porosity', 'mean', 'Y'])"
   ]
  },
  {
   "cell_type": "code",
   "execution_count": 10,
   "metadata": {},
   "outputs": [
    {
     "data": {
      "text/plain": [
       "1.9279638981753172e-16"
      ]
     },
     "execution_count": 10,
     "metadata": {},
     "output_type": "execute_result"
    }
   ],
   "source": [
    "np.linalg.norm(train_porosity - train_porosityProfile.mean(axis=1))"
   ]
  },
  {
   "cell_type": "code",
   "execution_count": 11,
   "metadata": {},
   "outputs": [
    {
     "data": {
      "text/html": [
       "<div>\n",
       "<style scoped>\n",
       "    .dataframe tbody tr th:only-of-type {\n",
       "        vertical-align: middle;\n",
       "    }\n",
       "\n",
       "    .dataframe tbody tr th {\n",
       "        vertical-align: top;\n",
       "    }\n",
       "\n",
       "    .dataframe thead th {\n",
       "        text-align: right;\n",
       "    }\n",
       "</style>\n",
       "<table border=\"1\" class=\"dataframe\">\n",
       "  <thead>\n",
       "    <tr style=\"text-align: right;\">\n",
       "      <th></th>\n",
       "      <th>porosity</th>\n",
       "      <th>mean</th>\n",
       "      <th>Y</th>\n",
       "    </tr>\n",
       "  </thead>\n",
       "  <tbody>\n",
       "    <tr>\n",
       "      <th>porosity</th>\n",
       "      <td>1.00000</td>\n",
       "      <td>1.00000</td>\n",
       "      <td>0.87296</td>\n",
       "    </tr>\n",
       "    <tr>\n",
       "      <th>mean</th>\n",
       "      <td>1.00000</td>\n",
       "      <td>1.00000</td>\n",
       "      <td>0.87296</td>\n",
       "    </tr>\n",
       "    <tr>\n",
       "      <th>Y</th>\n",
       "      <td>0.87296</td>\n",
       "      <td>0.87296</td>\n",
       "      <td>1.00000</td>\n",
       "    </tr>\n",
       "  </tbody>\n",
       "</table>\n",
       "</div>"
      ],
      "text/plain": [
       "          porosity     mean        Y\n",
       "porosity   1.00000  1.00000  0.87296\n",
       "mean       1.00000  1.00000  0.87296\n",
       "Y          0.87296  0.87296  1.00000"
      ]
     },
     "execution_count": 11,
     "metadata": {},
     "output_type": "execute_result"
    }
   ],
   "source": [
    "data2.corr()"
   ]
  },
  {
   "cell_type": "markdown",
   "metadata": {},
   "source": [
    "Вау! Оказалось, что общая пористость совпадает со средним значениями по строкам матрицы признаков *профиля пористости образца по оси Z*. Проверим на тестовых данных:"
   ]
  },
  {
   "cell_type": "code",
   "execution_count": 12,
   "metadata": {},
   "outputs": [
    {
     "data": {
      "text/plain": [
       "2.0014830212433605e-16"
      ]
     },
     "execution_count": 12,
     "metadata": {},
     "output_type": "execute_result"
    }
   ],
   "source": [
    "np.linalg.norm(test_porosity - test_porosityProfile.mean(axis=1))"
   ]
  },
  {
   "cell_type": "markdown",
   "metadata": {},
   "source": [
    "Ура - признаки профиля пористости образца вдоль оси Z можно не рассматривать и предсказывать зависимость по единственному признаку - общей пористости образцов."
   ]
  },
  {
   "cell_type": "markdown",
   "metadata": {},
   "source": [
    "### 3.2 Распределение целевой переменной"
   ]
  },
  {
   "cell_type": "markdown",
   "metadata": {},
   "source": [
    "Для линейной регрессии существует предположение о нормальном распределении целевой переменной, но в данной задаче (как мы увидим чуть позже), распределение не является нормальным. Отобразим гистограмму распределения, используя количество столбцов по методу Стёржеса."
   ]
  },
  {
   "cell_type": "code",
   "execution_count": 13,
   "metadata": {},
   "outputs": [
    {
     "data": {
      "image/png": "[encoded data removed]",
      "text/plain": [
       "<Figure size 864x576 with 1 Axes>"
      ]
     },
     "metadata": {
      "needs_background": "light"
     },
     "output_type": "display_data"
    }
   ],
   "source": [
    "fig, ax = plt.subplots(1, 1, figsize = (12, 8))\n",
    "sturges_bins = 1 + int(np.log2(train_permeabilityZ.size))\n",
    "sns.histplot(train_permeabilityZ, \n",
    "             ax = ax, \n",
    "             bins = sturges_bins, \n",
    "             label = fr'$k_z$ (мД) $m = log_2 n = $ {sturges_bins} ')\n",
    "ax.legend(fontsize = 18)\n",
    "plt.show()"
   ]
  },
  {
   "cell_type": "markdown",
   "metadata": {},
   "source": [
    "Задача оценивания плотности является отдельной задачей, которую по=хорошему стоило бы провести, но данное распределение является очень схожим с распределением Пуассона при $\\lambda \\approx 1$, но так же может быть похоже на [tweedie распределение](https://en.wikipedia.org/wiki/Tweedie_distribution) и `gamma` (при некоторых параметрах). \n",
    "\n",
    "Для чего мы оцениваем плотность? Чтобы применить `Generalized Linear Regression`. В модели линейной регрессии делается предположение о том, что компоненты y независимые нормально распределенные случайные величины с постоянной дисперсией. С помощью данного метода мы можем расшиить предположение, чтобы использовать любое распределение из тех, что принадлежат экспоненциальному:\n",
    "\n",
    "$$p(x,v) = g(x) \\cdot e^{xv - d(v)} \\in P_v$$\n",
    "\n",
    "где $E\\xi = d'(v)$, а $D\\xi = d''(v)$.\n",
    "\n",
    "Идея состоит в следующем. Необходимо сделать следующее - если обозначить, то $Y_i \\sim P_v$, где в качестве параметра $v$ используются скалярное произведение $\\langle \\overset{\\to}{X_i}, \\overset{\\to}{\\beta}\\rangle$.\n",
    "\n",
    "Нам повезло, что по сути нам неважно какое из трех распределений здесь изображено - важно, что функция связи является логистической для всех трёх распределений."
   ]
  },
  {
   "cell_type": "markdown",
   "metadata": {},
   "source": [
    "Будем использовать модель `GLM` с предположением о распределении Пуассона, разобьём выборку на `train` и валидацию, подберём параметр регуляризации и предскажем значение по тестовому набору данных - вот, что будет происходить в следующем пункте."
   ]
  },
  {
   "cell_type": "markdown",
   "metadata": {},
   "source": [
    "## 4. Train & Validation"
   ]
  },
  {
   "cell_type": "markdown",
   "metadata": {},
   "source": [
    "Используем реализованную `GLM` модель из `sklearn`:"
   ]
  },
  {
   "cell_type": "code",
   "execution_count": 14,
   "metadata": {},
   "outputs": [],
   "source": [
    "from sklearn.linear_model import TweedieRegressor"
   ]
  },
  {
   "cell_type": "markdown",
   "metadata": {},
   "source": [
    "В качестве кросс-валидационного метода будем использовать перекрёстную проверку по фолдам `KFold CV`:"
   ]
  },
  {
   "cell_type": "code",
   "execution_count": 15,
   "metadata": {},
   "outputs": [],
   "source": [
    "from sklearn.model_selection import KFold"
   ]
  },
  {
   "cell_type": "code",
   "execution_count": 16,
   "metadata": {},
   "outputs": [],
   "source": [
    "cv = KFold(n_splits=5, shuffle=True)"
   ]
  },
  {
   "cell_type": "markdown",
   "metadata": {},
   "source": [
    "В качестве оценки качества модели будем использовать следующие функции ошибки:\n",
    "\n",
    "- названную в `baseline` *среднюю относительная ошибка прогноза по обучающей выборке*, иначе называемую `MAPE` (Mean Absolute Percent Error):\n",
    "\n",
    "$$\\text{MAPE} = \\frac{1}{n}\\sum\\limits_{i=1}^n \\frac{\\vert y_i - \\hat{y}_i \\vert }{\\vert y_i \\vert}$$\n",
    "\n",
    "где $y_i$ - истинный ответ, а $\\hat{y}_i$ - ответ нашего алгоритма на $i$-м объекте.\n",
    "\n",
    "- `R2` - коэффициент детерминации, доля объяснённой дисперсии:\n",
    "\n",
    "$$R^2 = \\frac{\\sum\\limits_{i=1}^n \\left(\\hat{y}_i - \\bar{y}\\right)^2}{\\sum\\limits_{i=1}^n \\left(y_i - \\bar{y}\\right)^2}$$"
   ]
  },
  {
   "cell_type": "code",
   "execution_count": 17,
   "metadata": {},
   "outputs": [],
   "source": [
    "from sklearn.metrics import r2_score"
   ]
  },
  {
   "cell_type": "code",
   "execution_count": 18,
   "metadata": {},
   "outputs": [],
   "source": [
    "def mean_absolute_percent_error(y_true: np.array, y_pred: np.array):\n",
    "    return np.mean(np.abs((y_true - y_pred)) / np.abs(y_pred))"
   ]
  },
  {
   "cell_type": "markdown",
   "metadata": {},
   "source": [
    "В более привычное обозначение перевёдем наш признак и целевую переменную:"
   ]
  },
  {
   "cell_type": "code",
   "execution_count": 19,
   "metadata": {},
   "outputs": [],
   "source": [
    "X = train_porosity[:, np.newaxis]\n",
    "y = train_permeabilityZ"
   ]
  },
  {
   "cell_type": "markdown",
   "metadata": {},
   "source": [
    "Будем перебирать `GridSearch` по следующим параметрам:\n",
    "\n",
    "-  `power` отвечает за выбор распределения:\n",
    "    - 1 - `Poisson` распределение (первое предположение)\n",
    "    - 1.5 - `Tweedy` распределение (второе)\n",
    "- `alpha` - параметр регуляризации"
   ]
  },
  {
   "cell_type": "code",
   "execution_count": 20,
   "metadata": {},
   "outputs": [
    {
     "data": {
      "text/plain": [
       "TweedieRegressor(alpha=0.18, link='log', power=1.0)"
      ]
     },
     "execution_count": 20,
     "metadata": {},
     "output_type": "execute_result"
    }
   ],
   "source": [
    "from sklearn.model_selection import GridSearchCV\n",
    "parameters = {'alpha': np.arange(0, 1, 0.01), \n",
    "              'power': [1.0, 1.5]}\n",
    "estimator = TweedieRegressor(link='log')\n",
    "clf = GridSearchCV(estimator, parameters, cv=cv, scoring='r2')\n",
    "clf.fit(X, y)\n",
    "clf.best_estimator_"
   ]
  },
  {
   "cell_type": "markdown",
   "metadata": {},
   "source": [
    "Для большей уверенности создадим ансамбль из $10$ регрессоров."
   ]
  },
  {
   "cell_type": "code",
   "execution_count": 36,
   "metadata": {},
   "outputs": [
    {
     "name": "stdout",
     "output_type": "stream",
     "text": [
      "iteration 0, R2: 0.9267835911626046, MAPE: 0.49583457015309784\n",
      "iteration 1, R2: 0.9381294168617865, MAPE: 0.4952676876830381\n",
      "iteration 2, R2: 0.9161171717672338, MAPE: 0.5022237463050956\n",
      "iteration 3, R2: 0.9265910339680051, MAPE: 0.49947411590856045\n",
      "iteration 4, R2: 0.9254860933852808, MAPE: 0.49953975015224816\n",
      "iteration 5, R2: 0.9308745991466381, MAPE: 0.49712580408203094\n",
      "iteration 6, R2: 0.933291071242255, MAPE: 0.49743287740873543\n",
      "iteration 7, R2: 0.9289346760052236, MAPE: 0.500707591150069\n",
      "iteration 8, R2: 0.9314364099844802, MAPE: 0.5013647482557603\n",
      "iteration 9, R2: 0.9276128878028572, MAPE: 0.4970713168348128\n"
     ]
    }
   ],
   "source": [
    "classifiers = []\n",
    "for i in range(10):\n",
    "    r2 = []\n",
    "    mape = []\n",
    "    cl = TweedieRegressor(power=1.0, alpha=0.09, link='log')\n",
    "    for train_index, test_index in cv.split(X):\n",
    "        X_train, X_test = X[train_index], X[test_index]\n",
    "        y_train, y_test = y[train_index], y[test_index]\n",
    "        cl.fit(X_train, y_train)\n",
    "        r2.append(r2_score(y_true=y_test, \n",
    "                           y_pred=cl.predict(X_test)))\n",
    "\n",
    "        mape.append(mean_absolute_percent_error(y_true=y_test, \n",
    "                           y_pred=cl.predict(X_test)))\n",
    "\n",
    "        # получим 5 оптимальных классификаторов\n",
    "    classifiers.append(cl)\n",
    "    print(f'iteration {i}, R2: {np.mean(r2)}, MAPE: {np.mean(mape)}')"
   ]
  },
  {
   "cell_type": "markdown",
   "metadata": {},
   "source": [
    "Путём проб было выяснено, что коэффициент регуляризации `0.09` уменьшает значение ошибки по метрике `MAPE`, которая использовалась в `baseline` - поэтому использую такое значение `alpha`. Заметим, что ошибку мы улучшили по сравнению с `baseline` решением более чем в $2$ раза.\n",
    "\n",
    "Модель является достоверной, работает для любой проницаемости, протестирована на кросс-валидации и с помощью перебора параметров найдены лучшие.\n",
    "\n",
    "Сделаем предсказание на тестовых данных."
   ]
  },
  {
   "cell_type": "markdown",
   "metadata": {},
   "source": [
    "## 5. Submission"
   ]
  },
  {
   "cell_type": "code",
   "execution_count": 37,
   "metadata": {},
   "outputs": [],
   "source": [
    "res = []\n",
    "for c in classifiers:\n",
    "    res.append(c.predict(test_porosity[:, np.newaxis]))\n",
    "dat = pd.DataFrame(np.array(res).T)"
   ]
  },
  {
   "cell_type": "code",
   "execution_count": 38,
   "metadata": {},
   "outputs": [],
   "source": [
    "submission = dat.mean(axis=1)"
   ]
  },
  {
   "cell_type": "code",
   "execution_count": 39,
   "metadata": {},
   "outputs": [],
   "source": [
    "np.savetxt('prediction_permeabilityZ.csv', \n",
    "           submission, \n",
    "           header='абсолютная проницаемость вдоль оси Z (мД)',\n",
    "           delimiter=\",\", \n",
    "           encoding='utf-8')"
   ]
  },
  {
   "cell_type": "markdown",
   "metadata": {},
   "source": [
    "## 6. Заключение"
   ]
  },
  {
   "cell_type": "markdown",
   "metadata": {},
   "source": [
    "В данной работе был проведён предварительный анализ данных, выбран информативный признак, объяснён выбор модели машинного обучения, была продемонстрирована валидность модели на тренировоных данных с помощью метода кросс валидации, была уменьшена более чем в 2 раза ошибка по сравнению с `baseline` решением и с помощью данной модели было загружено предсказание для тестового набора данных.\n",
    "\n",
    "Спасибо за хакатон!"
   ]
  }
 ],
 "metadata": {
  "kernelspec": {
   "display_name": "Python 3",
   "language": "python",
   "name": "python3"
  },
  "language_info": {
   "codemirror_mode": {
    "name": "ipython",
    "version": 3
   },
   "file_extension": ".py",
   "mimetype": "text/x-python",
   "name": "python",
   "nbconvert_exporter": "python",
   "pygments_lexer": "ipython3",
   "version": "3.8.5"
  }
 },
 "nbformat": 4,
 "nbformat_minor": 4
}
