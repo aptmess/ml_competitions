{
 "cells": [
  {
   "cell_type": "markdown",
   "metadata": {},
   "source": [
    "# Прогноз проницаемости образцов горной породы по петрофизическим свойствам методами машинного обучения.\n",
    "\n",
    "Решение отправляется в виде `ZIP`-файла, в котором должны находиться: \n",
    "\n",
    "- 1 Notebook-файл\n",
    "- 1 CSV с ответами.\n",
    "\n",
    "Эти файлы будут проходить проверку.\n",
    "\n",
    "ВАЖНО СОБЛЮСТИ СЛЕДУЮЩИЕ УСЛОВИЯ!\n",
    "\n",
    "1. Имена файлов и `ZIP`-архива НЕ ДОЛЖНЫ содержать киррилицу.\n",
    "\n",
    "2. `ZIP`-архив обязательно должен содержать **1 файл CSV** и **1 файл Jupyter Notebook**.\n",
    "\n",
    "3. Колонка с ответами в `CSV` файле должна состоять из чисел. Допускаются целые числа и числа с плавающей точкой. Поддерживается запись числа в экспоненциальном виде (например, `1.016441e+03`).\n",
    "\n",
    "4. Дополнительные требования указаны в **Baseline-ноутбуке**.\n",
    "\n",
    "В случае каких-либо ошибок при загрузке/проверке Вашего решения - попытка не будет засчитана и можно будет отправить решение ещё раз (исправив причину ошибки в загружаемых файлах)."
   ]
  },
  {
   "cell_type": "markdown",
   "metadata": {},
   "source": [
    "## Задача"
   ]
  },
  {
   "cell_type": "markdown",
   "metadata": {},
   "source": [
    "Необходимо разработать методику для прогноза проницаемости образцов горной породы по их петрофизическим свойствам методами машинного обучения.\n",
    "Входными признаками являются: \n",
    "<ol>\n",
    "<li>Общая пористость образца ($\\Phi$) - это доля объёма порового пространства в общем объёме горного образца.\n",
    "<li>Профиль пористости образца вдоль оси Z ($\\phi_z$) - локальная пористость горного образца замеренная вдоль оси Z, она показывает степень однородности породы по направлению оси Z.\n",
    "</ol>\n",
    "\n",
    "Целевая функция:\n",
    "\n",
    "Абсолютная проницаемость вдоль оси Z ($k_z$)- это величина, характеризующая способность горного образца пропускать жидкость (или газ) при перепаде давления, типичная размерность мД (миллидарси). Чем это значение выше, тем лучше образец пропускает жидкость."
   ]
  },
  {
   "cell_type": "code",
   "execution_count": 107,
   "metadata": {},
   "outputs": [],
   "source": [
    "import numpy as np\n",
    "import matplotlib.pyplot as plt"
   ]
  },
  {
   "cell_type": "markdown",
   "metadata": {},
   "source": [
    "1. Загрузка **общей пористости образцов** ($\\Phi$, porosity):"
   ]
  },
  {
   "cell_type": "code",
   "execution_count": 108,
   "metadata": {},
   "outputs": [
    {
     "name": "stdout",
     "output_type": "stream",
     "text": [
      "Количество образцов в обучающей выборке:  100\n"
     ]
    }
   ],
   "source": [
    "porosity=np.genfromtxt('porosity.csv',invalid_raise=False,comments='#',delimiter=',')\n",
    "print('Количество образцов в обучающей выборке: ',np.size(porosity))"
   ]
  },
  {
   "cell_type": "markdown",
   "metadata": {},
   "source": [
    "2. Загрузка **профиля пористости образца вдоль оси Z** ($\\phi_z$, porosityProfile):"
   ]
  },
  {
   "cell_type": "code",
   "execution_count": 109,
   "metadata": {},
   "outputs": [],
   "source": [
    "porosityProfile=np.genfromtxt('porosityProfile.csv',invalid_raise=False,comments='#',delimiter=',')"
   ]
  },
  {
   "cell_type": "code",
   "execution_count": 110,
   "metadata": {},
   "outputs": [
    {
     "data": {
      "text/plain": [
       "(100, 200)"
      ]
     },
     "execution_count": 110,
     "metadata": {},
     "output_type": "execute_result"
    }
   ],
   "source": [
    "porosityProfile.shape"
   ]
  },
  {
   "cell_type": "markdown",
   "metadata": {},
   "source": [
    "Профиль пористости был замерен с интервалом 5 мкм."
   ]
  },
  {
   "cell_type": "markdown",
   "metadata": {},
   "source": [
    "3. Загрузка абсолютной проницаемости вдоль оси Z ($k_z$, permeabilityZ): $Y$"
   ]
  },
  {
   "cell_type": "code",
   "execution_count": 9,
   "metadata": {},
   "outputs": [],
   "source": [
    "permeabilityZ=np.genfromtxt('permeabilityZ.csv',invalid_raise=False,comments='#',delimiter=',')"
   ]
  },
  {
   "cell_type": "code",
   "execution_count": 14,
   "metadata": {},
   "outputs": [
    {
     "data": {
      "text/plain": [
       "<matplotlib.collections.PathCollection at 0x2837f8fba90>"
      ]
     },
     "execution_count": 14,
     "metadata": {},
     "output_type": "execute_result"
    },
    {
     "data": {
      "image/png": "[encoded data removed]",
      "text/plain": [
       "<Figure size 432x288 with 1 Axes>"
      ]
     },
     "metadata": {
      "needs_background": "light"
     },
     "output_type": "display_data"
    }
   ],
   "source": [
    "plt.scatter(porosity, permeabilityZ)"
   ]
  },
  {
   "cell_type": "code",
   "execution_count": 128,
   "metadata": {},
   "outputs": [],
   "source": [
    "from sklearn.linear_model import TweedieRegressor"
   ]
  },
  {
   "cell_type": "code",
   "execution_count": 132,
   "metadata": {},
   "outputs": [
    {
     "data": {
      "image/png": "[encoded data removed]",
      "text/plain": [
       "<Figure size 432x288 with 1 Axes>"
      ]
     },
     "metadata": {
      "needs_background": "light"
     },
     "output_type": "display_data"
    }
   ],
   "source": [
    "plt.hist(Y)\n",
    "plt.show()"
   ]
  },
  {
   "cell_type": "code",
   "execution_count": null,
   "metadata": {},
   "outputs": [],
   "source": []
  },
  {
   "cell_type": "code",
   "execution_count": null,
   "metadata": {},
   "outputs": [],
   "source": []
  },
  {
   "cell_type": "code",
   "execution_count": null,
   "metadata": {},
   "outputs": [],
   "source": [
    "X = [[0, 0], [0, 1], [2, 2]]"
   ]
  },
  {
   "cell_type": "code",
   "execution_count": 129,
   "metadata": {},
   "outputs": [
    {
     "ename": "TypeError",
     "evalue": "scatter() missing 1 required positional argument: 'y'",
     "output_type": "error",
     "traceback": [
      "\u001b[1;31m---------------------------------------------------------------------------\u001b[0m",
      "\u001b[1;31mTypeError\u001b[0m                                 Traceback (most recent call last)",
      "\u001b[1;32m<ipython-input-129-cb1fcf755202>\u001b[0m in \u001b[0;36m<module>\u001b[1;34m\u001b[0m\n\u001b[1;32m----> 1\u001b[1;33m \u001b[0mplt\u001b[0m\u001b[1;33m.\u001b[0m\u001b[0mscatter\u001b[0m\u001b[1;33m(\u001b[0m\u001b[1;33m[\u001b[0m\u001b[1;33m[\u001b[0m\u001b[1;36m0\u001b[0m\u001b[1;33m,\u001b[0m \u001b[1;36m0\u001b[0m\u001b[1;33m]\u001b[0m\u001b[1;33m,\u001b[0m \u001b[1;33m[\u001b[0m\u001b[1;36m0\u001b[0m\u001b[1;33m,\u001b[0m \u001b[1;36m1\u001b[0m\u001b[1;33m]\u001b[0m\u001b[1;33m,\u001b[0m \u001b[1;33m[\u001b[0m\u001b[1;36m2\u001b[0m\u001b[1;33m,\u001b[0m \u001b[1;36m2\u001b[0m\u001b[1;33m]\u001b[0m\u001b[1;33m]\u001b[0m\u001b[1;33m)\u001b[0m\u001b[1;33m\u001b[0m\u001b[1;33m\u001b[0m\u001b[0m\n\u001b[0m",
      "\u001b[1;31mTypeError\u001b[0m: scatter() missing 1 required positional argument: 'y'"
     ]
    }
   ],
   "source": [
    "plt.scatter([[0, 0], [0, 1], [2, 2]])"
   ]
  },
  {
   "cell_type": "code",
   "execution_count": null,
   "metadata": {},
   "outputs": [],
   "source": [
    "reg.fit(, [0, 1, 2])"
   ]
  },
  {
   "cell_type": "code",
   "execution_count": 23,
   "metadata": {},
   "outputs": [],
   "source": [
    "import pandas as pd"
   ]
  },
  {
   "cell_type": "code",
   "execution_count": 41,
   "metadata": {},
   "outputs": [],
   "source": [
    "columns = ['porosity'] + [f'k_{z}' for z in range(1, 201)] + ['Y']"
   ]
  },
  {
   "cell_type": "code",
   "execution_count": 43,
   "metadata": {},
   "outputs": [],
   "source": [
    "data = pd.DataFrame(data=np.concatenate((porosity.reshape(-1, 1), porosityProfile, permeabilityZ.reshape(-1, 1)), axis=1), \n",
    "             columns=columns)"
   ]
  },
  {
   "cell_type": "code",
   "execution_count": 99,
   "metadata": {},
   "outputs": [],
   "source": [
    "data2 = pd.DataFrame(data=np.concatenate((porosity.reshape(-1, 1), \n",
    "                                          porosityProfile.mean(axis=1).reshape(-1, 1), \n",
    "                                          permeabilityZ.reshape(-1, 1)), axis=1), \n",
    "             columns=['porosity', 'mean', 'Y'])"
   ]
  },
  {
   "cell_type": "code",
   "execution_count": 101,
   "metadata": {},
   "outputs": [
    {
     "data": {
      "text/html": [
       "<div>\n",
       "<style scoped>\n",
       "    .dataframe tbody tr th:only-of-type {\n",
       "        vertical-align: middle;\n",
       "    }\n",
       "\n",
       "    .dataframe tbody tr th {\n",
       "        vertical-align: top;\n",
       "    }\n",
       "\n",
       "    .dataframe thead th {\n",
       "        text-align: right;\n",
       "    }\n",
       "</style>\n",
       "<table border=\"1\" class=\"dataframe\">\n",
       "  <thead>\n",
       "    <tr style=\"text-align: right;\">\n",
       "      <th></th>\n",
       "      <th>porosity</th>\n",
       "      <th>mean</th>\n",
       "      <th>Y</th>\n",
       "    </tr>\n",
       "  </thead>\n",
       "  <tbody>\n",
       "    <tr>\n",
       "      <th>porosity</th>\n",
       "      <td>1.00000</td>\n",
       "      <td>1.00000</td>\n",
       "      <td>0.87296</td>\n",
       "    </tr>\n",
       "    <tr>\n",
       "      <th>mean</th>\n",
       "      <td>1.00000</td>\n",
       "      <td>1.00000</td>\n",
       "      <td>0.87296</td>\n",
       "    </tr>\n",
       "    <tr>\n",
       "      <th>Y</th>\n",
       "      <td>0.87296</td>\n",
       "      <td>0.87296</td>\n",
       "      <td>1.00000</td>\n",
       "    </tr>\n",
       "  </tbody>\n",
       "</table>\n",
       "</div>"
      ],
      "text/plain": [
       "          porosity     mean        Y\n",
       "porosity   1.00000  1.00000  0.87296\n",
       "mean       1.00000  1.00000  0.87296\n",
       "Y          0.87296  0.87296  1.00000"
      ]
     },
     "execution_count": 101,
     "metadata": {},
     "output_type": "execute_result"
    }
   ],
   "source": [
    "data2.corr()"
   ]
  },
  {
   "cell_type": "code",
   "execution_count": 55,
   "metadata": {},
   "outputs": [
    {
     "data": {
      "text/plain": [
       "(202,)"
      ]
     },
     "execution_count": 55,
     "metadata": {},
     "output_type": "execute_result"
    }
   ],
   "source": [
    "Y_corr = abs(data.corr())['Y']\n",
    "Y_corr.shape"
   ]
  },
  {
   "cell_type": "code",
   "execution_count": 60,
   "metadata": {},
   "outputs": [
    {
     "data": {
      "text/plain": [
       "porosity    0.872960\n",
       "k_1         0.714721\n",
       "k_2         0.716723\n",
       "k_3         0.718428\n",
       "k_4         0.723757\n",
       "              ...   \n",
       "k_197       0.812183\n",
       "k_198       0.799739\n",
       "k_199       0.791805\n",
       "k_200       0.787216\n",
       "Y           1.000000\n",
       "Name: Y, Length: 202, dtype: float64"
      ]
     },
     "execution_count": 60,
     "metadata": {},
     "output_type": "execute_result"
    }
   ],
   "source": [
    "Y_corr[Y_corr > 0.71]"
   ]
  },
  {
   "cell_type": "code",
   "execution_count": 69,
   "metadata": {},
   "outputs": [],
   "source": [
    "from sklearn.ensemble import AdaBoostRegressor, BaggingRegressor, ExtraTreesRegressor, GradientBoostingRegressor, RandomForestRegressor"
   ]
  },
  {
   "cell_type": "code",
   "execution_count": 133,
   "metadata": {},
   "outputs": [],
   "source": [
    "y = data2['Y'].values\n",
    "X = data2.iloc[:, 0].values.reshape(-1,1)"
   ]
  },
  {
   "cell_type": "code",
   "execution_count": 175,
   "metadata": {},
   "outputs": [],
   "source": [
    "from sklearn.model_selection import ShuffleSplit, KFold\n",
    "from sklearn.metrics import r2_score, mean_squared_error, mean_absolute_error, mea\n",
    "cv = ShuffleSplit(n_splits=10, test_size=0.2)\n",
    "cv = KFold(n_splits=10, shuffle=True)"
   ]
  },
  {
   "cell_type": "code",
   "execution_count": 177,
   "metadata": {},
   "outputs": [],
   "source": [
    "def MAPE(y_true, y_pred):\n",
    "    return np.mean(np.abs((y_true - y_pred)) / np.abs(y_pred))"
   ]
  },
  {
   "cell_type": "code",
   "execution_count": null,
   "metadata": {},
   "outputs": [],
   "source": [
    "1, 0.09"
   ]
  },
  {
   "cell_type": "code",
   "execution_count": 201,
   "metadata": {},
   "outputs": [
    {
     "name": "stdout",
     "output_type": "stream",
     "text": [
      "iteration 0, R2: 0.9085327433377204, MAE: 181.16439498953866, MSE: 85764.57225906082, MAPE: 0.5202262670033339\n",
      "iteration 1, R2: 0.9002029283900297, MAE: 181.6652347095253, MSE: 84299.73945541392, MAPE: 0.5206966327209611\n",
      "iteration 2, R2: 0.9073878224410065, MAE: 179.16404185207648, MSE: 80871.38202179813, MAPE: 0.5196743581109231\n",
      "iteration 3, R2: 0.9165934205762871, MAE: 179.6417940061927, MSE: 82224.10535315663, MAPE: 0.51874694260361\n",
      "iteration 4, R2: 0.913676647338822, MAE: 179.24458646500858, MSE: 84775.35207655435, MAPE: 0.5200558093600391\n"
     ]
    }
   ],
   "source": [
    "for i in range(5):\n",
    "    r2 = []\n",
    "    mae = []\n",
    "    mse = []\n",
    "    mape = []\n",
    "    classifiers = []\n",
    "    for train_index, test_index in cv.split(X):\n",
    "        cl = TweedieRegressor(power=1.5, alpha=0.01, link='log')\n",
    "        X_train, X_test = X[train_index], X[test_index]\n",
    "        y_train, y_test = y[train_index], y[test_index]\n",
    "        cl.fit(X_train, y_train)\n",
    "        r2.append(r2_score(y_true=y_test, \n",
    "                           y_pred=cl.predict(X_test)))\n",
    "        mse.append(mean_squared_error(y_true=y_test, \n",
    "                           y_pred=cl.predict(X_test)))\n",
    "        mae.append(mean_absolute_error(y_true=y_test, \n",
    "                           y_pred=cl.predict(X_test)))\n",
    "        mape.append(MAPE(y_true=y_test, \n",
    "                           y_pred=cl.predict(X_test)))\n",
    "\n",
    "        # получим 5 оптимальных классификаторов\n",
    "        classifiers.append(cl)\n",
    "    print(f'iteration {i}, R2: {np.mean(r2)}, MAE: {np.mean(mae)}, MSE: {np.mean(mse)}, MAPE: {np.mean(mape)}')\n",
    "# res = []\n",
    "# for c in classifiers:\n",
    "#     res.append(c.predict(X_test))\n",
    "# dat = pd.DataFrame(np.array(res).T)\n",
    "# dat.mean(axis=1).to_csv('answer.csv', index=False, header=0)"
   ]
  },
  {
   "cell_type": "code",
   "execution_count": null,
   "metadata": {},
   "outputs": [],
   "source": []
  },
  {
   "cell_type": "code",
   "execution_count": 143,
   "metadata": {},
   "outputs": [
    {
     "data": {
      "text/plain": [
       "2.537950810351938"
      ]
     },
     "execution_count": 143,
     "metadata": {},
     "output_type": "execute_result"
    }
   ],
   "source": [
    "cl.intercept_"
   ]
  },
  {
   "cell_type": "code",
   "execution_count": null,
   "metadata": {},
   "outputs": [],
   "source": []
  },
  {
   "cell_type": "markdown",
   "metadata": {},
   "source": [
    "## Test"
   ]
  },
  {
   "cell_type": "code",
   "execution_count": 20,
   "metadata": {},
   "outputs": [
    {
     "name": "stdout",
     "output_type": "stream",
     "text": [
      "Количество образцов в тестовой выборке:  100\n"
     ]
    }
   ],
   "source": [
    "test_porosity=np.genfromtxt('test_porosity.csv',invalid_raise=False,comments='#',delimiter=',')\n",
    "print('Количество образцов в тестовой выборке: ',np.size(test_porosity))\n",
    "test_porosityProfile=np.genfromtxt('test_porosityProfile.csv',invalid_raise=False,comments='#',delimiter=',')"
   ]
  },
  {
   "cell_type": "code",
   "execution_count": 124,
   "metadata": {},
   "outputs": [
    {
     "data": {
      "text/plain": [
       "[<matplotlib.lines.Line2D at 0x2830bffcc10>]"
      ]
     },
     "execution_count": 124,
     "metadata": {},
     "output_type": "execute_result"
    },
    {
     "data": {
      "image/png": "[encoded data removed]",
      "text/plain": [
       "<Figure size 432x288 with 1 Axes>"
      ]
     },
     "metadata": {
      "needs_background": "light"
     },
     "output_type": "display_data"
    }
   ],
   "source": [
    "plt.semilogy(test_porosity,'go', label=\"тестовая выборка\")"
   ]
  },
  {
   "cell_type": "code",
   "execution_count": 125,
   "metadata": {},
   "outputs": [
    {
     "data": {
      "text/plain": [
       "[<matplotlib.lines.Line2D at 0x2830bfe6730>]"
      ]
     },
     "execution_count": 125,
     "metadata": {},
     "output_type": "execute_result"
    },
    {
     "data": {
      "image/png": "[encoded data removed]",
      "text/plain": [
       "<Figure size 432x288 with 1 Axes>"
      ]
     },
     "metadata": {
      "needs_background": "light"
     },
     "output_type": "display_data"
    }
   ],
   "source": [
    "plt.plot(test_porosity)"
   ]
  },
  {
   "cell_type": "code",
   "execution_count": 127,
   "metadata": {},
   "outputs": [],
   "source": [
    "plt.semilogy?"
   ]
  },
  {
   "cell_type": "code",
   "execution_count": 21,
   "metadata": {},
   "outputs": [
    {
     "data": {
      "text/plain": [
       "array([[0.252725, 0.249475, 0.2434  , ..., 0.2511  , 0.259375, 0.262825],\n",
       "       [0.299225, 0.295   , 0.2882  , ..., 0.356475, 0.359575, 0.36155 ],\n",
       "       [0.293625, 0.2896  , 0.280725, ..., 0.30975 , 0.31755 , 0.321125],\n",
       "       ...,\n",
       "       [0.264425, 0.258425, 0.24795 , ..., 0.221175, 0.226675, 0.230225],\n",
       "       [0.254975, 0.252   , 0.245525, ..., 0.2948  , 0.308025, 0.314925],\n",
       "       [0.3153  , 0.31235 , 0.305125, ..., 0.3001  , 0.3083  , 0.3132  ]])"
      ]
     },
     "execution_count": 21,
     "metadata": {},
     "output_type": "execute_result"
    }
   ],
   "source": [
    "test_porosityProfile"
   ]
  },
  {
   "cell_type": "code",
   "execution_count": 104,
   "metadata": {},
   "outputs": [
    {
     "data": {
      "text/plain": [
       "array([0.164427  , 0.26515512, 0.25233437, 0.1899045 , 0.09009388,\n",
       "       0.23796063, 0.20357675, 0.097159  , 0.15410213, 0.25182775,\n",
       "       0.22243937, 0.21819712, 0.129346  , 0.14090137, 0.269623  ,\n",
       "       0.10516012, 0.19527987, 0.1623595 , 0.26078163, 0.25915888,\n",
       "       0.16385688, 0.17438163, 0.13904037, 0.27614163, 0.11335188,\n",
       "       0.1383935 , 0.1004125 , 0.10988425, 0.20980075, 0.09883037,\n",
       "       0.18519737, 0.10962038, 0.10778225, 0.16458575, 0.1604965 ,\n",
       "       0.18302413, 0.203127  , 0.24355625, 0.20848638, 0.15264575,\n",
       "       0.16626825, 0.1918585 , 0.152746  , 0.17386062, 0.18740725,\n",
       "       0.27447025, 0.117114  , 0.10508763, 0.2814415 , 0.21147313,\n",
       "       0.13020913, 0.0919655 , 0.15026862, 0.15299675, 0.2463005 ,\n",
       "       0.268921  , 0.14474662, 0.20570763, 0.1813715 , 0.15329   ,\n",
       "       0.18200163, 0.24424513, 0.28226175, 0.25727975, 0.13339287,\n",
       "       0.16543912, 0.12947538, 0.26796863, 0.28550338, 0.28941662,\n",
       "       0.08485112, 0.21943925, 0.09283962, 0.07929   , 0.19392075,\n",
       "       0.11686238, 0.29779288, 0.26645163, 0.24276687, 0.1355115 ,\n",
       "       0.16262525, 0.22160563, 0.24540275, 0.192787  , 0.22251338,\n",
       "       0.2033225 , 0.20324913, 0.18170312, 0.16840888, 0.14133438,\n",
       "       0.24517475, 0.08680075, 0.28591187, 0.10770675, 0.11449325,\n",
       "       0.13232788, 0.18369162, 0.17442612, 0.164194  , 0.25308738])"
      ]
     },
     "execution_count": 104,
     "metadata": {},
     "output_type": "execute_result"
    }
   ],
   "source": [
    "test_porosity"
   ]
  },
  {
   "cell_type": "code",
   "execution_count": 106,
   "metadata": {},
   "outputs": [
    {
     "data": {
      "text/plain": [
       "array([0.164427  , 0.26515512, 0.25233437, 0.1899045 , 0.09009388,\n",
       "       0.23796062, 0.20357675, 0.097159  , 0.15410213, 0.25182775,\n",
       "       0.22243937, 0.21819713, 0.129346  , 0.14090137, 0.269623  ,\n",
       "       0.10516013, 0.19527988, 0.1623595 , 0.26078163, 0.25915888,\n",
       "       0.16385687, 0.17438163, 0.13904037, 0.27614163, 0.11335188,\n",
       "       0.1383935 , 0.1004125 , 0.10988425, 0.20980075, 0.09883037,\n",
       "       0.18519737, 0.10962037, 0.10778225, 0.16458575, 0.1604965 ,\n",
       "       0.18302412, 0.203127  , 0.24355625, 0.20848638, 0.15264575,\n",
       "       0.16626825, 0.1918585 , 0.152746  , 0.17386063, 0.18740725,\n",
       "       0.27447025, 0.117114  , 0.10508762, 0.2814415 , 0.21147312,\n",
       "       0.13020913, 0.0919655 , 0.15026863, 0.15299675, 0.2463005 ,\n",
       "       0.268921  , 0.14474662, 0.20570763, 0.1813715 , 0.15329   ,\n",
       "       0.18200162, 0.24424512, 0.28226175, 0.25727975, 0.13339287,\n",
       "       0.16543913, 0.12947538, 0.26796863, 0.28550338, 0.28941662,\n",
       "       0.08485112, 0.21943925, 0.09283962, 0.07929   , 0.19392075,\n",
       "       0.11686238, 0.29779288, 0.26645162, 0.24276688, 0.1355115 ,\n",
       "       0.16262525, 0.22160563, 0.24540275, 0.192787  , 0.22251337,\n",
       "       0.2033225 , 0.20324913, 0.18170313, 0.16840888, 0.14133437,\n",
       "       0.24517475, 0.08680075, 0.28591188, 0.10770675, 0.11449325,\n",
       "       0.13232787, 0.18369163, 0.17442612, 0.164194  , 0.25308738])"
      ]
     },
     "execution_count": 106,
     "metadata": {},
     "output_type": "execute_result"
    }
   ],
   "source": [
    "test_porosityProfile.mean(axis=1)"
   ]
  },
  {
   "cell_type": "code",
   "execution_count": null,
   "metadata": {},
   "outputs": [],
   "source": []
  }
 ],
 "metadata": {
  "kernelspec": {
   "display_name": "Python 3",
   "language": "python",
   "name": "python3"
  },
  "language_info": {
   "codemirror_mode": {
    "name": "ipython",
    "version": 3
   },
   "file_extension": ".py",
   "mimetype": "text/x-python",
   "name": "python",
   "nbconvert_exporter": "python",
   "pygments_lexer": "ipython3",
   "version": "3.8.5"
  }
 },
 "nbformat": 4,
 "nbformat_minor": 4
}
