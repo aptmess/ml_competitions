{
 "cells": [
  {
   "cell_type": "code",
   "execution_count": 1,
   "metadata": {},
   "outputs": [],
   "source": [
    "import numpy as np\n",
    "import pandas as pd\n",
    "import matplotlib.pyplot as plt\n",
    "%matplotlib inline"
   ]
  },
  {
   "cell_type": "markdown",
   "metadata": {},
   "source": [
    "# Описание задания"
   ]
  },
  {
   "cell_type": "markdown",
   "metadata": {},
   "source": [
    "В базе данных нефтегазовых месторождений одной компании произошёл системный сбой и информация о типе месторождения по расположению (на берегу или в открытом море) была удалена. \n",
    "\n",
    "Так как эта информация крайне важна, вам необходимо восстановить её в пострадавшем датасете (https://yadi.sk/d/oTXS7UAIu2OJOg). \n",
    "*Дополнительная ссылка для скачивания*: `test.csv`\n",
    "\n",
    "В качестве тренировочного датасета можете использовать неиспорченный датасет (https://yadi.sk/d/MmT-_fY6sKzlTmw).\n",
    "\n",
    "*Дополнительная ссылка для скачивания* `train.csv`"
   ]
  },
  {
   "cell_type": "markdown",
   "metadata": {},
   "source": [
    "**Входные данные**: тренировочный датасет `train.csv`, в котором поля обозначают следующее:\n",
    "\n",
    "1. `Tectonic regime` – тектонический режим месторождения\n",
    "2. `Onshore/Oﬀshore` - (`целевая переменная` $y$) – тип месторождения по расположению\n",
    "3. `Hydrocarbon type` – тип углеводородов\n",
    "4. `Reservoir status` – статус разработки месторождения\n",
    "5. `Structural setting` – структурные особенности месторождения\n",
    "6. `Depth` – средняя глубина кровли резервуара\n",
    "7. `Period` – геологическая система образования резервуара\n",
    "8. `Lithology` – основной литологический состав коллектора\n",
    "9. `Gross` – среднее значение общей толщины резервуара\n",
    "10. `Netpay` – среднее значение эффективной углеводородонасыщенной толщины коллектора\n",
    "11. `Porosity` – среднее значение матричной пористости\n",
    "12. `Permeability` – среднее значение проницаемости по воздуху.\n",
    "\n",
    "`test.csv` – датасет, для которого необходимо предсказать поле `Onshore/Oﬀshore`.\n",
    "\n",
    "**Выходные данные**: файл `prediction.csv`, в котором одна колонка (`без заголовка`) с предсказанием поля `Onshore/Oﬀshore`. \n",
    "\n",
    "Предсказания следует выводить в тех же значениях, в каких они представлены в тренировочном датасете:\n",
    "\n",
    "- (`ONSHORE`/`OFFSHORE`/ `ONSHORE-OFFSHORE`).\n",
    "\n",
    "**Критерии проверки**: вычисляется точность предсказания (`accuracy_score`), округляется до `2`-х знаков и итоговый балл считается по формуле `score = 50 * accuracy_score`. Таким образом максимальный балл `50` будет соответствовать максимально точности `1`."
   ]
  },
  {
   "cell_type": "markdown",
   "metadata": {},
   "source": [
    "## 1. Explore Data"
   ]
  },
  {
   "cell_type": "code",
   "execution_count": 2,
   "metadata": {},
   "outputs": [],
   "source": [
    "train = pd.read_csv('train.csv')\n",
    "test = pd.read_csv('test.csv')"
   ]
  },
  {
   "cell_type": "code",
   "execution_count": 3,
   "metadata": {
    "scrolled": true
   },
   "outputs": [
    {
     "data": {
      "text/html": [
       "<div>\n",
       "<style scoped>\n",
       "    .dataframe tbody tr th:only-of-type {\n",
       "        vertical-align: middle;\n",
       "    }\n",
       "\n",
       "    .dataframe tbody tr th {\n",
       "        vertical-align: top;\n",
       "    }\n",
       "\n",
       "    .dataframe thead th {\n",
       "        text-align: right;\n",
       "    }\n",
       "</style>\n",
       "<table border=\"1\" class=\"dataframe\">\n",
       "  <thead>\n",
       "    <tr style=\"text-align: right;\">\n",
       "      <th></th>\n",
       "      <th>Tectonic regime</th>\n",
       "      <th>Onshore/Offshore</th>\n",
       "      <th>Hydrocarbon type</th>\n",
       "      <th>Reservoir status</th>\n",
       "      <th>Structural setting</th>\n",
       "      <th>Depth</th>\n",
       "      <th>Period</th>\n",
       "      <th>Lithology</th>\n",
       "      <th>Gross</th>\n",
       "      <th>Netpay</th>\n",
       "      <th>Porosity</th>\n",
       "      <th>Permeability</th>\n",
       "    </tr>\n",
       "  </thead>\n",
       "  <tbody>\n",
       "    <tr>\n",
       "      <th>0</th>\n",
       "      <td>STRIKE-SLIP/TRANSPRESSION/BASEMENT-I</td>\n",
       "      <td>OFFSHORE</td>\n",
       "      <td>OIL</td>\n",
       "      <td>DEVELOPING</td>\n",
       "      <td>INVERSION/WRENCH</td>\n",
       "      <td>3520</td>\n",
       "      <td>NEOGENE</td>\n",
       "      <td>SANDSTONE</td>\n",
       "      <td>2460.0</td>\n",
       "      <td>220.0</td>\n",
       "      <td>20.0</td>\n",
       "      <td>45.0</td>\n",
       "    </tr>\n",
       "    <tr>\n",
       "      <th>1</th>\n",
       "      <td>GRAVITY/EXTENSION/EVAPORITE</td>\n",
       "      <td>OFFSHORE</td>\n",
       "      <td>OIL</td>\n",
       "      <td>MATURE PRODUCTION</td>\n",
       "      <td>SALT/PASSIVE MARGIN</td>\n",
       "      <td>9967</td>\n",
       "      <td>CRETACEOUS</td>\n",
       "      <td>LIMESTONE</td>\n",
       "      <td>427.0</td>\n",
       "      <td>160.0</td>\n",
       "      <td>19.0</td>\n",
       "      <td>175.0</td>\n",
       "    </tr>\n",
       "    <tr>\n",
       "      <th>2</th>\n",
       "      <td>GRAVITY/EXTENSION/EVAPORITE</td>\n",
       "      <td>ONSHORE</td>\n",
       "      <td>OIL</td>\n",
       "      <td>MATURE PRODUCTION</td>\n",
       "      <td>PASSIVE MARGIN</td>\n",
       "      <td>8700</td>\n",
       "      <td>CRETACEOUS</td>\n",
       "      <td>LIMESTONE</td>\n",
       "      <td>95.0</td>\n",
       "      <td>15.0</td>\n",
       "      <td>12.0</td>\n",
       "      <td>20.0</td>\n",
       "    </tr>\n",
       "    <tr>\n",
       "      <th>3</th>\n",
       "      <td>COMPRESSION</td>\n",
       "      <td>ONSHORE</td>\n",
       "      <td>OIL</td>\n",
       "      <td>DECLINING PRODUCTION</td>\n",
       "      <td>THRUST</td>\n",
       "      <td>5084</td>\n",
       "      <td>CRETACEOUS</td>\n",
       "      <td>SANDSTONE</td>\n",
       "      <td>328.0</td>\n",
       "      <td>300.0</td>\n",
       "      <td>13.0</td>\n",
       "      <td>600.0</td>\n",
       "    </tr>\n",
       "    <tr>\n",
       "      <th>4</th>\n",
       "      <td>INVERSION/COMPRESSION/EXTENSION</td>\n",
       "      <td>ONSHORE</td>\n",
       "      <td>OIL</td>\n",
       "      <td>DECLINING PRODUCTION</td>\n",
       "      <td>INVERSION/RIFT</td>\n",
       "      <td>1030</td>\n",
       "      <td>CRETACEOUS</td>\n",
       "      <td>SANDSTONE</td>\n",
       "      <td>260.0</td>\n",
       "      <td>33.0</td>\n",
       "      <td>24.0</td>\n",
       "      <td>182.0</td>\n",
       "    </tr>\n",
       "  </tbody>\n",
       "</table>\n",
       "</div>"
      ],
      "text/plain": [
       "                        Tectonic regime Onshore/Offshore Hydrocarbon type  \\\n",
       "0  STRIKE-SLIP/TRANSPRESSION/BASEMENT-I         OFFSHORE              OIL   \n",
       "1           GRAVITY/EXTENSION/EVAPORITE         OFFSHORE              OIL   \n",
       "2           GRAVITY/EXTENSION/EVAPORITE          ONSHORE              OIL   \n",
       "3                           COMPRESSION          ONSHORE              OIL   \n",
       "4       INVERSION/COMPRESSION/EXTENSION          ONSHORE              OIL   \n",
       "\n",
       "       Reservoir status   Structural setting  Depth      Period  Lithology  \\\n",
       "0            DEVELOPING     INVERSION/WRENCH   3520     NEOGENE  SANDSTONE   \n",
       "1     MATURE PRODUCTION  SALT/PASSIVE MARGIN   9967  CRETACEOUS  LIMESTONE   \n",
       "2     MATURE PRODUCTION       PASSIVE MARGIN   8700  CRETACEOUS  LIMESTONE   \n",
       "3  DECLINING PRODUCTION               THRUST   5084  CRETACEOUS  SANDSTONE   \n",
       "4  DECLINING PRODUCTION       INVERSION/RIFT   1030  CRETACEOUS  SANDSTONE   \n",
       "\n",
       "    Gross  Netpay  Porosity  Permeability  \n",
       "0  2460.0   220.0      20.0          45.0  \n",
       "1   427.0   160.0      19.0         175.0  \n",
       "2    95.0    15.0      12.0          20.0  \n",
       "3   328.0   300.0      13.0         600.0  \n",
       "4   260.0    33.0      24.0         182.0  "
      ]
     },
     "execution_count": 3,
     "metadata": {},
     "output_type": "execute_result"
    }
   ],
   "source": [
    "train.head()"
   ]
  },
  {
   "cell_type": "code",
   "execution_count": 4,
   "metadata": {},
   "outputs": [
    {
     "name": "stdout",
     "output_type": "stream",
     "text": [
      "<class 'pandas.core.frame.DataFrame'>\n",
      "RangeIndex: 309 entries, 0 to 308\n",
      "Data columns (total 12 columns):\n",
      " #   Column              Non-Null Count  Dtype  \n",
      "---  ------              --------------  -----  \n",
      " 0   Tectonic regime     309 non-null    object \n",
      " 1   Onshore/Offshore    309 non-null    object \n",
      " 2   Hydrocarbon type    309 non-null    object \n",
      " 3   Reservoir status    309 non-null    object \n",
      " 4   Structural setting  309 non-null    object \n",
      " 5   Depth               309 non-null    int64  \n",
      " 6   Period              309 non-null    object \n",
      " 7   Lithology           309 non-null    object \n",
      " 8   Gross               309 non-null    float64\n",
      " 9   Netpay              309 non-null    float64\n",
      " 10  Porosity            309 non-null    float64\n",
      " 11  Permeability        309 non-null    float64\n",
      "dtypes: float64(4), int64(1), object(7)\n",
      "memory usage: 29.1+ KB\n"
     ]
    }
   ],
   "source": [
    "train.info()"
   ]
  },
  {
   "cell_type": "code",
   "execution_count": 5,
   "metadata": {},
   "outputs": [
    {
     "data": {
      "text/html": [
       "<div>\n",
       "<style scoped>\n",
       "    .dataframe tbody tr th:only-of-type {\n",
       "        vertical-align: middle;\n",
       "    }\n",
       "\n",
       "    .dataframe tbody tr th {\n",
       "        vertical-align: top;\n",
       "    }\n",
       "\n",
       "    .dataframe thead th {\n",
       "        text-align: right;\n",
       "    }\n",
       "</style>\n",
       "<table border=\"1\" class=\"dataframe\">\n",
       "  <thead>\n",
       "    <tr style=\"text-align: right;\">\n",
       "      <th></th>\n",
       "      <th>Depth</th>\n",
       "      <th>Gross</th>\n",
       "      <th>Netpay</th>\n",
       "      <th>Porosity</th>\n",
       "      <th>Permeability</th>\n",
       "    </tr>\n",
       "  </thead>\n",
       "  <tbody>\n",
       "    <tr>\n",
       "      <th>count</th>\n",
       "      <td>309.000000</td>\n",
       "      <td>309.000000</td>\n",
       "      <td>309.000000</td>\n",
       "      <td>309.000000</td>\n",
       "      <td>309.000000</td>\n",
       "    </tr>\n",
       "    <tr>\n",
       "      <th>mean</th>\n",
       "      <td>6726.242718</td>\n",
       "      <td>798.440129</td>\n",
       "      <td>204.166084</td>\n",
       "      <td>17.929709</td>\n",
       "      <td>463.048544</td>\n",
       "    </tr>\n",
       "    <tr>\n",
       "      <th>std</th>\n",
       "      <td>3506.266685</td>\n",
       "      <td>1329.172384</td>\n",
       "      <td>285.145971</td>\n",
       "      <td>7.644533</td>\n",
       "      <td>981.882456</td>\n",
       "    </tr>\n",
       "    <tr>\n",
       "      <th>min</th>\n",
       "      <td>220.000000</td>\n",
       "      <td>11.000000</td>\n",
       "      <td>0.000000</td>\n",
       "      <td>1.300000</td>\n",
       "      <td>0.010000</td>\n",
       "    </tr>\n",
       "    <tr>\n",
       "      <th>25%</th>\n",
       "      <td>3940.000000</td>\n",
       "      <td>145.000000</td>\n",
       "      <td>46.000000</td>\n",
       "      <td>12.000000</td>\n",
       "      <td>10.000000</td>\n",
       "    </tr>\n",
       "    <tr>\n",
       "      <th>50%</th>\n",
       "      <td>6580.000000</td>\n",
       "      <td>353.000000</td>\n",
       "      <td>118.000000</td>\n",
       "      <td>17.000000</td>\n",
       "      <td>90.000000</td>\n",
       "    </tr>\n",
       "    <tr>\n",
       "      <th>75%</th>\n",
       "      <td>9327.000000</td>\n",
       "      <td>790.000000</td>\n",
       "      <td>240.000000</td>\n",
       "      <td>24.000000</td>\n",
       "      <td>450.000000</td>\n",
       "    </tr>\n",
       "    <tr>\n",
       "      <th>max</th>\n",
       "      <td>18050.000000</td>\n",
       "      <td>10500.000000</td>\n",
       "      <td>2976.000000</td>\n",
       "      <td>55.000000</td>\n",
       "      <td>7500.000000</td>\n",
       "    </tr>\n",
       "  </tbody>\n",
       "</table>\n",
       "</div>"
      ],
      "text/plain": [
       "              Depth         Gross       Netpay    Porosity  Permeability\n",
       "count    309.000000    309.000000   309.000000  309.000000    309.000000\n",
       "mean    6726.242718    798.440129   204.166084   17.929709    463.048544\n",
       "std     3506.266685   1329.172384   285.145971    7.644533    981.882456\n",
       "min      220.000000     11.000000     0.000000    1.300000      0.010000\n",
       "25%     3940.000000    145.000000    46.000000   12.000000     10.000000\n",
       "50%     6580.000000    353.000000   118.000000   17.000000     90.000000\n",
       "75%     9327.000000    790.000000   240.000000   24.000000    450.000000\n",
       "max    18050.000000  10500.000000  2976.000000   55.000000   7500.000000"
      ]
     },
     "execution_count": 5,
     "metadata": {},
     "output_type": "execute_result"
    }
   ],
   "source": [
    "train.describe()"
   ]
  },
  {
   "cell_type": "markdown",
   "metadata": {},
   "source": [
    "## 1.1 `Tectonic regime` - тектонический режим месторождения\n",
    "\n",
    "Сначала разобьем строки по символу `/`, затем найдем уникальные тектонические режимы и составим таблицу признаков для первого столбца."
   ]
  },
  {
   "cell_type": "code",
   "execution_count": 6,
   "metadata": {},
   "outputs": [],
   "source": [
    "values= {}\n",
    "l_of_list = train['Tectonic regime'].str.split('/').tolist() # partition \n",
    "for i in l_of_list:\n",
    "    for j in i:\n",
    "        if j in values.keys():\n",
    "            values[j] += 1\n",
    "        else:\n",
    "            values[j] = 0\n",
    "            values[j] +=1"
   ]
  },
  {
   "cell_type": "code",
   "execution_count": 7,
   "metadata": {},
   "outputs": [],
   "source": [
    "X_Tectonic_regime = pd.DataFrame(data = np.zeros((train.shape[0], \n",
    "                                                  len(values.keys()))), \n",
    "                                 columns=values.keys())\n",
    "for i, val in zip(range(train.shape[0]), l_of_list):\n",
    "    for j in val:\n",
    "        X_Tectonic_regime.at[i, j] = 1"
   ]
  },
  {
   "cell_type": "code",
   "execution_count": 8,
   "metadata": {},
   "outputs": [],
   "source": [
    "X_Tectonic_regime_2 = pd.DataFrame(data = np.zeros((train.shape[0], \n",
    "                                                  len(values.keys()))), \n",
    "                                 columns=values.keys())\n",
    "for i, val in zip(range(train.shape[0]), l_of_list):\n",
    "    for j in val:\n",
    "        X_Tectonf = values[j] / np.sum(list(values.values()))"
   ]
  },
  {
   "cell_type": "markdown",
   "metadata": {},
   "source": [
    "## 1.2 `Onshore/Oﬀshore` - тип месторождения по расположению\n",
    "\n",
    "Является целевой переменной - переведем в числовой тип."
   ]
  },
  {
   "cell_type": "code",
   "execution_count": 9,
   "metadata": {},
   "outputs": [],
   "source": [
    "y = train['Onshore/Offshore'].map({'OFFSHORE': 0, \n",
    "                               'ONSHORE': 1, \n",
    "                               'ONSHORE-OFFSHORE': 2}).values.astype(int)"
   ]
  },
  {
   "cell_type": "code",
   "execution_count": 10,
   "metadata": {},
   "outputs": [
    {
     "data": {
      "text/plain": [
       "1    211\n",
       "0     93\n",
       "2      5\n",
       "dtype: int64"
      ]
     },
     "execution_count": 10,
     "metadata": {},
     "output_type": "execute_result"
    }
   ],
   "source": [
    "pd.value_counts(y)"
   ]
  },
  {
   "cell_type": "code",
   "execution_count": 11,
   "metadata": {},
   "outputs": [
    {
     "data": {
      "text/plain": [
       "array([0, 0, 1, 1, 1, 1, 1, 0, 1, 1, 1, 0, 1, 1, 1, 0, 0, 1, 1, 1, 0, 1,\n",
       "       1, 1, 0, 1, 1, 1, 1, 1, 1, 1, 0, 1, 1, 0, 0, 0, 0, 1, 1, 1, 1, 0,\n",
       "       1, 1, 0, 1, 1, 2, 1, 1, 1, 1, 1, 0, 1, 0, 0, 0, 1, 1, 1, 0, 1, 1,\n",
       "       1, 1, 0, 0, 0, 1, 1, 0, 1, 1, 1, 1, 1, 0, 0, 1, 0, 0, 1, 1, 1, 1,\n",
       "       0, 0, 1, 1, 1, 0, 1, 1, 1, 0, 1, 1, 1, 1, 1, 0, 1, 1, 1, 0, 1, 1,\n",
       "       2, 1, 1, 0, 1, 1, 1, 0, 1, 1, 1, 0, 1, 1, 1, 0, 0, 1, 1, 1, 1, 0,\n",
       "       0, 1, 1, 0, 1, 1, 1, 1, 1, 1, 0, 1, 0, 1, 0, 1, 1, 1, 1, 1, 0, 1,\n",
       "       1, 1, 1, 1, 1, 1, 1, 1, 0, 0, 1, 1, 1, 1, 0, 1, 1, 1, 1, 1, 1, 1,\n",
       "       1, 1, 0, 1, 1, 1, 1, 1, 0, 1, 1, 0, 1, 1, 1, 1, 0, 1, 2, 2, 1, 1,\n",
       "       1, 0, 0, 0, 1, 1, 0, 0, 1, 1, 1, 1, 1, 0, 0, 1, 1, 0, 1, 1, 1, 1,\n",
       "       0, 0, 1, 1, 0, 0, 1, 1, 2, 1, 1, 1, 1, 0, 0, 1, 0, 0, 1, 1, 1, 0,\n",
       "       0, 1, 1, 1, 1, 1, 1, 0, 1, 0, 0, 1, 0, 1, 1, 0, 1, 0, 1, 1, 1, 1,\n",
       "       0, 1, 0, 1, 1, 0, 1, 1, 0, 0, 1, 1, 1, 0, 0, 1, 1, 1, 1, 1, 1, 1,\n",
       "       1, 0, 0, 1, 1, 1, 1, 0, 1, 1, 0, 1, 0, 1, 1, 1, 1, 0, 0, 0, 1, 0,\n",
       "       1])"
      ]
     },
     "execution_count": 11,
     "metadata": {},
     "output_type": "execute_result"
    }
   ],
   "source": [
    "y"
   ]
  },
  {
   "cell_type": "markdown",
   "metadata": {},
   "source": [
    "## 1.3 `Hydrocarbon type` -  тип углеводородов"
   ]
  },
  {
   "cell_type": "code",
   "execution_count": 12,
   "metadata": {},
   "outputs": [
    {
     "data": {
      "text/plain": [
       "OIL                235\n",
       "GAS                 47\n",
       "GAS-CONDENSATE      25\n",
       "METHANE HYDRATE      1\n",
       "CARBON DIOXIDE       1\n",
       "Name: Hydrocarbon type, dtype: int64"
      ]
     },
     "execution_count": 12,
     "metadata": {},
     "output_type": "execute_result"
    }
   ],
   "source": [
    "pd.value_counts(train['Hydrocarbon type'])"
   ]
  },
  {
   "cell_type": "code",
   "execution_count": 13,
   "metadata": {},
   "outputs": [
    {
     "data": {
      "text/plain": [
       "array(['OIL', 'METHANE HYDRATE', 'GAS', 'GAS-CONDENSATE',\n",
       "       'CARBON DIOXIDE'], dtype=object)"
      ]
     },
     "execution_count": 13,
     "metadata": {},
     "output_type": "execute_result"
    }
   ],
   "source": [
    "pd.unique(train['Hydrocarbon type'])"
   ]
  },
  {
   "cell_type": "markdown",
   "metadata": {},
   "source": [
    "Попробуем несколько методов работы с категориальными переменными:\n",
    "\n",
    "- `LabelEncoder`\n",
    "- `OneHotEncoder`"
   ]
  },
  {
   "cell_type": "markdown",
   "metadata": {},
   "source": [
    "### 1.3.1 - `OneHotEncoder`"
   ]
  },
  {
   "cell_type": "code",
   "execution_count": 14,
   "metadata": {},
   "outputs": [
    {
     "data": {
      "text/html": [
       "<div>\n",
       "<style scoped>\n",
       "    .dataframe tbody tr th:only-of-type {\n",
       "        vertical-align: middle;\n",
       "    }\n",
       "\n",
       "    .dataframe tbody tr th {\n",
       "        vertical-align: top;\n",
       "    }\n",
       "\n",
       "    .dataframe thead th {\n",
       "        text-align: right;\n",
       "    }\n",
       "</style>\n",
       "<table border=\"1\" class=\"dataframe\">\n",
       "  <thead>\n",
       "    <tr style=\"text-align: right;\">\n",
       "      <th></th>\n",
       "      <th>CARBON DIOXIDE</th>\n",
       "      <th>GAS</th>\n",
       "      <th>GAS-CONDENSATE</th>\n",
       "      <th>METHANE HYDRATE</th>\n",
       "      <th>OIL</th>\n",
       "    </tr>\n",
       "  </thead>\n",
       "  <tbody>\n",
       "    <tr>\n",
       "      <th>0</th>\n",
       "      <td>0</td>\n",
       "      <td>0</td>\n",
       "      <td>0</td>\n",
       "      <td>0</td>\n",
       "      <td>1</td>\n",
       "    </tr>\n",
       "    <tr>\n",
       "      <th>1</th>\n",
       "      <td>0</td>\n",
       "      <td>0</td>\n",
       "      <td>0</td>\n",
       "      <td>0</td>\n",
       "      <td>1</td>\n",
       "    </tr>\n",
       "    <tr>\n",
       "      <th>2</th>\n",
       "      <td>0</td>\n",
       "      <td>0</td>\n",
       "      <td>0</td>\n",
       "      <td>0</td>\n",
       "      <td>1</td>\n",
       "    </tr>\n",
       "    <tr>\n",
       "      <th>3</th>\n",
       "      <td>0</td>\n",
       "      <td>0</td>\n",
       "      <td>0</td>\n",
       "      <td>0</td>\n",
       "      <td>1</td>\n",
       "    </tr>\n",
       "    <tr>\n",
       "      <th>4</th>\n",
       "      <td>0</td>\n",
       "      <td>0</td>\n",
       "      <td>0</td>\n",
       "      <td>0</td>\n",
       "      <td>1</td>\n",
       "    </tr>\n",
       "    <tr>\n",
       "      <th>...</th>\n",
       "      <td>...</td>\n",
       "      <td>...</td>\n",
       "      <td>...</td>\n",
       "      <td>...</td>\n",
       "      <td>...</td>\n",
       "    </tr>\n",
       "    <tr>\n",
       "      <th>304</th>\n",
       "      <td>0</td>\n",
       "      <td>0</td>\n",
       "      <td>0</td>\n",
       "      <td>0</td>\n",
       "      <td>1</td>\n",
       "    </tr>\n",
       "    <tr>\n",
       "      <th>305</th>\n",
       "      <td>0</td>\n",
       "      <td>0</td>\n",
       "      <td>0</td>\n",
       "      <td>0</td>\n",
       "      <td>1</td>\n",
       "    </tr>\n",
       "    <tr>\n",
       "      <th>306</th>\n",
       "      <td>0</td>\n",
       "      <td>0</td>\n",
       "      <td>0</td>\n",
       "      <td>0</td>\n",
       "      <td>1</td>\n",
       "    </tr>\n",
       "    <tr>\n",
       "      <th>307</th>\n",
       "      <td>0</td>\n",
       "      <td>0</td>\n",
       "      <td>1</td>\n",
       "      <td>0</td>\n",
       "      <td>0</td>\n",
       "    </tr>\n",
       "    <tr>\n",
       "      <th>308</th>\n",
       "      <td>0</td>\n",
       "      <td>0</td>\n",
       "      <td>1</td>\n",
       "      <td>0</td>\n",
       "      <td>0</td>\n",
       "    </tr>\n",
       "  </tbody>\n",
       "</table>\n",
       "<p>309 rows × 5 columns</p>\n",
       "</div>"
      ],
      "text/plain": [
       "     CARBON DIOXIDE  GAS  GAS-CONDENSATE  METHANE HYDRATE  OIL\n",
       "0                 0    0               0                0    1\n",
       "1                 0    0               0                0    1\n",
       "2                 0    0               0                0    1\n",
       "3                 0    0               0                0    1\n",
       "4                 0    0               0                0    1\n",
       "..              ...  ...             ...              ...  ...\n",
       "304               0    0               0                0    1\n",
       "305               0    0               0                0    1\n",
       "306               0    0               0                0    1\n",
       "307               0    0               1                0    0\n",
       "308               0    0               1                0    0\n",
       "\n",
       "[309 rows x 5 columns]"
      ]
     },
     "execution_count": 14,
     "metadata": {},
     "output_type": "execute_result"
    }
   ],
   "source": [
    "X_hydrocarbon_onehotencoder = pd.get_dummies(train['Hydrocarbon type'])\n",
    "X_hydrocarbon_onehotencoder"
   ]
  },
  {
   "cell_type": "markdown",
   "metadata": {},
   "source": [
    "## 1.3.2 `LabelEncoder`"
   ]
  },
  {
   "cell_type": "code",
   "execution_count": 15,
   "metadata": {},
   "outputs": [],
   "source": [
    "from sklearn.preprocessing import LabelEncoder\n",
    "from sklearn.preprocessing import OneHotEncoder"
   ]
  },
  {
   "cell_type": "code",
   "execution_count": 16,
   "metadata": {},
   "outputs": [
    {
     "data": {
      "text/plain": [
       "array([4, 4, 4, 4, 4, 4, 4, 4, 4, 4, 3, 4, 1, 4, 4, 4, 4, 4, 2, 1, 4, 4,\n",
       "       4, 2, 4, 4, 4, 4, 4, 4, 1, 4, 4, 4, 4, 4, 4, 4, 2, 4, 4, 4, 4, 4,\n",
       "       1, 4, 4, 4, 1, 4, 4, 1, 4, 4, 4, 2, 1, 4, 4, 1, 2, 4, 4, 4, 4, 4,\n",
       "       2, 4, 4, 4, 1, 4, 4, 2, 4, 4, 1, 4, 4, 4, 1, 1, 4, 1, 4, 1, 4, 1,\n",
       "       4, 4, 4, 1, 4, 4, 4, 4, 4, 4, 4, 4, 2, 4, 4, 4, 1, 4, 4, 4, 4, 2,\n",
       "       4, 4, 2, 4, 4, 4, 4, 4, 1, 1, 4, 4, 4, 4, 1, 0, 4, 1, 4, 4, 4, 4,\n",
       "       4, 1, 4, 4, 1, 2, 4, 1, 4, 4, 4, 4, 4, 4, 4, 1, 4, 1, 4, 1, 4, 4,\n",
       "       4, 4, 4, 1, 4, 4, 4, 4, 4, 4, 4, 2, 4, 4, 1, 4, 1, 4, 4, 4, 2, 1,\n",
       "       4, 1, 4, 4, 4, 1, 4, 4, 1, 4, 4, 2, 4, 4, 4, 4, 4, 4, 4, 4, 4, 4,\n",
       "       4, 4, 4, 4, 4, 4, 4, 4, 4, 4, 2, 4, 1, 4, 1, 4, 4, 4, 4, 4, 4, 4,\n",
       "       4, 4, 4, 2, 2, 4, 4, 4, 4, 2, 4, 4, 4, 4, 4, 4, 4, 1, 4, 4, 4, 1,\n",
       "       4, 4, 4, 4, 4, 4, 4, 4, 4, 4, 1, 4, 4, 4, 4, 2, 4, 1, 1, 4, 4, 4,\n",
       "       4, 1, 2, 4, 4, 4, 4, 4, 4, 4, 4, 4, 4, 2, 4, 1, 4, 4, 4, 4, 4, 2,\n",
       "       4, 4, 4, 1, 1, 4, 4, 2, 1, 4, 1, 4, 4, 4, 4, 4, 4, 4, 4, 4, 4, 2,\n",
       "       2])"
      ]
     },
     "execution_count": 16,
     "metadata": {},
     "output_type": "execute_result"
    }
   ],
   "source": [
    "X_hydrocarbon_labelencoder = LabelEncoder().fit_transform(train['Hydrocarbon type'].values)\n",
    "X_hydrocarbon_labelencoder"
   ]
  },
  {
   "cell_type": "markdown",
   "metadata": {},
   "source": [
    "## 1.4 `Reservoir status` - статус разработки месторождения"
   ]
  },
  {
   "cell_type": "code",
   "execution_count": 17,
   "metadata": {},
   "outputs": [
    {
     "data": {
      "text/plain": [
       "array(['DEVELOPING', 'MATURE PRODUCTION', 'DECLINING PRODUCTION',\n",
       "       'REJUVENATING', 'ABANDONED', 'NEARLY DEPLETED', 'UNKNOWN',\n",
       "       'PLATEAU PRODUCTION', 'UNDEVELOPED', 'CONTINUING DEVELOPMENT',\n",
       "       'SECOND PLATEAU PRODUTION', 'DEPLETED'], dtype=object)"
      ]
     },
     "execution_count": 17,
     "metadata": {},
     "output_type": "execute_result"
    }
   ],
   "source": [
    "pd.unique(train['Reservoir status'])"
   ]
  },
  {
   "cell_type": "code",
   "execution_count": 18,
   "metadata": {},
   "outputs": [
    {
     "data": {
      "text/plain": [
       "DECLINING PRODUCTION        93\n",
       "MATURE PRODUCTION           55\n",
       "NEARLY DEPLETED             52\n",
       "PLATEAU PRODUCTION          32\n",
       "REJUVENATING                21\n",
       "DEVELOPING                  21\n",
       "UNKNOWN                     12\n",
       "UNDEVELOPED                  7\n",
       "CONTINUING DEVELOPMENT       6\n",
       "SECOND PLATEAU PRODUTION     5\n",
       "ABANDONED                    4\n",
       "DEPLETED                     1\n",
       "Name: Reservoir status, dtype: int64"
      ]
     },
     "execution_count": 18,
     "metadata": {},
     "output_type": "execute_result"
    }
   ],
   "source": [
    "pd.value_counts(train['Reservoir status'])"
   ]
  },
  {
   "cell_type": "markdown",
   "metadata": {},
   "source": [
    "## 1.5 `Structural setting`"
   ]
  },
  {
   "cell_type": "code",
   "execution_count": 19,
   "metadata": {},
   "outputs": [],
   "source": [
    "values_structural_setting = {}\n",
    "l_of_list_str_sett = train['Structural setting'].str.split('/').tolist() # partition \n",
    "for i in l_of_list_str_sett:\n",
    "    for j in i:\n",
    "        if j in values_structural_setting.keys():\n",
    "            values_structural_setting[j] += 1\n",
    "        else:\n",
    "            values_structural_setting[j] = 0\n",
    "            values_structural_setting[j] +=1\n",
    "X_structural_setting = pd.DataFrame(data = np.zeros((train.shape[0], \n",
    "                                                  len(values_structural_setting.keys()))), \n",
    "                                 columns=values_structural_setting.keys(), dtype=int)\n",
    "for i, val in zip(range(train.shape[0]), l_of_list_str_sett):\n",
    "    for j in val:\n",
    "        X_structural_setting.at[i, j] = 1"
   ]
  },
  {
   "cell_type": "code",
   "execution_count": 20,
   "metadata": {},
   "outputs": [
    {
     "data": {
      "text/html": [
       "<div>\n",
       "<style scoped>\n",
       "    .dataframe tbody tr th:only-of-type {\n",
       "        vertical-align: middle;\n",
       "    }\n",
       "\n",
       "    .dataframe tbody tr th {\n",
       "        vertical-align: top;\n",
       "    }\n",
       "\n",
       "    .dataframe thead th {\n",
       "        text-align: right;\n",
       "    }\n",
       "</style>\n",
       "<table border=\"1\" class=\"dataframe\">\n",
       "  <thead>\n",
       "    <tr style=\"text-align: right;\">\n",
       "      <th></th>\n",
       "      <th>INVERSION</th>\n",
       "      <th>WRENCH</th>\n",
       "      <th>SALT</th>\n",
       "      <th>PASSIVE MARGIN</th>\n",
       "      <th>THRUST</th>\n",
       "      <th>RIFT</th>\n",
       "      <th>INTRACRATONIC</th>\n",
       "      <th>FORELAND</th>\n",
       "      <th>DELTA</th>\n",
       "      <th>SUB-THRUST</th>\n",
       "      <th>SUB-SALT</th>\n",
       "      <th>BACKARC</th>\n",
       "      <th></th>\n",
       "      <th>FOREARC</th>\n",
       "    </tr>\n",
       "  </thead>\n",
       "  <tbody>\n",
       "    <tr>\n",
       "      <th>0</th>\n",
       "      <td>1</td>\n",
       "      <td>1</td>\n",
       "      <td>0</td>\n",
       "      <td>0</td>\n",
       "      <td>0</td>\n",
       "      <td>0</td>\n",
       "      <td>0</td>\n",
       "      <td>0</td>\n",
       "      <td>0</td>\n",
       "      <td>0</td>\n",
       "      <td>0</td>\n",
       "      <td>0</td>\n",
       "      <td>0</td>\n",
       "      <td>0</td>\n",
       "    </tr>\n",
       "    <tr>\n",
       "      <th>1</th>\n",
       "      <td>0</td>\n",
       "      <td>0</td>\n",
       "      <td>1</td>\n",
       "      <td>1</td>\n",
       "      <td>0</td>\n",
       "      <td>0</td>\n",
       "      <td>0</td>\n",
       "      <td>0</td>\n",
       "      <td>0</td>\n",
       "      <td>0</td>\n",
       "      <td>0</td>\n",
       "      <td>0</td>\n",
       "      <td>0</td>\n",
       "      <td>0</td>\n",
       "    </tr>\n",
       "    <tr>\n",
       "      <th>2</th>\n",
       "      <td>0</td>\n",
       "      <td>0</td>\n",
       "      <td>0</td>\n",
       "      <td>1</td>\n",
       "      <td>0</td>\n",
       "      <td>0</td>\n",
       "      <td>0</td>\n",
       "      <td>0</td>\n",
       "      <td>0</td>\n",
       "      <td>0</td>\n",
       "      <td>0</td>\n",
       "      <td>0</td>\n",
       "      <td>0</td>\n",
       "      <td>0</td>\n",
       "    </tr>\n",
       "    <tr>\n",
       "      <th>3</th>\n",
       "      <td>0</td>\n",
       "      <td>0</td>\n",
       "      <td>0</td>\n",
       "      <td>0</td>\n",
       "      <td>1</td>\n",
       "      <td>0</td>\n",
       "      <td>0</td>\n",
       "      <td>0</td>\n",
       "      <td>0</td>\n",
       "      <td>0</td>\n",
       "      <td>0</td>\n",
       "      <td>0</td>\n",
       "      <td>0</td>\n",
       "      <td>0</td>\n",
       "    </tr>\n",
       "    <tr>\n",
       "      <th>4</th>\n",
       "      <td>1</td>\n",
       "      <td>0</td>\n",
       "      <td>0</td>\n",
       "      <td>0</td>\n",
       "      <td>0</td>\n",
       "      <td>1</td>\n",
       "      <td>0</td>\n",
       "      <td>0</td>\n",
       "      <td>0</td>\n",
       "      <td>0</td>\n",
       "      <td>0</td>\n",
       "      <td>0</td>\n",
       "      <td>0</td>\n",
       "      <td>0</td>\n",
       "    </tr>\n",
       "    <tr>\n",
       "      <th>...</th>\n",
       "      <td>...</td>\n",
       "      <td>...</td>\n",
       "      <td>...</td>\n",
       "      <td>...</td>\n",
       "      <td>...</td>\n",
       "      <td>...</td>\n",
       "      <td>...</td>\n",
       "      <td>...</td>\n",
       "      <td>...</td>\n",
       "      <td>...</td>\n",
       "      <td>...</td>\n",
       "      <td>...</td>\n",
       "      <td>...</td>\n",
       "      <td>...</td>\n",
       "    </tr>\n",
       "    <tr>\n",
       "      <th>304</th>\n",
       "      <td>0</td>\n",
       "      <td>0</td>\n",
       "      <td>0</td>\n",
       "      <td>1</td>\n",
       "      <td>0</td>\n",
       "      <td>0</td>\n",
       "      <td>0</td>\n",
       "      <td>0</td>\n",
       "      <td>1</td>\n",
       "      <td>0</td>\n",
       "      <td>1</td>\n",
       "      <td>0</td>\n",
       "      <td>0</td>\n",
       "      <td>0</td>\n",
       "    </tr>\n",
       "    <tr>\n",
       "      <th>305</th>\n",
       "      <td>0</td>\n",
       "      <td>0</td>\n",
       "      <td>0</td>\n",
       "      <td>1</td>\n",
       "      <td>0</td>\n",
       "      <td>1</td>\n",
       "      <td>0</td>\n",
       "      <td>0</td>\n",
       "      <td>0</td>\n",
       "      <td>0</td>\n",
       "      <td>0</td>\n",
       "      <td>0</td>\n",
       "      <td>0</td>\n",
       "      <td>0</td>\n",
       "    </tr>\n",
       "    <tr>\n",
       "      <th>306</th>\n",
       "      <td>0</td>\n",
       "      <td>0</td>\n",
       "      <td>0</td>\n",
       "      <td>0</td>\n",
       "      <td>0</td>\n",
       "      <td>0</td>\n",
       "      <td>0</td>\n",
       "      <td>1</td>\n",
       "      <td>0</td>\n",
       "      <td>0</td>\n",
       "      <td>0</td>\n",
       "      <td>0</td>\n",
       "      <td>0</td>\n",
       "      <td>0</td>\n",
       "    </tr>\n",
       "    <tr>\n",
       "      <th>307</th>\n",
       "      <td>0</td>\n",
       "      <td>0</td>\n",
       "      <td>1</td>\n",
       "      <td>0</td>\n",
       "      <td>0</td>\n",
       "      <td>1</td>\n",
       "      <td>0</td>\n",
       "      <td>0</td>\n",
       "      <td>0</td>\n",
       "      <td>0</td>\n",
       "      <td>0</td>\n",
       "      <td>0</td>\n",
       "      <td>0</td>\n",
       "      <td>0</td>\n",
       "    </tr>\n",
       "    <tr>\n",
       "      <th>308</th>\n",
       "      <td>0</td>\n",
       "      <td>0</td>\n",
       "      <td>0</td>\n",
       "      <td>0</td>\n",
       "      <td>0</td>\n",
       "      <td>1</td>\n",
       "      <td>0</td>\n",
       "      <td>0</td>\n",
       "      <td>0</td>\n",
       "      <td>0</td>\n",
       "      <td>0</td>\n",
       "      <td>0</td>\n",
       "      <td>0</td>\n",
       "      <td>0</td>\n",
       "    </tr>\n",
       "  </tbody>\n",
       "</table>\n",
       "<p>309 rows × 14 columns</p>\n",
       "</div>"
      ],
      "text/plain": [
       "     INVERSION  WRENCH  SALT  PASSIVE MARGIN  THRUST  RIFT  INTRACRATONIC  \\\n",
       "0            1       1     0               0       0     0              0   \n",
       "1            0       0     1               1       0     0              0   \n",
       "2            0       0     0               1       0     0              0   \n",
       "3            0       0     0               0       1     0              0   \n",
       "4            1       0     0               0       0     1              0   \n",
       "..         ...     ...   ...             ...     ...   ...            ...   \n",
       "304          0       0     0               1       0     0              0   \n",
       "305          0       0     0               1       0     1              0   \n",
       "306          0       0     0               0       0     0              0   \n",
       "307          0       0     1               0       0     1              0   \n",
       "308          0       0     0               0       0     1              0   \n",
       "\n",
       "     FORELAND  DELTA  SUB-THRUST  SUB-SALT  BACKARC     FOREARC  \n",
       "0           0      0           0         0        0  0        0  \n",
       "1           0      0           0         0        0  0        0  \n",
       "2           0      0           0         0        0  0        0  \n",
       "3           0      0           0         0        0  0        0  \n",
       "4           0      0           0         0        0  0        0  \n",
       "..        ...    ...         ...       ...      ... ..      ...  \n",
       "304         0      1           0         1        0  0        0  \n",
       "305         0      0           0         0        0  0        0  \n",
       "306         1      0           0         0        0  0        0  \n",
       "307         0      0           0         0        0  0        0  \n",
       "308         0      0           0         0        0  0        0  \n",
       "\n",
       "[309 rows x 14 columns]"
      ]
     },
     "execution_count": 20,
     "metadata": {},
     "output_type": "execute_result"
    }
   ],
   "source": [
    "X_structural_setting"
   ]
  },
  {
   "cell_type": "markdown",
   "metadata": {},
   "source": [
    "## 1.6 `Depth` – средняя глубина кровли резервуара"
   ]
  },
  {
   "cell_type": "code",
   "execution_count": 21,
   "metadata": {},
   "outputs": [
    {
     "data": {
      "text/plain": [
       "<matplotlib.axes._subplots.AxesSubplot at 0x2dc46081520>"
      ]
     },
     "execution_count": 21,
     "metadata": {},
     "output_type": "execute_result"
    },
    {
     "data": {
      "image/png": "[encoded data removed]",
      "text/plain": [
       "<Figure size 432x288 with 1 Axes>"
      ]
     },
     "metadata": {
      "needs_background": "light"
     },
     "output_type": "display_data"
    }
   ],
   "source": [
    "train['Depth'].hist()"
   ]
  },
  {
   "cell_type": "markdown",
   "metadata": {},
   "source": [
    "Можно применить `MinMaxScaler`"
   ]
  },
  {
   "cell_type": "code",
   "execution_count": 22,
   "metadata": {},
   "outputs": [],
   "source": [
    "from sklearn.preprocessing import MinMaxScaler\n",
    "from sklearn.preprocessing import StandardScaler"
   ]
  },
  {
   "cell_type": "code",
   "execution_count": 23,
   "metadata": {},
   "outputs": [],
   "source": [
    "standart_scaler_depth = StandardScaler().fit_transform(train['Depth'].values.reshape(-1, 1))"
   ]
  },
  {
   "cell_type": "code",
   "execution_count": 24,
   "metadata": {},
   "outputs": [],
   "source": [
    "min_max_scaler_depth =  MinMaxScaler().fit_transform(train['Depth'].values.reshape(-1, 1))"
   ]
  },
  {
   "cell_type": "markdown",
   "metadata": {},
   "source": [
    "## 1.7 `Period` - геологическая система образования резервуара"
   ]
  },
  {
   "cell_type": "code",
   "execution_count": 25,
   "metadata": {},
   "outputs": [
    {
     "data": {
      "text/plain": [
       "array(['NEOGENE', 'CRETACEOUS', 'CARBONIFEROUS', 'PROTEROZOIC', 'PERMIAN',\n",
       "       'PALEOGENE-NEOGENE', 'DEVONIAN', 'JURASSIC', 'PALEOGENE',\n",
       "       'CARBONIFEROUS-PERMIAN', 'CRETACEOUS-PALEOGENE', 'ORDOVICIAN',\n",
       "       'TRIASSIC', 'PROTEROZOIC-CAMBRIAN', 'TRIASSIC-JURASSIC',\n",
       "       'JURASSIC-CRETACEOUS', 'CARBONIFEROUS-CRETACEOUS', 'ARCHEAN',\n",
       "       'CAMBRIAN', 'MESOZOIC', 'CAMBRIAN-ORDOVICIAN', 'PALEOZOIC'],\n",
       "      dtype=object)"
      ]
     },
     "execution_count": 25,
     "metadata": {},
     "output_type": "execute_result"
    }
   ],
   "source": [
    "pd.unique(train['Period'])"
   ]
  },
  {
   "cell_type": "code",
   "execution_count": 26,
   "metadata": {},
   "outputs": [
    {
     "data": {
      "text/plain": [
       "CRETACEOUS                  83\n",
       "NEOGENE                     45\n",
       "JURASSIC                    41\n",
       "PALEOGENE                   34\n",
       "CARBONIFEROUS               25\n",
       "PERMIAN                     22\n",
       "DEVONIAN                    16\n",
       "TRIASSIC                    10\n",
       "CRETACEOUS-PALEOGENE         8\n",
       "PROTEROZOIC                  5\n",
       "CARBONIFEROUS-PERMIAN        4\n",
       "PALEOGENE-NEOGENE            3\n",
       "TRIASSIC-JURASSIC            2\n",
       "JURASSIC-CRETACEOUS          2\n",
       "ORDOVICIAN                   2\n",
       "CAMBRIAN                     1\n",
       "MESOZOIC                     1\n",
       "ARCHEAN                      1\n",
       "CAMBRIAN-ORDOVICIAN          1\n",
       "PALEOZOIC                    1\n",
       "CARBONIFEROUS-CRETACEOUS     1\n",
       "PROTEROZOIC-CAMBRIAN         1\n",
       "Name: Period, dtype: int64"
      ]
     },
     "execution_count": 26,
     "metadata": {},
     "output_type": "execute_result"
    }
   ],
   "source": [
    "pd.value_counts(train['Period'])"
   ]
  },
  {
   "cell_type": "code",
   "execution_count": 27,
   "metadata": {},
   "outputs": [
    {
     "data": {
      "text/plain": [
       "array([12,  6,  6,  6,  6,  3, 18,  6,  3, 17,  6, 15,  8, 12,  6,  9, 12,\n",
       "        6,  3,  3,  9, 17, 12,  9,  9, 17,  3, 14,  9,  6,  5,  7, 12,  8,\n",
       "        8,  9,  9,  6, 12,  8, 17,  6,  6,  9, 13,  6, 12,  8,  8, 12,  6,\n",
       "        3, 20,  9,  6, 14,  9,  9,  6, 17,  6, 19, 14,  9,  3,  6, 14, 14,\n",
       "        6,  9, 12, 14, 17, 21,  6,  9,  6,  5, 12,  9,  6,  6,  9, 10, 20,\n",
       "        8,  8,  8,  6,  6,  9,  6,  3, 12,  3, 15,  6,  9,  6,  8, 14,  8,\n",
       "        6, 14,  8,  3,  6, 12, 12, 18,  6,  6, 10,  9,  6,  8,  9,  4, 12,\n",
       "        7,  3, 12,  6,  3,  9, 12, 12,  3, 17, 17,  0, 12, 21,  6,  6, 14,\n",
       "        6,  6,  6,  3, 12, 17, 12, 20,  9,  6,  7, 17, 14, 18, 17, 14, 14,\n",
       "        6,  9, 12, 14,  3,  9,  3,  9, 20, 12,  9,  6, 12,  3,  6, 17, 12,\n",
       "        9,  6,  5,  9,  6, 13, 12, 20, 17,  6, 18,  6, 14,  6, 14,  6, 14,\n",
       "       14,  6,  1,  6,  6,  9,  9, 12, 12,  3,  6,  3,  9,  6, 12, 14,  6,\n",
       "        6, 12,  7,  6, 17, 18, 14, 12, 12,  3, 12, 12,  6, 17,  6,  9,  9,\n",
       "        6,  6,  8, 12, 12, 11,  9, 20,  2, 12, 20, 12, 12,  6, 14,  7, 20,\n",
       "        6, 17, 14, 17, 14, 14,  3,  5, 14, 12,  6,  9,  8,  9, 17, 17, 17,\n",
       "        6, 14, 12, 14,  7, 14,  6, 12,  6, 12,  9,  6, 14,  6,  7, 14,  6,\n",
       "        9, 16,  6,  3, 17,  9, 14, 12,  6,  8, 12, 17, 14,  6,  3,  6,  6,\n",
       "        6, 20,  6,  3,  7,  9, 14,  6,  3, 14, 20, 14,  6,  6, 15, 12,  6,\n",
       "        6,  9,  6])"
      ]
     },
     "execution_count": 27,
     "metadata": {},
     "output_type": "execute_result"
    }
   ],
   "source": [
    "X_period = LabelEncoder().fit_transform(train['Period'].values)\n",
    "X_period"
   ]
  },
  {
   "cell_type": "markdown",
   "metadata": {},
   "source": [
    "## 1.8  `Lithology` - основной литологический состав коллектора"
   ]
  },
  {
   "cell_type": "code",
   "execution_count": 28,
   "metadata": {},
   "outputs": [
    {
     "data": {
      "text/plain": [
       "SANDSTONE                    180\n",
       "LIMESTONE                     42\n",
       "DOLOMITE                      38\n",
       "LOW-RESISTIVITY SANDSTONE      9\n",
       "CONGLOMERATE                   7\n",
       "CHALK                          7\n",
       "CHALKY LIMESTONE               6\n",
       "THINLY-BEDDED SANDSTONE        6\n",
       "SILTSTONE                      3\n",
       "SHALY SANDSTONE                3\n",
       "DOLOMITIC LIMESTONE            2\n",
       "VOLCANICS                      2\n",
       "SHALE                          1\n",
       "DIATOMITE                      1\n",
       "BASEMENT                       1\n",
       "CHERT                          1\n",
       "Name: Lithology, dtype: int64"
      ]
     },
     "execution_count": 28,
     "metadata": {},
     "output_type": "execute_result"
    }
   ],
   "source": [
    "pd.value_counts(train['Lithology'])"
   ]
  },
  {
   "cell_type": "code",
   "execution_count": 29,
   "metadata": {},
   "outputs": [],
   "source": [
    "map_dict = pd.value_counts(train['Lithology']) / (pd.value_counts(train['Lithology']).sum())"
   ]
  },
  {
   "cell_type": "code",
   "execution_count": 30,
   "metadata": {},
   "outputs": [
    {
     "data": {
      "text/html": [
       "<div>\n",
       "<style scoped>\n",
       "    .dataframe tbody tr th:only-of-type {\n",
       "        vertical-align: middle;\n",
       "    }\n",
       "\n",
       "    .dataframe tbody tr th {\n",
       "        vertical-align: top;\n",
       "    }\n",
       "\n",
       "    .dataframe thead th {\n",
       "        text-align: right;\n",
       "    }\n",
       "</style>\n",
       "<table border=\"1\" class=\"dataframe\">\n",
       "  <thead>\n",
       "    <tr style=\"text-align: right;\">\n",
       "      <th></th>\n",
       "      <th>Lithology</th>\n",
       "    </tr>\n",
       "  </thead>\n",
       "  <tbody>\n",
       "    <tr>\n",
       "      <th>0</th>\n",
       "      <td>0.582524</td>\n",
       "    </tr>\n",
       "    <tr>\n",
       "      <th>1</th>\n",
       "      <td>0.135922</td>\n",
       "    </tr>\n",
       "    <tr>\n",
       "      <th>2</th>\n",
       "      <td>0.135922</td>\n",
       "    </tr>\n",
       "    <tr>\n",
       "      <th>3</th>\n",
       "      <td>0.582524</td>\n",
       "    </tr>\n",
       "    <tr>\n",
       "      <th>4</th>\n",
       "      <td>0.582524</td>\n",
       "    </tr>\n",
       "    <tr>\n",
       "      <th>...</th>\n",
       "      <td>...</td>\n",
       "    </tr>\n",
       "    <tr>\n",
       "      <th>304</th>\n",
       "      <td>0.029126</td>\n",
       "    </tr>\n",
       "    <tr>\n",
       "      <th>305</th>\n",
       "      <td>0.029126</td>\n",
       "    </tr>\n",
       "    <tr>\n",
       "      <th>306</th>\n",
       "      <td>0.019417</td>\n",
       "    </tr>\n",
       "    <tr>\n",
       "      <th>307</th>\n",
       "      <td>0.582524</td>\n",
       "    </tr>\n",
       "    <tr>\n",
       "      <th>308</th>\n",
       "      <td>0.582524</td>\n",
       "    </tr>\n",
       "  </tbody>\n",
       "</table>\n",
       "<p>309 rows × 1 columns</p>\n",
       "</div>"
      ],
      "text/plain": [
       "     Lithology\n",
       "0     0.582524\n",
       "1     0.135922\n",
       "2     0.135922\n",
       "3     0.582524\n",
       "4     0.582524\n",
       "..         ...\n",
       "304   0.029126\n",
       "305   0.029126\n",
       "306   0.019417\n",
       "307   0.582524\n",
       "308   0.582524\n",
       "\n",
       "[309 rows x 1 columns]"
      ]
     },
     "execution_count": 30,
     "metadata": {},
     "output_type": "execute_result"
    }
   ],
   "source": [
    "X_Lithology = train['Lithology'].map(map_dict).to_frame()\n",
    "X_Lithology"
   ]
  },
  {
   "cell_type": "code",
   "execution_count": 31,
   "metadata": {},
   "outputs": [
    {
     "data": {
      "text/plain": [
       "array([10,  8,  8, 10, 10,  6, 10, 10,  8,  6, 10, 10,  6, 10, 10, 10, 10,\n",
       "       10,  6,  8, 10, 10, 10, 10, 14,  6,  8, 10,  8,  2,  8,  8, 10,  8,\n",
       "        8, 10, 10, 10, 10,  6,  6,  9,  8, 10,  6,  9, 10,  3, 11, 10, 10,\n",
       "        4, 10,  8, 10, 10, 10, 10,  8, 10, 10,  6, 10,  6,  6, 10, 12,  8,\n",
       "       10, 10, 10, 10,  6, 10, 12,  8,  8,  8, 10, 10,  8, 10,  8, 10,  4,\n",
       "        6, 10,  6,  1, 10,  8, 13,  6, 10, 10,  7, 10,  8,  8, 10, 10,  6,\n",
       "       10, 10,  6,  6,  2, 10,  5, 10,  6, 10, 10, 10, 10, 10,  8, 10, 10,\n",
       "       10,  7, 10, 10, 10,  2,  8, 10,  4,  6,  8,  0, 10, 10, 10, 10, 10,\n",
       "       10,  8, 10, 12, 10,  8,  9, 10, 10, 10,  1,  6, 10, 10,  6, 10,  8,\n",
       "       10, 10, 10, 10,  6, 10,  6, 10, 10, 10, 10, 10,  8,  6,  8, 10,  8,\n",
       "        6, 10, 10,  6, 10, 10, 10, 10,  6, 10,  6, 10, 10,  8, 10,  9, 10,\n",
       "       10,  9, 10, 10, 10, 10, 10, 14, 14,  8,  9, 10, 10, 10, 10, 10,  8,\n",
       "        8, 10, 10,  9, 13,  6, 10, 10, 10,  8, 10, 10, 10,  6, 10, 10, 10,\n",
       "       10, 10,  6, 10, 10, 15,  8, 10, 10,  8, 10, 14, 10,  8, 10,  1, 10,\n",
       "        1, 10, 10, 10, 10, 10,  6, 10, 10, 10, 10, 10, 10,  8, 10, 13, 10,\n",
       "       10, 10, 10, 10, 10, 10, 10, 10,  4, 10, 10, 10, 10, 10,  1, 10,  4,\n",
       "       10, 10, 10,  6,  6, 10, 10, 14,  2,  8, 10,  6, 10, 10,  6, 10,  1,\n",
       "       10,  6,  8, 10,  1, 10, 15,  2, 10,  4,  4, 10, 14, 10, 10,  9,  9,\n",
       "        2, 10, 10])"
      ]
     },
     "execution_count": 31,
     "metadata": {},
     "output_type": "execute_result"
    }
   ],
   "source": [
    "X_Lithology_label_encoder = LabelEncoder().fit_transform(train['Lithology'].values)\n",
    "X_Lithology_label_encoder"
   ]
  },
  {
   "cell_type": "markdown",
   "metadata": {},
   "source": [
    "## 1.9 `Gross` – среднее значение общей толщины резервуара"
   ]
  },
  {
   "cell_type": "code",
   "execution_count": 32,
   "metadata": {},
   "outputs": [
    {
     "data": {
      "image/png": "[encoded data removed]",
      "text/plain": [
       "<Figure size 432x288 with 1 Axes>"
      ]
     },
     "metadata": {
      "needs_background": "light"
     },
     "output_type": "display_data"
    }
   ],
   "source": [
    "train['Gross'].hist()\n",
    "plt.show()"
   ]
  },
  {
   "cell_type": "code",
   "execution_count": 33,
   "metadata": {},
   "outputs": [
    {
     "data": {
      "image/png": "[encoded data removed]",
      "text/plain": [
       "<Figure size 432x288 with 1 Axes>"
      ]
     },
     "metadata": {
      "needs_background": "light"
     },
     "output_type": "display_data"
    }
   ],
   "source": [
    "from sklearn.preprocessing import QuantileTransformer\n",
    "qt = QuantileTransformer(output_distribution='normal', n_quantiles=train.shape[0])\n",
    "X_normal_gross = qt.fit_transform(train['Gross'].values.reshape(-1, 1))\n",
    "plt.hist(X_normal_gross)\n",
    "plt.show()"
   ]
  },
  {
   "cell_type": "markdown",
   "metadata": {},
   "source": [
    "## 1.10 `Netpay` – среднее значение эффективной углеводородонасыщенной толщины коллектора"
   ]
  },
  {
   "cell_type": "code",
   "execution_count": 34,
   "metadata": {},
   "outputs": [
    {
     "data": {
      "image/png": "[encoded data removed]",
      "text/plain": [
       "<Figure size 432x288 with 1 Axes>"
      ]
     },
     "metadata": {
      "needs_background": "light"
     },
     "output_type": "display_data"
    }
   ],
   "source": [
    "train['Netpay'].hist()\n",
    "plt.show()"
   ]
  },
  {
   "cell_type": "code",
   "execution_count": 35,
   "metadata": {},
   "outputs": [
    {
     "data": {
      "image/png": "[encoded data removed]",
      "text/plain": [
       "<Figure size 432x288 with 1 Axes>"
      ]
     },
     "metadata": {
      "needs_background": "light"
     },
     "output_type": "display_data"
    }
   ],
   "source": [
    "X_normal_netpay = qt.fit_transform(train['Netpay'].values.reshape(-1, 1))\n",
    "plt.hist(X_normal_netpay)\n",
    "plt.show()"
   ]
  },
  {
   "cell_type": "markdown",
   "metadata": {},
   "source": [
    "## 1.11 `Porosity` - среднее значение матричной пористости"
   ]
  },
  {
   "cell_type": "code",
   "execution_count": 36,
   "metadata": {},
   "outputs": [
    {
     "data": {
      "image/png": "[encoded data removed]",
      "text/plain": [
       "<Figure size 432x288 with 1 Axes>"
      ]
     },
     "metadata": {
      "needs_background": "light"
     },
     "output_type": "display_data"
    }
   ],
   "source": [
    "plt.hist(train['Porosity'])\n",
    "plt.show()"
   ]
  },
  {
   "cell_type": "markdown",
   "metadata": {},
   "source": [
    "## 1.12 `Permeability` – среднее значение проницаемости по воздуху."
   ]
  },
  {
   "cell_type": "code",
   "execution_count": 37,
   "metadata": {},
   "outputs": [
    {
     "data": {
      "image/png": "[encoded data removed]",
      "text/plain": [
       "<Figure size 432x288 with 1 Axes>"
      ]
     },
     "metadata": {
      "needs_background": "light"
     },
     "output_type": "display_data"
    }
   ],
   "source": [
    "plt.hist(train['Permeability'])\n",
    "plt.show()"
   ]
  },
  {
   "cell_type": "code",
   "execution_count": 38,
   "metadata": {},
   "outputs": [
    {
     "data": {
      "image/png": "[encoded data removed]",
      "text/plain": [
       "<Figure size 432x288 with 1 Axes>"
      ]
     },
     "metadata": {
      "needs_background": "light"
     },
     "output_type": "display_data"
    }
   ],
   "source": [
    "X_normal_Permeability = qt.fit_transform(train['Permeability'].values.reshape(-1, 1))\n",
    "plt.hist(X_normal_Permeability)\n",
    "plt.show()"
   ]
  },
  {
   "cell_type": "markdown",
   "metadata": {},
   "source": [
    "## 2. Features"
   ]
  },
  {
   "cell_type": "code",
   "execution_count": 39,
   "metadata": {},
   "outputs": [],
   "source": [
    "X_features = pd.concat((X_Tectonic_regime, \n",
    "           X_hydrocarbon_onehotencoder, \n",
    "           X_structural_setting, \n",
    "           train['Depth'],\n",
    "           pd.DataFrame(X_period, columns=['Period']),\n",
    "           X_Lithology, \n",
    "           pd.DataFrame(X_normal_gross, columns=['Gross']), \n",
    "           pd.DataFrame(X_normal_netpay, columns=['Netpay']), \n",
    "           train['Porosity'], \n",
    "           pd.DataFrame(X_normal_Permeability, columns=['Permeability'])), axis=1)"
   ]
  },
  {
   "cell_type": "code",
   "execution_count": 40,
   "metadata": {},
   "outputs": [
    {
     "data": {
      "text/plain": [
       "(309, 42)"
      ]
     },
     "execution_count": 40,
     "metadata": {},
     "output_type": "execute_result"
    }
   ],
   "source": [
    "X_features.shape"
   ]
  },
  {
   "cell_type": "code",
   "execution_count": 41,
   "metadata": {},
   "outputs": [],
   "source": [
    "X_features = pd.concat((X_Tectonic_regime, \n",
    "                        X_hydrocarbon_onehotencoder, \n",
    "                        #pd.DataFrame(X_hydrocarbon_labelencoder, columns=['hydrocarbon']),\n",
    "                        X_structural_setting, \n",
    "                        train['Depth'],\n",
    "                        #pd.DataFrame(MinMaxScaler().fit_transform(train['Depth'].values.reshape(-1, 1)), columns=['Depth']),\n",
    "                        pd.DataFrame(X_period, columns=['Period']),\n",
    "                        #X_Lithology, \n",
    "                        #pd.DataFrame(LabelEncoder().fit_transform(train['Reservoir status']), columns=['Reservoir status']),\n",
    "                        pd.DataFrame(X_Lithology_label_encoder, columns=['Lithology']),\n",
    "                        pd.DataFrame(StandardScaler().fit_transform(train['Gross'].values.reshape(-1, 1)), columns=['Gross']),\n",
    "                        #train['Gross'],\n",
    "                        pd.DataFrame(X_normal_gross, columns=['Gross']), \n",
    "                        #train['Netpay'],\n",
    "                        pd.DataFrame(X_normal_netpay, columns=['Netpay']), \n",
    "                        #pd.DataFrame(StandardScaler().fit_transform(train['Porosity'].values.reshape(-1, 1)), columns=['Porosity']),\n",
    "                        #train['Permeability']\n",
    "                        pd.DataFrame(X_normal_Permeability, columns=['Permeability'])\n",
    "                      ), \n",
    "                       axis=1)"
   ]
  },
  {
   "cell_type": "markdown",
   "metadata": {},
   "source": [
    "## 3. Cross Validation"
   ]
  },
  {
   "cell_type": "code",
   "execution_count": 42,
   "metadata": {},
   "outputs": [],
   "source": [
    "from sklearn.model_selection import cross_val_score\n",
    "from sklearn.model_selection import ShuffleSplit\n",
    "from sklearn.linear_model import LogisticRegression\n",
    "from sklearn.tree import DecisionTreeClassifier\n",
    "from sklearn.ensemble import RandomForestClassifier\n",
    "from sklearn.ensemble import AdaBoostClassifier, ExtraTreesClassifier,GradientBoostingClassifier\n",
    "from sklearn.model_selection import cross_val_score, cross_val_predict\n",
    "from sklearn.model_selection import ShuffleSplit\n",
    "from sklearn.linear_model import LogisticRegression\n",
    "from sklearn.tree import DecisionTreeClassifier\n",
    "from sklearn.ensemble import RandomForestClassifier\n",
    "from sklearn.ensemble import AdaBoostClassifier, ExtraTreesClassifier, GradientBoostingClassifier, VotingClassifier\n",
    "import lightgbm as lgb\n",
    "from sklearn.model_selection import StratifiedKFold\n",
    "from sklearn.model_selection import KFold\n",
    "from sklearn.model_selection import GridSearchCV\n",
    "from sklearn.metrics import accuracy_score"
   ]
  },
  {
   "cell_type": "code",
   "execution_count": 43,
   "metadata": {},
   "outputs": [],
   "source": [
    "adb = AdaBoostClassifier(base_estimator=ExtraTreesClassifier(n_estimators = 400, max_features=10, random_state=42),\n",
    "                           n_estimators=400, random_state=1)\n",
    "\n",
    "adb_max_features = AdaBoostClassifier(base_estimator=RandomForestClassifier(),\n",
    "                           n_estimators=400, random_state=1)\n",
    "\n",
    "# lgb_classifier = lgb.LGBMClassifier(num_leaves=400, \n",
    "#                               learning_rate=0.01, \n",
    "#                               n_estimators=int(400),\n",
    "#                               colsample_bytree=0.5,\n",
    "#                               subsample=0.5, \n",
    "#                               nthread=-1,\n",
    "#                               random_state=42)\n",
    "\n",
    "gb = GradientBoostingClassifier(n_estimators=400, \n",
    "                                     subsample=0.5,\n",
    "                                     max_features=4,\n",
    "                                     random_state=42)\n",
    "cv = ShuffleSplit(n_splits=3, test_size=0.25)\n",
    "kf = KFold(n_splits=4, shuffle=True)\n",
    "classifiers = []\n",
    "\n",
    "# метод split возвращает индексы для объектов train и test\n",
    "for train_index, test_index in kf.split(X_features):\n",
    "    vote_classifier = VotingClassifier([('ADB(10)', adb), \n",
    "                                    ('ADB', adb_max_features), \n",
    "                                    #('LGB', lgb_classifier), \n",
    "                                    ('GB', gb)])\n",
    "    X_train, X_test = X_features.iloc[train_index], X_features.iloc[test_index]\n",
    "    y_train, y_test = y[train_index], y[test_index]\n",
    "    vote_classifier.fit(X_train, y_train)\n",
    "    print(accuracy_score(vote_classifier.predict(X_test), y_test))\n",
    " \n",
    "    # получим 5 оптимальных классификаторов\n",
    "    classifiers.append(vote_classifier)"
   ]
  },
  {
   "cell_type": "markdown",
   "metadata": {},
   "source": [
    "## Test Another Features"
   ]
  },
  {
   "cell_type": "markdown",
   "metadata": {},
   "source": [
    "## Test Features Prepare"
   ]
  },
  {
   "cell_type": "code",
   "execution_count": 43,
   "metadata": {},
   "outputs": [
    {
     "data": {
      "text/html": [
       "<div>\n",
       "<style scoped>\n",
       "    .dataframe tbody tr th:only-of-type {\n",
       "        vertical-align: middle;\n",
       "    }\n",
       "\n",
       "    .dataframe tbody tr th {\n",
       "        vertical-align: top;\n",
       "    }\n",
       "\n",
       "    .dataframe thead th {\n",
       "        text-align: right;\n",
       "    }\n",
       "</style>\n",
       "<table border=\"1\" class=\"dataframe\">\n",
       "  <thead>\n",
       "    <tr style=\"text-align: right;\">\n",
       "      <th></th>\n",
       "      <th>Tectonic regime</th>\n",
       "      <th>Hydrocarbon type</th>\n",
       "      <th>Reservoir status</th>\n",
       "      <th>Structural setting</th>\n",
       "      <th>Depth</th>\n",
       "      <th>Period</th>\n",
       "      <th>Lithology</th>\n",
       "      <th>Gross</th>\n",
       "      <th>Netpay</th>\n",
       "      <th>Porosity</th>\n",
       "      <th>Permeability</th>\n",
       "    </tr>\n",
       "  </thead>\n",
       "  <tbody>\n",
       "    <tr>\n",
       "      <th>0</th>\n",
       "      <td>COMPRESSION</td>\n",
       "      <td>GAS</td>\n",
       "      <td>MATURE PRODUCTION</td>\n",
       "      <td>FORELAND</td>\n",
       "      <td>2275</td>\n",
       "      <td>PERMIAN</td>\n",
       "      <td>SANDSTONE</td>\n",
       "      <td>325.0</td>\n",
       "      <td>30.0</td>\n",
       "      <td>13.0</td>\n",
       "      <td>0.04</td>\n",
       "    </tr>\n",
       "    <tr>\n",
       "      <th>1</th>\n",
       "      <td>INVERSION/COMPRESSION/EXTENSION/EROSION</td>\n",
       "      <td>OIL</td>\n",
       "      <td>ABANDONED</td>\n",
       "      <td>FORELAND</td>\n",
       "      <td>500</td>\n",
       "      <td>PERMIAN</td>\n",
       "      <td>SANDSTONE</td>\n",
       "      <td>40.0</td>\n",
       "      <td>18.0</td>\n",
       "      <td>28.0</td>\n",
       "      <td>240.00</td>\n",
       "    </tr>\n",
       "    <tr>\n",
       "      <th>2</th>\n",
       "      <td>INVERSION/COMPRESSION/EXTENSION/EVAPORITE</td>\n",
       "      <td>GAS</td>\n",
       "      <td>DECLINING PRODUCTION</td>\n",
       "      <td>INVERSION/RIFT</td>\n",
       "      <td>5548</td>\n",
       "      <td>JURASSIC</td>\n",
       "      <td>DOLOMITE</td>\n",
       "      <td>200.0</td>\n",
       "      <td>20.0</td>\n",
       "      <td>13.0</td>\n",
       "      <td>7.30</td>\n",
       "    </tr>\n",
       "    <tr>\n",
       "      <th>3</th>\n",
       "      <td>COMPRESSION/EVAPORITE/EXTENSION/LINKED</td>\n",
       "      <td>OIL</td>\n",
       "      <td>DEVELOPING</td>\n",
       "      <td>THRUST</td>\n",
       "      <td>10100</td>\n",
       "      <td>NEOGENE</td>\n",
       "      <td>SANDSTONE</td>\n",
       "      <td>8200.0</td>\n",
       "      <td>260.0</td>\n",
       "      <td>18.0</td>\n",
       "      <td>100.00</td>\n",
       "    </tr>\n",
       "    <tr>\n",
       "      <th>4</th>\n",
       "      <td>COMPRESSION/EROSION</td>\n",
       "      <td>GAS-CONDENSATE</td>\n",
       "      <td>MATURE PRODUCTION</td>\n",
       "      <td>FORELAND</td>\n",
       "      <td>8750</td>\n",
       "      <td>CARBONIFEROUS</td>\n",
       "      <td>DOLOMITE</td>\n",
       "      <td>140.0</td>\n",
       "      <td>70.0</td>\n",
       "      <td>12.0</td>\n",
       "      <td>125.00</td>\n",
       "    </tr>\n",
       "    <tr>\n",
       "      <th>...</th>\n",
       "      <td>...</td>\n",
       "      <td>...</td>\n",
       "      <td>...</td>\n",
       "      <td>...</td>\n",
       "      <td>...</td>\n",
       "      <td>...</td>\n",
       "      <td>...</td>\n",
       "      <td>...</td>\n",
       "      <td>...</td>\n",
       "      <td>...</td>\n",
       "      <td>...</td>\n",
       "    </tr>\n",
       "    <tr>\n",
       "      <th>128</th>\n",
       "      <td>EXTENSION/EROSION</td>\n",
       "      <td>OIL</td>\n",
       "      <td>DECLINING PRODUCTION</td>\n",
       "      <td>RIFT</td>\n",
       "      <td>5520</td>\n",
       "      <td>TRIASSIC-JURASSIC</td>\n",
       "      <td>SANDSTONE</td>\n",
       "      <td>630.0</td>\n",
       "      <td>394.0</td>\n",
       "      <td>26.0</td>\n",
       "      <td>1000.00</td>\n",
       "    </tr>\n",
       "    <tr>\n",
       "      <th>129</th>\n",
       "      <td>COMPRESSION/EROSION</td>\n",
       "      <td>BITUMEN</td>\n",
       "      <td>CONTINUING DEVELOPMENT</td>\n",
       "      <td>FORELAND</td>\n",
       "      <td>1500</td>\n",
       "      <td>CRETACEOUS</td>\n",
       "      <td>SANDSTONE</td>\n",
       "      <td>100.0</td>\n",
       "      <td>82.0</td>\n",
       "      <td>28.0</td>\n",
       "      <td>440.00</td>\n",
       "    </tr>\n",
       "    <tr>\n",
       "      <th>130</th>\n",
       "      <td>COMPRESSION/STRIKE-SLIP/TRANSPRESSION/BASEMENT-I</td>\n",
       "      <td>OIL</td>\n",
       "      <td>NEARLY DEPLETED</td>\n",
       "      <td>WRENCH/FOREARC</td>\n",
       "      <td>11100</td>\n",
       "      <td>NEOGENE</td>\n",
       "      <td>THINLY-BEDDED SANDSTONE</td>\n",
       "      <td>200.0</td>\n",
       "      <td>150.0</td>\n",
       "      <td>20.0</td>\n",
       "      <td>75.00</td>\n",
       "    </tr>\n",
       "    <tr>\n",
       "      <th>131</th>\n",
       "      <td>INVERSION/COMPRESSION/EXTENSION</td>\n",
       "      <td>OIL</td>\n",
       "      <td>SECOND PLATEAU PRODUTION</td>\n",
       "      <td>RIFT/INVERSION</td>\n",
       "      <td>3939</td>\n",
       "      <td>PALEOGENE</td>\n",
       "      <td>SANDSTONE</td>\n",
       "      <td>410.0</td>\n",
       "      <td>20.0</td>\n",
       "      <td>28.0</td>\n",
       "      <td>1000.00</td>\n",
       "    </tr>\n",
       "    <tr>\n",
       "      <th>132</th>\n",
       "      <td>COMPRESSION/EVAPORITE</td>\n",
       "      <td>OIL</td>\n",
       "      <td>NEARLY DEPLETED</td>\n",
       "      <td>FORELAND</td>\n",
       "      <td>5381</td>\n",
       "      <td>CARBONIFEROUS</td>\n",
       "      <td>LIMESTONE</td>\n",
       "      <td>330.0</td>\n",
       "      <td>75.0</td>\n",
       "      <td>18.0</td>\n",
       "      <td>195.00</td>\n",
       "    </tr>\n",
       "  </tbody>\n",
       "</table>\n",
       "<p>133 rows × 11 columns</p>\n",
       "</div>"
      ],
      "text/plain": [
       "                                      Tectonic regime Hydrocarbon type  \\\n",
       "0                                         COMPRESSION              GAS   \n",
       "1             INVERSION/COMPRESSION/EXTENSION/EROSION              OIL   \n",
       "2           INVERSION/COMPRESSION/EXTENSION/EVAPORITE              GAS   \n",
       "3              COMPRESSION/EVAPORITE/EXTENSION/LINKED              OIL   \n",
       "4                                 COMPRESSION/EROSION   GAS-CONDENSATE   \n",
       "..                                                ...              ...   \n",
       "128                                 EXTENSION/EROSION              OIL   \n",
       "129                               COMPRESSION/EROSION          BITUMEN   \n",
       "130  COMPRESSION/STRIKE-SLIP/TRANSPRESSION/BASEMENT-I              OIL   \n",
       "131                   INVERSION/COMPRESSION/EXTENSION              OIL   \n",
       "132                             COMPRESSION/EVAPORITE              OIL   \n",
       "\n",
       "             Reservoir status Structural setting  Depth             Period  \\\n",
       "0           MATURE PRODUCTION           FORELAND   2275            PERMIAN   \n",
       "1                   ABANDONED           FORELAND    500            PERMIAN   \n",
       "2        DECLINING PRODUCTION     INVERSION/RIFT   5548           JURASSIC   \n",
       "3                  DEVELOPING             THRUST  10100            NEOGENE   \n",
       "4           MATURE PRODUCTION           FORELAND   8750      CARBONIFEROUS   \n",
       "..                        ...                ...    ...                ...   \n",
       "128      DECLINING PRODUCTION               RIFT   5520  TRIASSIC-JURASSIC   \n",
       "129    CONTINUING DEVELOPMENT           FORELAND   1500         CRETACEOUS   \n",
       "130           NEARLY DEPLETED     WRENCH/FOREARC  11100            NEOGENE   \n",
       "131  SECOND PLATEAU PRODUTION     RIFT/INVERSION   3939          PALEOGENE   \n",
       "132           NEARLY DEPLETED           FORELAND   5381      CARBONIFEROUS   \n",
       "\n",
       "                   Lithology   Gross  Netpay  Porosity  Permeability  \n",
       "0                  SANDSTONE   325.0    30.0      13.0          0.04  \n",
       "1                  SANDSTONE    40.0    18.0      28.0        240.00  \n",
       "2                   DOLOMITE   200.0    20.0      13.0          7.30  \n",
       "3                  SANDSTONE  8200.0   260.0      18.0        100.00  \n",
       "4                   DOLOMITE   140.0    70.0      12.0        125.00  \n",
       "..                       ...     ...     ...       ...           ...  \n",
       "128                SANDSTONE   630.0   394.0      26.0       1000.00  \n",
       "129                SANDSTONE   100.0    82.0      28.0        440.00  \n",
       "130  THINLY-BEDDED SANDSTONE   200.0   150.0      20.0         75.00  \n",
       "131                SANDSTONE   410.0    20.0      28.0       1000.00  \n",
       "132                LIMESTONE   330.0    75.0      18.0        195.00  \n",
       "\n",
       "[133 rows x 11 columns]"
      ]
     },
     "execution_count": 43,
     "metadata": {},
     "output_type": "execute_result"
    }
   ],
   "source": [
    "test = pd.read_csv('test.csv')\n",
    "test"
   ]
  },
  {
   "cell_type": "code",
   "execution_count": 44,
   "metadata": {},
   "outputs": [],
   "source": [
    "values_test= {}\n",
    "l_of_list_test = test['Tectonic regime'].str.split('/').tolist() # partition \n",
    "for i in l_of_list_test:\n",
    "    for j in i:\n",
    "        if j in values_test.keys():\n",
    "            values_test[j] += 1\n",
    "        else:\n",
    "            values_test[j] = 0\n",
    "            values_test[j] +=1"
   ]
  },
  {
   "cell_type": "code",
   "execution_count": 45,
   "metadata": {},
   "outputs": [
    {
     "data": {
      "text/html": [
       "<div>\n",
       "<style scoped>\n",
       "    .dataframe tbody tr th:only-of-type {\n",
       "        vertical-align: middle;\n",
       "    }\n",
       "\n",
       "    .dataframe tbody tr th {\n",
       "        vertical-align: top;\n",
       "    }\n",
       "\n",
       "    .dataframe thead th {\n",
       "        text-align: right;\n",
       "    }\n",
       "</style>\n",
       "<table border=\"1\" class=\"dataframe\">\n",
       "  <thead>\n",
       "    <tr style=\"text-align: right;\">\n",
       "      <th></th>\n",
       "      <th>STRIKE-SLIP</th>\n",
       "      <th>TRANSPRESSION</th>\n",
       "      <th>BASEMENT-I</th>\n",
       "      <th>GRAVITY</th>\n",
       "      <th>EXTENSION</th>\n",
       "      <th>EVAPORITE</th>\n",
       "      <th>COMPRESSION</th>\n",
       "      <th>INVERSION</th>\n",
       "      <th>EROSION</th>\n",
       "      <th>LINKED</th>\n",
       "      <th>DIAPIR</th>\n",
       "      <th>SYNSEDIMENTATION</th>\n",
       "      <th>SHALE</th>\n",
       "      <th>TRANSTENSION</th>\n",
       "      <th>REACTIVATION</th>\n",
       "      <th>UPLIFT</th>\n",
       "    </tr>\n",
       "  </thead>\n",
       "  <tbody>\n",
       "    <tr>\n",
       "      <th>0</th>\n",
       "      <td>0.0</td>\n",
       "      <td>0.0</td>\n",
       "      <td>0.0</td>\n",
       "      <td>0.0</td>\n",
       "      <td>0.0</td>\n",
       "      <td>0.0</td>\n",
       "      <td>0.0</td>\n",
       "      <td>0.0</td>\n",
       "      <td>0.0</td>\n",
       "      <td>0.0</td>\n",
       "      <td>0.0</td>\n",
       "      <td>0.0</td>\n",
       "      <td>0.0</td>\n",
       "      <td>0.0</td>\n",
       "      <td>0.0</td>\n",
       "      <td>0.0</td>\n",
       "    </tr>\n",
       "    <tr>\n",
       "      <th>1</th>\n",
       "      <td>0.0</td>\n",
       "      <td>0.0</td>\n",
       "      <td>0.0</td>\n",
       "      <td>0.0</td>\n",
       "      <td>0.0</td>\n",
       "      <td>0.0</td>\n",
       "      <td>0.0</td>\n",
       "      <td>0.0</td>\n",
       "      <td>0.0</td>\n",
       "      <td>0.0</td>\n",
       "      <td>0.0</td>\n",
       "      <td>0.0</td>\n",
       "      <td>0.0</td>\n",
       "      <td>0.0</td>\n",
       "      <td>0.0</td>\n",
       "      <td>0.0</td>\n",
       "    </tr>\n",
       "    <tr>\n",
       "      <th>2</th>\n",
       "      <td>0.0</td>\n",
       "      <td>0.0</td>\n",
       "      <td>0.0</td>\n",
       "      <td>0.0</td>\n",
       "      <td>0.0</td>\n",
       "      <td>0.0</td>\n",
       "      <td>0.0</td>\n",
       "      <td>0.0</td>\n",
       "      <td>0.0</td>\n",
       "      <td>0.0</td>\n",
       "      <td>0.0</td>\n",
       "      <td>0.0</td>\n",
       "      <td>0.0</td>\n",
       "      <td>0.0</td>\n",
       "      <td>0.0</td>\n",
       "      <td>0.0</td>\n",
       "    </tr>\n",
       "    <tr>\n",
       "      <th>3</th>\n",
       "      <td>0.0</td>\n",
       "      <td>0.0</td>\n",
       "      <td>0.0</td>\n",
       "      <td>0.0</td>\n",
       "      <td>0.0</td>\n",
       "      <td>0.0</td>\n",
       "      <td>0.0</td>\n",
       "      <td>0.0</td>\n",
       "      <td>0.0</td>\n",
       "      <td>0.0</td>\n",
       "      <td>0.0</td>\n",
       "      <td>0.0</td>\n",
       "      <td>0.0</td>\n",
       "      <td>0.0</td>\n",
       "      <td>0.0</td>\n",
       "      <td>0.0</td>\n",
       "    </tr>\n",
       "    <tr>\n",
       "      <th>4</th>\n",
       "      <td>0.0</td>\n",
       "      <td>0.0</td>\n",
       "      <td>0.0</td>\n",
       "      <td>0.0</td>\n",
       "      <td>0.0</td>\n",
       "      <td>0.0</td>\n",
       "      <td>0.0</td>\n",
       "      <td>0.0</td>\n",
       "      <td>0.0</td>\n",
       "      <td>0.0</td>\n",
       "      <td>0.0</td>\n",
       "      <td>0.0</td>\n",
       "      <td>0.0</td>\n",
       "      <td>0.0</td>\n",
       "      <td>0.0</td>\n",
       "      <td>0.0</td>\n",
       "    </tr>\n",
       "    <tr>\n",
       "      <th>...</th>\n",
       "      <td>...</td>\n",
       "      <td>...</td>\n",
       "      <td>...</td>\n",
       "      <td>...</td>\n",
       "      <td>...</td>\n",
       "      <td>...</td>\n",
       "      <td>...</td>\n",
       "      <td>...</td>\n",
       "      <td>...</td>\n",
       "      <td>...</td>\n",
       "      <td>...</td>\n",
       "      <td>...</td>\n",
       "      <td>...</td>\n",
       "      <td>...</td>\n",
       "      <td>...</td>\n",
       "      <td>...</td>\n",
       "    </tr>\n",
       "    <tr>\n",
       "      <th>128</th>\n",
       "      <td>0.0</td>\n",
       "      <td>0.0</td>\n",
       "      <td>0.0</td>\n",
       "      <td>0.0</td>\n",
       "      <td>0.0</td>\n",
       "      <td>0.0</td>\n",
       "      <td>0.0</td>\n",
       "      <td>0.0</td>\n",
       "      <td>0.0</td>\n",
       "      <td>0.0</td>\n",
       "      <td>0.0</td>\n",
       "      <td>0.0</td>\n",
       "      <td>0.0</td>\n",
       "      <td>0.0</td>\n",
       "      <td>0.0</td>\n",
       "      <td>0.0</td>\n",
       "    </tr>\n",
       "    <tr>\n",
       "      <th>129</th>\n",
       "      <td>0.0</td>\n",
       "      <td>0.0</td>\n",
       "      <td>0.0</td>\n",
       "      <td>0.0</td>\n",
       "      <td>0.0</td>\n",
       "      <td>0.0</td>\n",
       "      <td>0.0</td>\n",
       "      <td>0.0</td>\n",
       "      <td>0.0</td>\n",
       "      <td>0.0</td>\n",
       "      <td>0.0</td>\n",
       "      <td>0.0</td>\n",
       "      <td>0.0</td>\n",
       "      <td>0.0</td>\n",
       "      <td>0.0</td>\n",
       "      <td>0.0</td>\n",
       "    </tr>\n",
       "    <tr>\n",
       "      <th>130</th>\n",
       "      <td>0.0</td>\n",
       "      <td>0.0</td>\n",
       "      <td>0.0</td>\n",
       "      <td>0.0</td>\n",
       "      <td>0.0</td>\n",
       "      <td>0.0</td>\n",
       "      <td>0.0</td>\n",
       "      <td>0.0</td>\n",
       "      <td>0.0</td>\n",
       "      <td>0.0</td>\n",
       "      <td>0.0</td>\n",
       "      <td>0.0</td>\n",
       "      <td>0.0</td>\n",
       "      <td>0.0</td>\n",
       "      <td>0.0</td>\n",
       "      <td>0.0</td>\n",
       "    </tr>\n",
       "    <tr>\n",
       "      <th>131</th>\n",
       "      <td>0.0</td>\n",
       "      <td>0.0</td>\n",
       "      <td>0.0</td>\n",
       "      <td>0.0</td>\n",
       "      <td>0.0</td>\n",
       "      <td>0.0</td>\n",
       "      <td>0.0</td>\n",
       "      <td>0.0</td>\n",
       "      <td>0.0</td>\n",
       "      <td>0.0</td>\n",
       "      <td>0.0</td>\n",
       "      <td>0.0</td>\n",
       "      <td>0.0</td>\n",
       "      <td>0.0</td>\n",
       "      <td>0.0</td>\n",
       "      <td>0.0</td>\n",
       "    </tr>\n",
       "    <tr>\n",
       "      <th>132</th>\n",
       "      <td>0.0</td>\n",
       "      <td>0.0</td>\n",
       "      <td>0.0</td>\n",
       "      <td>0.0</td>\n",
       "      <td>0.0</td>\n",
       "      <td>0.0</td>\n",
       "      <td>0.0</td>\n",
       "      <td>0.0</td>\n",
       "      <td>0.0</td>\n",
       "      <td>0.0</td>\n",
       "      <td>0.0</td>\n",
       "      <td>0.0</td>\n",
       "      <td>0.0</td>\n",
       "      <td>0.0</td>\n",
       "      <td>0.0</td>\n",
       "      <td>0.0</td>\n",
       "    </tr>\n",
       "  </tbody>\n",
       "</table>\n",
       "<p>133 rows × 16 columns</p>\n",
       "</div>"
      ],
      "text/plain": [
       "     STRIKE-SLIP  TRANSPRESSION  BASEMENT-I  GRAVITY  EXTENSION  EVAPORITE  \\\n",
       "0            0.0            0.0         0.0      0.0        0.0        0.0   \n",
       "1            0.0            0.0         0.0      0.0        0.0        0.0   \n",
       "2            0.0            0.0         0.0      0.0        0.0        0.0   \n",
       "3            0.0            0.0         0.0      0.0        0.0        0.0   \n",
       "4            0.0            0.0         0.0      0.0        0.0        0.0   \n",
       "..           ...            ...         ...      ...        ...        ...   \n",
       "128          0.0            0.0         0.0      0.0        0.0        0.0   \n",
       "129          0.0            0.0         0.0      0.0        0.0        0.0   \n",
       "130          0.0            0.0         0.0      0.0        0.0        0.0   \n",
       "131          0.0            0.0         0.0      0.0        0.0        0.0   \n",
       "132          0.0            0.0         0.0      0.0        0.0        0.0   \n",
       "\n",
       "     COMPRESSION  INVERSION  EROSION  LINKED  DIAPIR  SYNSEDIMENTATION  SHALE  \\\n",
       "0            0.0        0.0      0.0     0.0     0.0               0.0    0.0   \n",
       "1            0.0        0.0      0.0     0.0     0.0               0.0    0.0   \n",
       "2            0.0        0.0      0.0     0.0     0.0               0.0    0.0   \n",
       "3            0.0        0.0      0.0     0.0     0.0               0.0    0.0   \n",
       "4            0.0        0.0      0.0     0.0     0.0               0.0    0.0   \n",
       "..           ...        ...      ...     ...     ...               ...    ...   \n",
       "128          0.0        0.0      0.0     0.0     0.0               0.0    0.0   \n",
       "129          0.0        0.0      0.0     0.0     0.0               0.0    0.0   \n",
       "130          0.0        0.0      0.0     0.0     0.0               0.0    0.0   \n",
       "131          0.0        0.0      0.0     0.0     0.0               0.0    0.0   \n",
       "132          0.0        0.0      0.0     0.0     0.0               0.0    0.0   \n",
       "\n",
       "     TRANSTENSION  REACTIVATION  UPLIFT  \n",
       "0             0.0           0.0     0.0  \n",
       "1             0.0           0.0     0.0  \n",
       "2             0.0           0.0     0.0  \n",
       "3             0.0           0.0     0.0  \n",
       "4             0.0           0.0     0.0  \n",
       "..            ...           ...     ...  \n",
       "128           0.0           0.0     0.0  \n",
       "129           0.0           0.0     0.0  \n",
       "130           0.0           0.0     0.0  \n",
       "131           0.0           0.0     0.0  \n",
       "132           0.0           0.0     0.0  \n",
       "\n",
       "[133 rows x 16 columns]"
      ]
     },
     "execution_count": 45,
     "metadata": {},
     "output_type": "execute_result"
    }
   ],
   "source": [
    "X_Tectonic_test = pd.DataFrame(data = np.zeros((test.shape[0], \n",
    "                                                  len(values.keys()))), \n",
    "                                 columns=values.keys())\n",
    "X_Tectonic_test"
   ]
  },
  {
   "cell_type": "code",
   "execution_count": 46,
   "metadata": {},
   "outputs": [],
   "source": [
    "for i, val in zip(range(test.shape[0]), l_of_list_test):\n",
    "    for j in val:\n",
    "        X_Tectonic_test.at[i, j] = 1"
   ]
  },
  {
   "cell_type": "code",
   "execution_count": 47,
   "metadata": {},
   "outputs": [
    {
     "data": {
      "text/html": [
       "<div>\n",
       "<style scoped>\n",
       "    .dataframe tbody tr th:only-of-type {\n",
       "        vertical-align: middle;\n",
       "    }\n",
       "\n",
       "    .dataframe tbody tr th {\n",
       "        vertical-align: top;\n",
       "    }\n",
       "\n",
       "    .dataframe thead th {\n",
       "        text-align: right;\n",
       "    }\n",
       "</style>\n",
       "<table border=\"1\" class=\"dataframe\">\n",
       "  <thead>\n",
       "    <tr style=\"text-align: right;\">\n",
       "      <th></th>\n",
       "      <th>STRIKE-SLIP</th>\n",
       "      <th>TRANSPRESSION</th>\n",
       "      <th>BASEMENT-I</th>\n",
       "      <th>GRAVITY</th>\n",
       "      <th>EXTENSION</th>\n",
       "      <th>EVAPORITE</th>\n",
       "      <th>COMPRESSION</th>\n",
       "      <th>INVERSION</th>\n",
       "      <th>EROSION</th>\n",
       "      <th>LINKED</th>\n",
       "      <th>DIAPIR</th>\n",
       "      <th>SYNSEDIMENTATION</th>\n",
       "      <th>SHALE</th>\n",
       "      <th>TRANSTENSION</th>\n",
       "      <th>REACTIVATION</th>\n",
       "      <th>UPLIFT</th>\n",
       "    </tr>\n",
       "  </thead>\n",
       "  <tbody>\n",
       "    <tr>\n",
       "      <th>0</th>\n",
       "      <td>0.0</td>\n",
       "      <td>0.0</td>\n",
       "      <td>0.0</td>\n",
       "      <td>0.0</td>\n",
       "      <td>0.0</td>\n",
       "      <td>0.0</td>\n",
       "      <td>1.0</td>\n",
       "      <td>0.0</td>\n",
       "      <td>0.0</td>\n",
       "      <td>0.0</td>\n",
       "      <td>0.0</td>\n",
       "      <td>0.0</td>\n",
       "      <td>0.0</td>\n",
       "      <td>0.0</td>\n",
       "      <td>0.0</td>\n",
       "      <td>0.0</td>\n",
       "    </tr>\n",
       "    <tr>\n",
       "      <th>1</th>\n",
       "      <td>0.0</td>\n",
       "      <td>0.0</td>\n",
       "      <td>0.0</td>\n",
       "      <td>0.0</td>\n",
       "      <td>1.0</td>\n",
       "      <td>0.0</td>\n",
       "      <td>1.0</td>\n",
       "      <td>1.0</td>\n",
       "      <td>1.0</td>\n",
       "      <td>0.0</td>\n",
       "      <td>0.0</td>\n",
       "      <td>0.0</td>\n",
       "      <td>0.0</td>\n",
       "      <td>0.0</td>\n",
       "      <td>0.0</td>\n",
       "      <td>0.0</td>\n",
       "    </tr>\n",
       "    <tr>\n",
       "      <th>2</th>\n",
       "      <td>0.0</td>\n",
       "      <td>0.0</td>\n",
       "      <td>0.0</td>\n",
       "      <td>0.0</td>\n",
       "      <td>1.0</td>\n",
       "      <td>1.0</td>\n",
       "      <td>1.0</td>\n",
       "      <td>1.0</td>\n",
       "      <td>0.0</td>\n",
       "      <td>0.0</td>\n",
       "      <td>0.0</td>\n",
       "      <td>0.0</td>\n",
       "      <td>0.0</td>\n",
       "      <td>0.0</td>\n",
       "      <td>0.0</td>\n",
       "      <td>0.0</td>\n",
       "    </tr>\n",
       "    <tr>\n",
       "      <th>3</th>\n",
       "      <td>0.0</td>\n",
       "      <td>0.0</td>\n",
       "      <td>0.0</td>\n",
       "      <td>0.0</td>\n",
       "      <td>1.0</td>\n",
       "      <td>1.0</td>\n",
       "      <td>1.0</td>\n",
       "      <td>0.0</td>\n",
       "      <td>0.0</td>\n",
       "      <td>1.0</td>\n",
       "      <td>0.0</td>\n",
       "      <td>0.0</td>\n",
       "      <td>0.0</td>\n",
       "      <td>0.0</td>\n",
       "      <td>0.0</td>\n",
       "      <td>0.0</td>\n",
       "    </tr>\n",
       "    <tr>\n",
       "      <th>4</th>\n",
       "      <td>0.0</td>\n",
       "      <td>0.0</td>\n",
       "      <td>0.0</td>\n",
       "      <td>0.0</td>\n",
       "      <td>0.0</td>\n",
       "      <td>0.0</td>\n",
       "      <td>1.0</td>\n",
       "      <td>0.0</td>\n",
       "      <td>1.0</td>\n",
       "      <td>0.0</td>\n",
       "      <td>0.0</td>\n",
       "      <td>0.0</td>\n",
       "      <td>0.0</td>\n",
       "      <td>0.0</td>\n",
       "      <td>0.0</td>\n",
       "      <td>0.0</td>\n",
       "    </tr>\n",
       "    <tr>\n",
       "      <th>...</th>\n",
       "      <td>...</td>\n",
       "      <td>...</td>\n",
       "      <td>...</td>\n",
       "      <td>...</td>\n",
       "      <td>...</td>\n",
       "      <td>...</td>\n",
       "      <td>...</td>\n",
       "      <td>...</td>\n",
       "      <td>...</td>\n",
       "      <td>...</td>\n",
       "      <td>...</td>\n",
       "      <td>...</td>\n",
       "      <td>...</td>\n",
       "      <td>...</td>\n",
       "      <td>...</td>\n",
       "      <td>...</td>\n",
       "    </tr>\n",
       "    <tr>\n",
       "      <th>128</th>\n",
       "      <td>0.0</td>\n",
       "      <td>0.0</td>\n",
       "      <td>0.0</td>\n",
       "      <td>0.0</td>\n",
       "      <td>1.0</td>\n",
       "      <td>0.0</td>\n",
       "      <td>0.0</td>\n",
       "      <td>0.0</td>\n",
       "      <td>1.0</td>\n",
       "      <td>0.0</td>\n",
       "      <td>0.0</td>\n",
       "      <td>0.0</td>\n",
       "      <td>0.0</td>\n",
       "      <td>0.0</td>\n",
       "      <td>0.0</td>\n",
       "      <td>0.0</td>\n",
       "    </tr>\n",
       "    <tr>\n",
       "      <th>129</th>\n",
       "      <td>0.0</td>\n",
       "      <td>0.0</td>\n",
       "      <td>0.0</td>\n",
       "      <td>0.0</td>\n",
       "      <td>0.0</td>\n",
       "      <td>0.0</td>\n",
       "      <td>1.0</td>\n",
       "      <td>0.0</td>\n",
       "      <td>1.0</td>\n",
       "      <td>0.0</td>\n",
       "      <td>0.0</td>\n",
       "      <td>0.0</td>\n",
       "      <td>0.0</td>\n",
       "      <td>0.0</td>\n",
       "      <td>0.0</td>\n",
       "      <td>0.0</td>\n",
       "    </tr>\n",
       "    <tr>\n",
       "      <th>130</th>\n",
       "      <td>1.0</td>\n",
       "      <td>1.0</td>\n",
       "      <td>1.0</td>\n",
       "      <td>0.0</td>\n",
       "      <td>0.0</td>\n",
       "      <td>0.0</td>\n",
       "      <td>1.0</td>\n",
       "      <td>0.0</td>\n",
       "      <td>0.0</td>\n",
       "      <td>0.0</td>\n",
       "      <td>0.0</td>\n",
       "      <td>0.0</td>\n",
       "      <td>0.0</td>\n",
       "      <td>0.0</td>\n",
       "      <td>0.0</td>\n",
       "      <td>0.0</td>\n",
       "    </tr>\n",
       "    <tr>\n",
       "      <th>131</th>\n",
       "      <td>0.0</td>\n",
       "      <td>0.0</td>\n",
       "      <td>0.0</td>\n",
       "      <td>0.0</td>\n",
       "      <td>1.0</td>\n",
       "      <td>0.0</td>\n",
       "      <td>1.0</td>\n",
       "      <td>1.0</td>\n",
       "      <td>0.0</td>\n",
       "      <td>0.0</td>\n",
       "      <td>0.0</td>\n",
       "      <td>0.0</td>\n",
       "      <td>0.0</td>\n",
       "      <td>0.0</td>\n",
       "      <td>0.0</td>\n",
       "      <td>0.0</td>\n",
       "    </tr>\n",
       "    <tr>\n",
       "      <th>132</th>\n",
       "      <td>0.0</td>\n",
       "      <td>0.0</td>\n",
       "      <td>0.0</td>\n",
       "      <td>0.0</td>\n",
       "      <td>0.0</td>\n",
       "      <td>1.0</td>\n",
       "      <td>1.0</td>\n",
       "      <td>0.0</td>\n",
       "      <td>0.0</td>\n",
       "      <td>0.0</td>\n",
       "      <td>0.0</td>\n",
       "      <td>0.0</td>\n",
       "      <td>0.0</td>\n",
       "      <td>0.0</td>\n",
       "      <td>0.0</td>\n",
       "      <td>0.0</td>\n",
       "    </tr>\n",
       "  </tbody>\n",
       "</table>\n",
       "<p>133 rows × 16 columns</p>\n",
       "</div>"
      ],
      "text/plain": [
       "     STRIKE-SLIP  TRANSPRESSION  BASEMENT-I  GRAVITY  EXTENSION  EVAPORITE  \\\n",
       "0            0.0            0.0         0.0      0.0        0.0        0.0   \n",
       "1            0.0            0.0         0.0      0.0        1.0        0.0   \n",
       "2            0.0            0.0         0.0      0.0        1.0        1.0   \n",
       "3            0.0            0.0         0.0      0.0        1.0        1.0   \n",
       "4            0.0            0.0         0.0      0.0        0.0        0.0   \n",
       "..           ...            ...         ...      ...        ...        ...   \n",
       "128          0.0            0.0         0.0      0.0        1.0        0.0   \n",
       "129          0.0            0.0         0.0      0.0        0.0        0.0   \n",
       "130          1.0            1.0         1.0      0.0        0.0        0.0   \n",
       "131          0.0            0.0         0.0      0.0        1.0        0.0   \n",
       "132          0.0            0.0         0.0      0.0        0.0        1.0   \n",
       "\n",
       "     COMPRESSION  INVERSION  EROSION  LINKED  DIAPIR  SYNSEDIMENTATION  SHALE  \\\n",
       "0            1.0        0.0      0.0     0.0     0.0               0.0    0.0   \n",
       "1            1.0        1.0      1.0     0.0     0.0               0.0    0.0   \n",
       "2            1.0        1.0      0.0     0.0     0.0               0.0    0.0   \n",
       "3            1.0        0.0      0.0     1.0     0.0               0.0    0.0   \n",
       "4            1.0        0.0      1.0     0.0     0.0               0.0    0.0   \n",
       "..           ...        ...      ...     ...     ...               ...    ...   \n",
       "128          0.0        0.0      1.0     0.0     0.0               0.0    0.0   \n",
       "129          1.0        0.0      1.0     0.0     0.0               0.0    0.0   \n",
       "130          1.0        0.0      0.0     0.0     0.0               0.0    0.0   \n",
       "131          1.0        1.0      0.0     0.0     0.0               0.0    0.0   \n",
       "132          1.0        0.0      0.0     0.0     0.0               0.0    0.0   \n",
       "\n",
       "     TRANSTENSION  REACTIVATION  UPLIFT  \n",
       "0             0.0           0.0     0.0  \n",
       "1             0.0           0.0     0.0  \n",
       "2             0.0           0.0     0.0  \n",
       "3             0.0           0.0     0.0  \n",
       "4             0.0           0.0     0.0  \n",
       "..            ...           ...     ...  \n",
       "128           0.0           0.0     0.0  \n",
       "129           0.0           0.0     0.0  \n",
       "130           0.0           0.0     0.0  \n",
       "131           0.0           0.0     0.0  \n",
       "132           0.0           0.0     0.0  \n",
       "\n",
       "[133 rows x 16 columns]"
      ]
     },
     "execution_count": 47,
     "metadata": {},
     "output_type": "execute_result"
    }
   ],
   "source": [
    "X_Tectonic_test"
   ]
  },
  {
   "cell_type": "code",
   "execution_count": 48,
   "metadata": {},
   "outputs": [
    {
     "data": {
      "text/html": [
       "<div>\n",
       "<style scoped>\n",
       "    .dataframe tbody tr th:only-of-type {\n",
       "        vertical-align: middle;\n",
       "    }\n",
       "\n",
       "    .dataframe tbody tr th {\n",
       "        vertical-align: top;\n",
       "    }\n",
       "\n",
       "    .dataframe thead th {\n",
       "        text-align: right;\n",
       "    }\n",
       "</style>\n",
       "<table border=\"1\" class=\"dataframe\">\n",
       "  <thead>\n",
       "    <tr style=\"text-align: right;\">\n",
       "      <th></th>\n",
       "      <th>BITUMEN</th>\n",
       "      <th>CARBON DIOXIDE</th>\n",
       "      <th>GAS</th>\n",
       "      <th>GAS-CONDENSATE</th>\n",
       "      <th>OIL</th>\n",
       "    </tr>\n",
       "  </thead>\n",
       "  <tbody>\n",
       "    <tr>\n",
       "      <th>0</th>\n",
       "      <td>0</td>\n",
       "      <td>0</td>\n",
       "      <td>1</td>\n",
       "      <td>0</td>\n",
       "      <td>0</td>\n",
       "    </tr>\n",
       "    <tr>\n",
       "      <th>1</th>\n",
       "      <td>0</td>\n",
       "      <td>0</td>\n",
       "      <td>0</td>\n",
       "      <td>0</td>\n",
       "      <td>1</td>\n",
       "    </tr>\n",
       "    <tr>\n",
       "      <th>2</th>\n",
       "      <td>0</td>\n",
       "      <td>0</td>\n",
       "      <td>1</td>\n",
       "      <td>0</td>\n",
       "      <td>0</td>\n",
       "    </tr>\n",
       "    <tr>\n",
       "      <th>3</th>\n",
       "      <td>0</td>\n",
       "      <td>0</td>\n",
       "      <td>0</td>\n",
       "      <td>0</td>\n",
       "      <td>1</td>\n",
       "    </tr>\n",
       "    <tr>\n",
       "      <th>4</th>\n",
       "      <td>0</td>\n",
       "      <td>0</td>\n",
       "      <td>0</td>\n",
       "      <td>1</td>\n",
       "      <td>0</td>\n",
       "    </tr>\n",
       "    <tr>\n",
       "      <th>...</th>\n",
       "      <td>...</td>\n",
       "      <td>...</td>\n",
       "      <td>...</td>\n",
       "      <td>...</td>\n",
       "      <td>...</td>\n",
       "    </tr>\n",
       "    <tr>\n",
       "      <th>128</th>\n",
       "      <td>0</td>\n",
       "      <td>0</td>\n",
       "      <td>0</td>\n",
       "      <td>0</td>\n",
       "      <td>1</td>\n",
       "    </tr>\n",
       "    <tr>\n",
       "      <th>129</th>\n",
       "      <td>1</td>\n",
       "      <td>0</td>\n",
       "      <td>0</td>\n",
       "      <td>0</td>\n",
       "      <td>0</td>\n",
       "    </tr>\n",
       "    <tr>\n",
       "      <th>130</th>\n",
       "      <td>0</td>\n",
       "      <td>0</td>\n",
       "      <td>0</td>\n",
       "      <td>0</td>\n",
       "      <td>1</td>\n",
       "    </tr>\n",
       "    <tr>\n",
       "      <th>131</th>\n",
       "      <td>0</td>\n",
       "      <td>0</td>\n",
       "      <td>0</td>\n",
       "      <td>0</td>\n",
       "      <td>1</td>\n",
       "    </tr>\n",
       "    <tr>\n",
       "      <th>132</th>\n",
       "      <td>0</td>\n",
       "      <td>0</td>\n",
       "      <td>0</td>\n",
       "      <td>0</td>\n",
       "      <td>1</td>\n",
       "    </tr>\n",
       "  </tbody>\n",
       "</table>\n",
       "<p>133 rows × 5 columns</p>\n",
       "</div>"
      ],
      "text/plain": [
       "     BITUMEN  CARBON DIOXIDE  GAS  GAS-CONDENSATE  OIL\n",
       "0          0               0    1               0    0\n",
       "1          0               0    0               0    1\n",
       "2          0               0    1               0    0\n",
       "3          0               0    0               0    1\n",
       "4          0               0    0               1    0\n",
       "..       ...             ...  ...             ...  ...\n",
       "128        0               0    0               0    1\n",
       "129        1               0    0               0    0\n",
       "130        0               0    0               0    1\n",
       "131        0               0    0               0    1\n",
       "132        0               0    0               0    1\n",
       "\n",
       "[133 rows x 5 columns]"
      ]
     },
     "execution_count": 48,
     "metadata": {},
     "output_type": "execute_result"
    }
   ],
   "source": [
    "X_hydrocarbon_onehotencoder_test = pd.get_dummies(test['Hydrocarbon type'])\n",
    "X_hydrocarbon_onehotencoder_test"
   ]
  },
  {
   "cell_type": "code",
   "execution_count": 49,
   "metadata": {},
   "outputs": [
    {
     "data": {
      "text/plain": [
       "(133, 21)"
      ]
     },
     "execution_count": 49,
     "metadata": {},
     "output_type": "execute_result"
    }
   ],
   "source": [
    "X_test_features = pd.concat((X_Tectonic_test, X_hydrocarbon_onehotencoder_test), axis=1)\n",
    "X_test_features.shape"
   ]
  },
  {
   "cell_type": "code",
   "execution_count": 50,
   "metadata": {},
   "outputs": [],
   "source": [
    "X_features = pd.concat((X_Tectonic_regime, \n",
    "                        X_hydrocarbon_onehotencoder, \n",
    "                        X_structural_setting, \n",
    "                        train['Depth'],\n",
    "                        pd.DataFrame(X_period, columns=['Period']),\n",
    "                        pd.DataFrame(X_Lithology_label_encoder, columns=['Lithology']),\n",
    "                        pd.DataFrame(StandardScaler().fit_transform(train['Gross'].values.reshape(-1, 1)), columns=['Gross']),\n",
    "                        pd.DataFrame(X_normal_gross, columns=['Gross']), \n",
    "                        pd.DataFrame(X_normal_netpay, columns=['Netpay']), \n",
    "                        pd.DataFrame(X_normal_Permeability, columns=['Permeability'])), axis=1)"
   ]
  },
  {
   "cell_type": "code",
   "execution_count": 51,
   "metadata": {},
   "outputs": [],
   "source": [
    "l_of_list_str_sett_test = test['Structural setting'].str.split('/').tolist() # partition\n",
    "X_structural_setting_test = pd.DataFrame(data = np.zeros((test.shape[0], \n",
    "                                                  len(values_structural_setting.keys()))), \n",
    "                                 columns=values_structural_setting.keys(), dtype=int)\n",
    "for i, val in zip(range(test.shape[0]), l_of_list_str_sett_test):\n",
    "    for j in val:\n",
    "        X_structural_setting_test.at[i, j] = 1"
   ]
  },
  {
   "cell_type": "code",
   "execution_count": 52,
   "metadata": {},
   "outputs": [],
   "source": [
    "from sklearn.preprocessing import QuantileTransformer\n",
    "qtt = QuantileTransformer(output_distribution='normal', n_quantiles=test.shape[0])\n",
    "X_normal_gross_test = qtt.fit_transform(test['Gross'].values.reshape(-1, 1))\n",
    "X_normal_netpay_test = qtt.fit_transform(test['Netpay'].values.reshape(-1, 1))\n",
    "X_normal_perm_test = qtt.fit_transform(test['Permeability'].values.reshape(-1, 1))"
   ]
  },
  {
   "cell_type": "code",
   "execution_count": 53,
   "metadata": {},
   "outputs": [
    {
     "data": {
      "text/plain": [
       "(133, 42)"
      ]
     },
     "execution_count": 53,
     "metadata": {},
     "output_type": "execute_result"
    }
   ],
   "source": [
    "X_test_features = pd.concat((X_Tectonic_test, \n",
    "                             X_hydrocarbon_onehotencoder_test, \n",
    "                             X_structural_setting_test, \n",
    "                             test['Depth'],\n",
    "                             pd.DataFrame(LabelEncoder().fit_transform(test['Period']), columns=['Period']),\n",
    "                             pd.DataFrame(LabelEncoder().fit_transform(test['Lithology']), columns=['Lithology']),\n",
    "                             pd.DataFrame(StandardScaler().fit_transform(test['Gross'].values.reshape(-1, 1)), columns=['Gross']),\n",
    "                             pd.DataFrame(X_normal_gross_test, columns=['Gross']), \n",
    "                             pd.DataFrame(X_normal_netpay_test, columns=['Netpay']), \n",
    "                             pd.DataFrame(X_normal_perm_test, columns=['Permeability'])), axis=1)\n",
    "X_test_features.shape"
   ]
  },
  {
   "cell_type": "code",
   "execution_count": 54,
   "metadata": {},
   "outputs": [
    {
     "data": {
      "text/plain": [
       "(309, 42)"
      ]
     },
     "execution_count": 54,
     "metadata": {},
     "output_type": "execute_result"
    }
   ],
   "source": [
    "X_features.shape"
   ]
  },
  {
   "cell_type": "markdown",
   "metadata": {},
   "source": [
    "## Submission"
   ]
  },
  {
   "cell_type": "code",
   "execution_count": 55,
   "metadata": {},
   "outputs": [],
   "source": [
    "X_features = pd.concat((X_Tectonic_regime, \n",
    "                        X_hydrocarbon_onehotencoder, \n",
    "                        #pd.DataFrame(X_hydrocarbon_labelencoder, columns=['hydrocarbon']),\n",
    "                        X_structural_setting, \n",
    "                        train['Depth'],\n",
    "                        #pd.DataFrame(MinMaxScaler().fit_transform(train['Depth'].values.reshape(-1, 1)), columns=['Depth']),\n",
    "                        pd.DataFrame(X_period, columns=['Period']),\n",
    "                        #X_Lithology, \n",
    "                        #pd.DataFrame(LabelEncoder().fit_transform(train['Reservoir status']), columns=['Reservoir status']),\n",
    "                        pd.DataFrame(X_Lithology_label_encoder, columns=['Lithology']),\n",
    "                        pd.DataFrame(StandardScaler().fit_transform(train['Gross'].values.reshape(-1, 1)), columns=['Gross']),\n",
    "                        #train['Gross'],\n",
    "                        pd.DataFrame(X_normal_gross, columns=['Gross']), \n",
    "                        #train['Netpay'],\n",
    "                        pd.DataFrame(X_normal_netpay, columns=['Netpay']), \n",
    "                        #pd.DataFrame(StandardScaler().fit_transform(train['Porosity'].values.reshape(-1, 1)), columns=['Porosity']),\n",
    "                        #train['Permeability']\n",
    "                        pd.DataFrame(X_normal_Permeability, columns=['Permeability'])\n",
    "                      ), \n",
    "                       axis=1)"
   ]
  },
  {
   "cell_type": "code",
   "execution_count": 63,
   "metadata": {},
   "outputs": [],
   "source": [
    "adb = AdaBoostClassifier(base_estimator=ExtraTreesClassifier(n_estimators = 800, max_features=10, random_state=42),\n",
    "                           n_estimators=800, random_state=1)\n",
    "\n",
    "adb_max_features = AdaBoostClassifier(base_estimator=ExtraTreesClassifier(n_estimators = 800,  random_state=42),\n",
    "                           n_estimators=800, random_state=1)\n",
    "\n",
    "gb = GradientBoostingClassifier(n_estimators=800, \n",
    "                                     subsample=0.5,\n",
    "                                     max_features=4,\n",
    "                                     random_state=42)\n",
    "cv = ShuffleSplit(n_splits=3, test_size=0.25)\n"
   ]
  },
  {
   "cell_type": "code",
   "execution_count": 64,
   "metadata": {},
   "outputs": [],
   "source": [
    "inv_map = {0 : 'OFFSHORE', 1: 'ONSHORE', 2: 'ONSHORE-OFFSHORE'}"
   ]
  },
  {
   "cell_type": "code",
   "execution_count": null,
   "metadata": {},
   "outputs": [
    {
     "name": "stdout",
     "output_type": "stream",
     "text": [
      "iteration 0, acc: 0.870597567424643\n",
      "iteration 1, acc: 0.8384452670544686\n",
      "iteration 2, acc: 0.8544156530936012\n",
      "iteration 3, acc: 0.8544156530936012\n",
      "iteration 4, acc: 0.8315705975674247\n",
      "iteration 5, acc: 0.8350608143839239\n"
     ]
    }
   ],
   "source": [
    "kf = KFold(n_splits=5, shuffle=True)\n",
    "for i in range(8):\n",
    "    # метод split возвращает индексы для объектов train и test\n",
    "    acc = []\n",
    "    classifiers = []\n",
    "    for train_index, test_index in kf.split(X_features):\n",
    "        vote_classifier = VotingClassifier([('ADB(10)', adb), \n",
    "                                    ('ADB', adb_max_features), \n",
    "                                    #('LGB', lgb_classifier), \n",
    "                                    ('GB', gb)])\n",
    "        X_train, X_test = X_features.iloc[train_index], X_features.iloc[test_index]\n",
    "        y_train, y_test = y[train_index], y[test_index]\n",
    "        vote_classifier.fit(X_train, y_train)\n",
    "        acc.append(accuracy_score(vote_classifier.predict(X_test), y_test))\n",
    " \n",
    "        # получим 5 оптимальных классификаторов\n",
    "        classifiers.append(vote_classifier)\n",
    "    print(f'iteration {i}, acc: {np.mean(acc)}')\n",
    "    res = []\n",
    "    for c in classifiers:\n",
    "        res.append(c.predict(X_test_features))\n",
    "        \n",
    "    result_vote = pd.DataFrame(np.array(res).T)\n",
    "    (\n",
    "        np.round(result_vote.sum(axis=1) / result_vote.count(axis=1))\n",
    "        .astype(int)\n",
    "    ).map(inv_map).to_csv(f'sub/sub_{i}.csv', \n",
    "                          index=False, \n",
    "                          header=0)"
   ]
  },
  {
   "cell_type": "code",
   "execution_count": 151,
   "metadata": {
    "scrolled": true
   },
   "outputs": [
    {
     "name": "stdout",
     "output_type": "stream",
     "text": [
      "iteration 0, acc: 0.8318878900052882\n",
      "iteration 1, acc: 0.8024854574299314\n",
      "iteration 2, acc: 0.8381808566895822\n",
      "iteration 3, acc: 0.8351665785298785\n",
      "iteration 4, acc: 0.8480169222633528\n",
      "iteration 5, acc: 0.8416710735060814\n",
      "iteration 6, acc: 0.8479640401903754\n",
      "iteration 7, acc: 0.818667371760973\n"
     ]
    }
   ],
   "source": [
    "for i in range(8):\n",
    "    # метод split возвращает индексы для объектов train и test\n",
    "    acc = []\n",
    "    classifiers = []\n",
    "    for train_index, test_index in kf.split(X_features):\n",
    "        vote_classifier = VotingClassifier([('ADB(10)', adb), \n",
    "                                    ('ADB', adb_max_features), \n",
    "                                    #('LGB', lgb_classifier), \n",
    "                                    ('GB', gb)])\n",
    "        X_train, X_test = X_features.iloc[train_index], X_features.iloc[test_index]\n",
    "        y_train, y_test = y[train_index], y[test_index]\n",
    "        vote_classifier.fit(X_train, y_train)\n",
    "        acc.append(accuracy_score(vote_classifier.predict(X_test), y_test))\n",
    " \n",
    "        # получим 5 оптимальных классификаторов\n",
    "        classifiers.append(vote_classifier)\n",
    "    print(f'iteration {i}, acc: {np.mean(acc)}')\n",
    "    res = []\n",
    "    for c in classifiers:\n",
    "        res.append(c.predict(X_test_features))\n",
    "        \n",
    "    result_vote = pd.DataFrame(np.array(res).T)\n",
    "    (\n",
    "        np.round(result_vote.sum(axis=1) / result_vote.count(axis=1))\n",
    "        .astype(int)\n",
    "    ).map(inv_map).to_csv(f'submission/sub_{i}.csv', \n",
    "                          index=False, \n",
    "                          header=0)"
   ]
  }
 ],
 "metadata": {
  "kernelspec": {
   "display_name": "Python 3",
   "language": "python",
   "name": "python3"
  },
  "language_info": {
   "codemirror_mode": {
    "name": "ipython",
    "version": 3
   },
   "file_extension": ".py",
   "mimetype": "text/x-python",
   "name": "python",
   "nbconvert_exporter": "python",
   "pygments_lexer": "ipython3",
   "version": "3.8.5"
  }
 },
 "nbformat": 4,
 "nbformat_minor": 4
}
