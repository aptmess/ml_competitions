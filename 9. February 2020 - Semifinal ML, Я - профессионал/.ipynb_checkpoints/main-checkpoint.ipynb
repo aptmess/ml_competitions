{
 "cells": [
  {
   "cell_type": "markdown",
   "metadata": {},
   "source": [
    "## Solution for yandex machine learning iprofi competition 2021"
   ]
  },
  {
   "cell_type": "code",
   "execution_count": 1,
   "metadata": {},
   "outputs": [],
   "source": [
    "import numpy as np\n",
    "import pandas as pd\n",
    "import os\n",
    "import matplotlib.pyplot as plt\n",
    "import seaborn as sns\n",
    "\n",
    "from scipy import stats\n",
    "\n",
    "from sklearn.model_selection import train_test_split\n",
    "from xgboost import XGBRegressor, plot_importance\n",
    "from sklearn.linear_model import LinearRegression, Ridge\n",
    "from sklearn.feature_selection import RFE\n",
    "from sklearn.metrics import mean_squared_error\n",
    "\n",
    "from yellowbrick.cluster import KElbowVisualizer"
   ]
  },
  {
   "cell_type": "code",
   "execution_count": 2,
   "metadata": {},
   "outputs": [],
   "source": [
    "data_path = 'data'\n",
    "submission_path = 'submission'\n",
    "kmeans_seed = 1\n",
    "split_seed = 35"
   ]
  },
  {
   "cell_type": "code",
   "execution_count": 3,
   "metadata": {},
   "outputs": [],
   "source": [
    "def create_submission(predictions, sub_number):\n",
    "    \n",
    "    if not os.path.isdir(submission_path):\n",
    "        os.mkdir(submission_path)\n",
    "        \n",
    "    submission = test.copy()\n",
    "    submission['NTG'] = predictions\n",
    "    \n",
    "    save_path = os.path.join(submission_path, '{}_submission.csv'.format(sub_number))\n",
    "    \n",
    "    submission.to_csv(save_path, index=False)\n",
    "    \n",
    "    return 'Submission save at: {}'.format(save_path)"
   ]
  },
  {
   "cell_type": "code",
   "execution_count": 43,
   "metadata": {},
   "outputs": [],
   "source": [
    "train = pd.read_csv(os.path.join(data_path, 'Training_wells.csv'))\n",
    "test = pd.read_csv(os.path.join(data_path, 'Empty_part.csv'))"
   ]
  },
  {
   "cell_type": "markdown",
   "metadata": {},
   "source": [
    "## Первичный анализ данных"
   ]
  },
  {
   "cell_type": "markdown",
   "metadata": {},
   "source": [
    "Тренировочная выборка составляет примерно 10% информации о скважных данных."
   ]
  },
  {
   "cell_type": "code",
   "execution_count": 5,
   "metadata": {},
   "outputs": [
    {
     "name": "stdout",
     "output_type": "stream",
     "text": [
      "Train shape: (138, 4)\n",
      "Test shape: (1242, 3)\n"
     ]
    }
   ],
   "source": [
    "print('Train shape: {}'.format(train.shape))\n",
    "print('Test shape: {}'.format(test.shape))"
   ]
  },
  {
   "cell_type": "code",
   "execution_count": 6,
   "metadata": {},
   "outputs": [
    {
     "data": {
      "text/html": [
       "<div>\n",
       "<style scoped>\n",
       "    .dataframe tbody tr th:only-of-type {\n",
       "        vertical-align: middle;\n",
       "    }\n",
       "\n",
       "    .dataframe tbody tr th {\n",
       "        vertical-align: top;\n",
       "    }\n",
       "\n",
       "    .dataframe thead th {\n",
       "        text-align: right;\n",
       "    }\n",
       "</style>\n",
       "<table border=\"1\" class=\"dataframe\">\n",
       "  <thead>\n",
       "    <tr style=\"text-align: right;\">\n",
       "      <th></th>\n",
       "      <th>Well</th>\n",
       "      <th>X</th>\n",
       "      <th>Y</th>\n",
       "      <th>NTG</th>\n",
       "    </tr>\n",
       "  </thead>\n",
       "  <tbody>\n",
       "    <tr>\n",
       "      <th>0</th>\n",
       "      <td>201-907</td>\n",
       "      <td>201</td>\n",
       "      <td>907</td>\n",
       "      <td>0.2006</td>\n",
       "    </tr>\n",
       "    <tr>\n",
       "      <th>1</th>\n",
       "      <td>201-914</td>\n",
       "      <td>201</td>\n",
       "      <td>914</td>\n",
       "      <td>0.3624</td>\n",
       "    </tr>\n",
       "    <tr>\n",
       "      <th>2</th>\n",
       "      <td>201-924</td>\n",
       "      <td>201</td>\n",
       "      <td>924</td>\n",
       "      <td>0.4381</td>\n",
       "    </tr>\n",
       "    <tr>\n",
       "      <th>3</th>\n",
       "      <td>202-922</td>\n",
       "      <td>202</td>\n",
       "      <td>922</td>\n",
       "      <td>0.4289</td>\n",
       "    </tr>\n",
       "    <tr>\n",
       "      <th>4</th>\n",
       "      <td>202-925</td>\n",
       "      <td>202</td>\n",
       "      <td>925</td>\n",
       "      <td>0.4021</td>\n",
       "    </tr>\n",
       "  </tbody>\n",
       "</table>\n",
       "</div>"
      ],
      "text/plain": [
       "      Well    X    Y     NTG\n",
       "0  201-907  201  907  0.2006\n",
       "1  201-914  201  914  0.3624\n",
       "2  201-924  201  924  0.4381\n",
       "3  202-922  202  922  0.4289\n",
       "4  202-925  202  925  0.4021"
      ]
     },
     "execution_count": 6,
     "metadata": {},
     "output_type": "execute_result"
    }
   ],
   "source": [
    "train.head()"
   ]
  },
  {
   "cell_type": "code",
   "execution_count": 7,
   "metadata": {},
   "outputs": [
    {
     "name": "stdout",
     "output_type": "stream",
     "text": [
      "<class 'pandas.core.frame.DataFrame'>\n",
      "RangeIndex: 138 entries, 0 to 137\n",
      "Data columns (total 4 columns):\n",
      " #   Column  Non-Null Count  Dtype  \n",
      "---  ------  --------------  -----  \n",
      " 0   Well    138 non-null    object \n",
      " 1   X       138 non-null    int64  \n",
      " 2   Y       138 non-null    int64  \n",
      " 3   NTG     138 non-null    float64\n",
      "dtypes: float64(1), int64(2), object(1)\n",
      "memory usage: 4.4+ KB\n"
     ]
    }
   ],
   "source": [
    "train.info()"
   ]
  },
  {
   "cell_type": "markdown",
   "metadata": {},
   "source": [
    "Судя по всему X, Y это координаты каждой скважины, тогда как Well это уникальный id скважины, записанный как комбинация X-Y."
   ]
  },
  {
   "cell_type": "code",
   "execution_count": 8,
   "metadata": {},
   "outputs": [],
   "source": [
    "assert train.Well.nunique() == train.shape[0]\n",
    "assert test.Well.nunique() == test.shape[0]"
   ]
  },
  {
   "cell_type": "markdown",
   "metadata": {},
   "source": [
    "Нужно предсказать значение песчанистости, которое, судя по тесту и гистограмме, имеет распределние близкое к нормальному."
   ]
  },
  {
   "cell_type": "code",
   "execution_count": 9,
   "metadata": {},
   "outputs": [
    {
     "name": "stdout",
     "output_type": "stream",
     "text": [
      "Mean: 0.3257195652173913\n",
      "NTG distribution is aprox. normal with p = 0.4294535379575585\n"
     ]
    },
    {
     "data": {
      "image/png": "[encoded data removed]",
      "text/plain": [
       "<Figure size 360x360 with 1 Axes>"
      ]
     },
     "metadata": {
      "needs_background": "light"
     },
     "output_type": "display_data"
    }
   ],
   "source": [
    "print('Mean: {}'.format(train['NTG'].mean()))\n",
    "sns.displot(train['NTG'], bins=12)\n",
    "\n",
    "k2, p = stats.normaltest(train.NTG)\n",
    "alpha = 0.05\n",
    "if p < alpha:\n",
    "    print('NTG distribution is not normal with p = {}'.format(p))\n",
    "else:\n",
    "    print('NTG distribution is aprox. normal with p = {}'.format(p))"
   ]
  },
  {
   "cell_type": "code",
   "execution_count": 10,
   "metadata": {},
   "outputs": [
    {
     "data": {
      "text/plain": [
       "<AxesSubplot:xlabel='X', ylabel='Y'>"
      ]
     },
     "execution_count": 10,
     "metadata": {},
     "output_type": "execute_result"
    },
    {
     "data": {
      "image/png": "[encoded data removed]",
      "text/plain": [
       "<Figure size 432x288 with 1 Axes>"
      ]
     },
     "metadata": {
      "needs_background": "light"
     },
     "output_type": "display_data"
    }
   ],
   "source": [
    "sns.scatterplot(data=train, x='X', y='Y', hue='NTG')"
   ]
  },
  {
   "cell_type": "markdown",
   "metadata": {},
   "source": [
    "## Features generation"
   ]
  },
  {
   "cell_type": "markdown",
   "metadata": {},
   "source": [
    "В тестовой выборке имеются такие координаты Х, которые отсутствуют в тренировочной. Поэтому, возможно, признаки сгенерированные на основе столбца Х будут не репрезентативны."
   ]
  },
  {
   "cell_type": "code",
   "execution_count": 11,
   "metadata": {},
   "outputs": [
    {
     "name": "stdout",
     "output_type": "stream",
     "text": [
      "X not in train: [213, 233, 236]\n",
      "Y not in train: []\n"
     ]
    }
   ],
   "source": [
    "x_not_in_train = []\n",
    "y_not_in_train = []\n",
    "for x, y in zip(test.X, test.Y):\n",
    "    if x not in train.X.values and x not in x_not_in_train:\n",
    "        x_not_in_train.append(x)\n",
    "    if y not in train.Y.values and y not in y_not_in_train:\n",
    "        y_not_in_train.append(y)\n",
    "        \n",
    "print('X not in train: {}'.format(x_not_in_train))\n",
    "print('Y not in train: {}'.format(y_not_in_train))"
   ]
  },
  {
   "cell_type": "markdown",
   "metadata": {},
   "source": [
    "Думаю имеет смысл предположение о том, что у скважин, находящихся близко друг к другу, будут похожие значения песчанистости. \n",
    "Исходя из этого можно объединить скважины в кластеры, затем посчитать, к примеру, среднее значение песчанистости для каждого кластера и добавить этот новый признак к обучающей и тестовой выборке."
   ]
  },
  {
   "cell_type": "code",
   "execution_count": 44,
   "metadata": {},
   "outputs": [
    {
     "data": {
      "text/plain": [
       "<AxesSubplot:xlabel='X', ylabel='Y'>"
      ]
     },
     "execution_count": 44,
     "metadata": {},
     "output_type": "execute_result"
    },
    {
     "data": {
      "image/png": "[encoded data removed]",
      "text/plain": [
       "<Figure size 432x288 with 1 Axes>"
      ]
     },
     "metadata": {
      "needs_background": "light"
     },
     "output_type": "display_data"
    }
   ],
   "source": [
    "from sklearn.cluster import KMeans\n",
    "\n",
    "kmeans = KMeans(n_clusters=25, random_state=kmeans_seed)\n",
    "kmeans.fit(train[['X', 'Y']])\n",
    "\n",
    "plt.scatter(kmeans.cluster_centers_[:, 0], kmeans.cluster_centers_[:, 1], marker='x', color='red')\n",
    "sns.scatterplot(data=train, x='X', y='Y', hue='NTG')"
   ]
  },
  {
   "cell_type": "markdown",
   "metadata": {},
   "source": [
    "Кроме того, так же можно посчитать средние значения песчанистости вдоль координатных осей Х, Y."
   ]
  },
  {
   "cell_type": "code",
   "execution_count": 45,
   "metadata": {},
   "outputs": [],
   "source": [
    "columns = ['X', 'Y', 'cluster']\n",
    "agg_types = ['mean', 'median', 'min', 'max']\n",
    "\n",
    "def generate_grouped_features(train, test):\n",
    "    '''\n",
    "        Функция принимает на вход обучающую и тестовую выборки.\n",
    "        На выходе возврашает датасеты со сгенерированными признаками.\n",
    "        \n",
    "        Признаки получены путем группировки столбцов из списка columns,\n",
    "        и дальнейшей агрегацией столбца NTG (из обучающей выборки) способом\n",
    "        из agg_types. Таким образом генерируются\n",
    "        len(columns) * len(agg_types) новых признаков. Далее полученные признаки\n",
    "        добавляются к обучающему и тестовому датасету.\n",
    "        \n",
    "        Признаки именуются как NTG_{группируемый столбец}_{тип агрегации}.        \n",
    "    '''\n",
    "    train_copy = train.copy()\n",
    "    test_copy = test.copy()\n",
    "    \n",
    "    for column in columns:\n",
    "        for agg_type in agg_types:\n",
    "            group = train_copy.groupby(by=column).agg({'NTG':agg_type})\n",
    "            group.reset_index(inplace=True)\n",
    "            group.columns = [column, 'NTG_{}_{}'.format(column, agg_type)]\n",
    "            \n",
    "            train_copy = pd.merge(train_copy, group, on=column, how='left')\n",
    "            test_copy = pd.merge(test_copy, group, on=column, how='left')\n",
    "            \n",
    "    return train_copy, test_copy"
   ]
  },
  {
   "cell_type": "code",
   "execution_count": 46,
   "metadata": {},
   "outputs": [],
   "source": [
    "train['cluster'] = kmeans.labels_\n",
    "\n",
    "test_copy = test.copy()\n",
    "test_copy['cluster'] = kmeans.predict(test[['X', 'Y']])\n",
    "\n",
    "train_gen, test_gen = generate_grouped_features(train, test_copy)\n",
    "assert train_gen.shape[1] == (len(columns) * len(agg_types) + train.shape[1])"
   ]
  },
  {
   "cell_type": "markdown",
   "metadata": {},
   "source": [
    "Как и следовало ожидать, из за того что в обучающей выборке отсутствовали такие значения Х как: [213, 233, 236], в признаках, полученных на основе столбца Х появились пропуски в тестовой выборке."
   ]
  },
  {
   "cell_type": "code",
   "execution_count": 15,
   "metadata": {},
   "outputs": [
    {
     "name": "stdout",
     "output_type": "stream",
     "text": [
      "<class 'pandas.core.frame.DataFrame'>\n",
      "Int64Index: 1242 entries, 0 to 1241\n",
      "Data columns (total 16 columns):\n",
      " #   Column              Non-Null Count  Dtype  \n",
      "---  ------              --------------  -----  \n",
      " 0   Well                1242 non-null   object \n",
      " 1   X                   1242 non-null   int64  \n",
      " 2   Y                   1242 non-null   int64  \n",
      " 3   cluster             1242 non-null   int32  \n",
      " 4   NTG_X_mean          1152 non-null   float64\n",
      " 5   NTG_X_median        1152 non-null   float64\n",
      " 6   NTG_X_min           1152 non-null   float64\n",
      " 7   NTG_X_max           1152 non-null   float64\n",
      " 8   NTG_Y_mean          1242 non-null   float64\n",
      " 9   NTG_Y_median        1242 non-null   float64\n",
      " 10  NTG_Y_min           1242 non-null   float64\n",
      " 11  NTG_Y_max           1242 non-null   float64\n",
      " 12  NTG_cluster_mean    1242 non-null   float64\n",
      " 13  NTG_cluster_median  1242 non-null   float64\n",
      " 14  NTG_cluster_min     1242 non-null   float64\n",
      " 15  NTG_cluster_max     1242 non-null   float64\n",
      "dtypes: float64(12), int32(1), int64(2), object(1)\n",
      "memory usage: 160.1+ KB\n"
     ]
    }
   ],
   "source": [
    "test_gen.info()"
   ]
  },
  {
   "cell_type": "markdown",
   "metadata": {},
   "source": [
    "Сильнее всего с целевой переменной коррелируют такие признаки как NTG_Y_mean и NTG_cluster_mean. "
   ]
  },
  {
   "cell_type": "code",
   "execution_count": 16,
   "metadata": {},
   "outputs": [
    {
     "data": {
      "text/plain": [
       "<AxesSubplot:>"
      ]
     },
     "execution_count": 16,
     "metadata": {},
     "output_type": "execute_result"
    },
    {
     "data": {
      "image/png": "[encoded data removed]",
      "text/plain": [
       "<Figure size 864x864 with 2 Axes>"
      ]
     },
     "metadata": {
      "needs_background": "light"
     },
     "output_type": "display_data"
    }
   ],
   "source": [
    "fig, axs = plt.subplots(1,1, figsize=(12,12))\n",
    "sns.heatmap(train_gen.corr(), ax=axs)"
   ]
  },
  {
   "cell_type": "code",
   "execution_count": 17,
   "metadata": {},
   "outputs": [
    {
     "name": "stdout",
     "output_type": "stream",
     "text": [
      "RMSE: 0.04351937657985321\n",
      "Baseline RMSE: 0.05770792430906889\n"
     ]
    },
    {
     "data": {
      "image/png": "[encoded data removed]",
      "text/plain": [
       "<Figure size 432x288 with 1 Axes>"
      ]
     },
     "metadata": {
      "needs_background": "light"
     },
     "output_type": "display_data"
    }
   ],
   "source": [
    "x_train, x_val, y_train, y_val = train_test_split(train_gen.drop(['Well',\n",
    "                                                                  'NTG'], axis=1),\n",
    "                                                  train_gen['NTG'],\n",
    "                                                  test_size=0.2,\n",
    "                                                  random_state=split_seed)\n",
    "\n",
    "model = XGBRegressor(objective='reg:squarederror')\n",
    "\n",
    "model.fit(x_train, y_train)\n",
    "predictions = model.predict(x_val)\n",
    "\n",
    "baseline = np.ones(shape=(predictions.shape)) * y_val.mean()\n",
    "\n",
    "print('RMSE: {}'.format(np.sqrt(mean_squared_error(y_val, predictions))))\n",
    "print('Baseline RMSE: {}'.format(np.sqrt(mean_squared_error(y_val, baseline))))\n",
    "\n",
    "plot_importance(model)\n",
    "plt.show()"
   ]
  },
  {
   "cell_type": "markdown",
   "metadata": {},
   "source": [
    "## Submission 1 - baseline"
   ]
  },
  {
   "cell_type": "markdown",
   "metadata": {},
   "source": [
    "Предсказываем все значения равными среднему обучающей выборки."
   ]
  },
  {
   "cell_type": "code",
   "execution_count": 58,
   "metadata": {},
   "outputs": [],
   "source": [
    "prediction = train['NTG'].mean()\n",
    "create_submission(prediction, 1)"
   ]
  },
  {
   "cell_type": "markdown",
   "metadata": {},
   "source": [
    "## Submission 2"
   ]
  },
  {
   "cell_type": "markdown",
   "metadata": {},
   "source": [
    "Используем координаты X, Y и номер кластера для предсказания NTG.\n",
    "В качестве модели выбран градиентный бустинг деревьев решений."
   ]
  },
  {
   "cell_type": "code",
   "execution_count": 18,
   "metadata": {},
   "outputs": [
    {
     "name": "stdout",
     "output_type": "stream",
     "text": [
      "RMSE: 0.040177857187977103\n",
      "Baseline RMSE: 0.05770792430906889\n"
     ]
    }
   ],
   "source": [
    "features = ['X','Y','cluster']\n",
    "\n",
    "x_train, x_val, y_train, y_val = train_test_split(train_gen[features],\n",
    "                                                  train_gen['NTG'],\n",
    "                                                  test_size=0.2,\n",
    "                                                  random_state=split_seed)\n",
    "\n",
    "model = XGBRegressor(objective='reg:squarederror')\n",
    "\n",
    "model.fit(x_train, y_train)\n",
    "predictions = model.predict(x_val)\n",
    "\n",
    "baseline = np.ones(shape=(predictions.shape)) * y_val.mean()\n",
    "\n",
    "print('RMSE: {}'.format(np.sqrt(mean_squared_error(y_val, predictions))))\n",
    "print('Baseline RMSE: {}'.format(np.sqrt(mean_squared_error(y_val, baseline))))"
   ]
  },
  {
   "cell_type": "code",
   "execution_count": 155,
   "metadata": {},
   "outputs": [
    {
     "data": {
      "text/plain": [
       "'Submission save at: submission\\\\2_submission.csv'"
      ]
     },
     "execution_count": 155,
     "metadata": {},
     "output_type": "execute_result"
    }
   ],
   "source": [
    "predictions = model.predict(test_gen[features])\n",
    "\n",
    "create_submission(predictions, 2)"
   ]
  },
  {
   "cell_type": "markdown",
   "metadata": {},
   "source": [
    "## Submission 3"
   ]
  },
  {
   "cell_type": "markdown",
   "metadata": {},
   "source": [
    "Простая линейная регрессия показала себе лучше деревьев решений для этой задачи, в дальнейшем буду использовать ее.\n",
    "\n",
    "Используем все сгенерированные признаки кроме тех что получились на основе столбца Х."
   ]
  },
  {
   "cell_type": "code",
   "execution_count": 19,
   "metadata": {},
   "outputs": [
    {
     "name": "stdout",
     "output_type": "stream",
     "text": [
      "RMSE: 0.033108748536182876\n",
      "Baseline RMSE: 0.05770792430906889\n"
     ]
    }
   ],
   "source": [
    "features = ['X','Y','cluster',\n",
    "            'NTG_Y_mean', 'NTG_Y_median', 'NTG_Y_min', 'NTG_Y_max',\n",
    "            'NTG_cluster_mean', 'NTG_cluster_median', 'NTG_cluster_min', 'NTG_cluster_max']\n",
    "\n",
    "x_train, x_val, y_train, y_val = train_test_split(train_gen[features],\n",
    "                                                  train_gen['NTG'],\n",
    "                                                  test_size=0.2,\n",
    "                                                  random_state=split_seed)\n",
    "\n",
    "linear = LinearRegression()\n",
    "\n",
    "linear.fit(x_train, y_train)\n",
    "predictions = linear.predict(x_val)\n",
    "\n",
    "baseline = np.ones(shape=(predictions.shape)) * y_val.mean()\n",
    "\n",
    "print('RMSE: {}'.format(np.sqrt(mean_squared_error(y_val, predictions))))\n",
    "print('Baseline RMSE: {}'.format(np.sqrt(mean_squared_error(y_val, baseline))))"
   ]
  },
  {
   "cell_type": "code",
   "execution_count": 58,
   "metadata": {},
   "outputs": [
    {
     "data": {
      "text/plain": [
       "'Submission save at: submission\\\\3_submission.csv'"
      ]
     },
     "execution_count": 58,
     "metadata": {},
     "output_type": "execute_result"
    }
   ],
   "source": [
    "predictions = linear.predict(test_gen[features])\n",
    "\n",
    "create_submission(predictions, 3)"
   ]
  },
  {
   "cell_type": "markdown",
   "metadata": {},
   "source": [
    "## Submission 4"
   ]
  },
  {
   "cell_type": "markdown",
   "metadata": {},
   "source": [
    "Используем жадный алгоритм для поиска лучшей коомбинации признаков.\n"
   ]
  },
  {
   "cell_type": "code",
   "execution_count": 21,
   "metadata": {},
   "outputs": [],
   "source": [
    "def greedy_feature_selection(train):\n",
    "    X = train.drop(['Well', 'NTG', 'NTG_X_mean',\n",
    "                                  'NTG_X_median',\n",
    "                                  'NTG_X_min',\n",
    "                                  'NTG_X_max'], axis=1).copy()\n",
    "    y = train['NTG'].copy()\n",
    "    \n",
    "    features_names = X.columns\n",
    "    logs = {}\n",
    "    \n",
    "    for n_columns in range(1, features_names.shape[0]+1):\n",
    "        \n",
    "        x_train, x_val, y_train, y_val = train_test_split(X, y, test_size=0.2, random_state=split_seed)\n",
    "        \n",
    "        lr = LinearRegression()\n",
    "        selector = RFE(lr, n_features_to_select=n_columns, step=1).fit(x_train, y_train)\n",
    "        \n",
    "        selected_columns = features_names[selector.support_]\n",
    "        \n",
    "        lr.fit(x_train[selected_columns], y_train)\n",
    "        predictions = lr.predict(x_val[selected_columns])\n",
    "        rmse = np.sqrt(mean_squared_error(y_val, predictions))\n",
    "        \n",
    "        log_name = '{}_features'.format(n_columns)\n",
    "        logs[log_name] = [selected_columns, rmse]\n",
    "    \n",
    "    return logs"
   ]
  },
  {
   "cell_type": "code",
   "execution_count": 22,
   "metadata": {},
   "outputs": [
    {
     "data": {
      "text/plain": [
       "{'1_features': [Index(['NTG_cluster_mean'], dtype='object'),\n",
       "  0.03195041310538391],\n",
       " '2_features': [Index(['NTG_Y_mean', 'NTG_cluster_mean'], dtype='object'),\n",
       "  0.030146574585717505],\n",
       " '3_features': [Index(['NTG_Y_mean', 'NTG_Y_median', 'NTG_cluster_mean'], dtype='object'),\n",
       "  0.03058126472682143],\n",
       " '4_features': [Index(['NTG_Y_mean', 'NTG_Y_median', 'NTG_Y_min', 'NTG_cluster_mean'], dtype='object'),\n",
       "  0.030934357582470325],\n",
       " '5_features': [Index(['NTG_Y_mean', 'NTG_Y_median', 'NTG_Y_min', 'NTG_Y_max',\n",
       "         'NTG_cluster_mean'],\n",
       "        dtype='object'), 0.03225033530546155],\n",
       " '6_features': [Index(['NTG_Y_mean', 'NTG_Y_median', 'NTG_Y_min', 'NTG_Y_max',\n",
       "         'NTG_cluster_mean', 'NTG_cluster_min'],\n",
       "        dtype='object'), 0.032634237799302],\n",
       " '7_features': [Index(['NTG_Y_mean', 'NTG_Y_median', 'NTG_Y_min', 'NTG_Y_max',\n",
       "         'NTG_cluster_mean', 'NTG_cluster_median', 'NTG_cluster_min'],\n",
       "        dtype='object'), 0.03276036579773641],\n",
       " '8_features': [Index(['NTG_Y_mean', 'NTG_Y_median', 'NTG_Y_min', 'NTG_Y_max',\n",
       "         'NTG_cluster_mean', 'NTG_cluster_median', 'NTG_cluster_min',\n",
       "         'NTG_cluster_max'],\n",
       "        dtype='object'), 0.03311801784740256],\n",
       " '9_features': [Index(['Y', 'NTG_Y_mean', 'NTG_Y_median', 'NTG_Y_min', 'NTG_Y_max',\n",
       "         'NTG_cluster_mean', 'NTG_cluster_median', 'NTG_cluster_min',\n",
       "         'NTG_cluster_max'],\n",
       "        dtype='object'), 0.033057949151010055],\n",
       " '10_features': [Index(['X', 'Y', 'NTG_Y_mean', 'NTG_Y_median', 'NTG_Y_min', 'NTG_Y_max',\n",
       "         'NTG_cluster_mean', 'NTG_cluster_median', 'NTG_cluster_min',\n",
       "         'NTG_cluster_max'],\n",
       "        dtype='object'), 0.033087556769831855],\n",
       " '11_features': [Index(['X', 'Y', 'cluster', 'NTG_Y_mean', 'NTG_Y_median', 'NTG_Y_min',\n",
       "         'NTG_Y_max', 'NTG_cluster_mean', 'NTG_cluster_median',\n",
       "         'NTG_cluster_min', 'NTG_cluster_max'],\n",
       "        dtype='object'), 0.033108748536182876]}"
      ]
     },
     "execution_count": 22,
     "metadata": {},
     "output_type": "execute_result"
    }
   ],
   "source": [
    "logs = greedy_feature_selection(train_gen)\n",
    "logs"
   ]
  },
  {
   "cell_type": "code",
   "execution_count": 23,
   "metadata": {},
   "outputs": [
    {
     "name": "stdout",
     "output_type": "stream",
     "text": [
      "RMSE: 0.030146574585717505\n",
      "Baseline RMSE: 0.05770792430906889\n"
     ]
    }
   ],
   "source": [
    "features = logs['2_features'][0]\n",
    "x_train, x_val, y_train, y_val = train_test_split(train_gen[features],\n",
    "                                                  train_gen['NTG'],\n",
    "                                                  test_size=0.2,\n",
    "                                                  random_state=split_seed)\n",
    "\n",
    "linear = LinearRegression()\n",
    "\n",
    "linear.fit(x_train, y_train)\n",
    "predictions = linear.predict(x_val)\n",
    "\n",
    "baseline = np.ones(shape=(predictions.shape)) * y_val.mean()\n",
    "\n",
    "print('RMSE: {}'.format(np.sqrt(mean_squared_error(y_val, predictions))))\n",
    "print('Baseline RMSE: {}'.format(np.sqrt(mean_squared_error(y_val, baseline))))"
   ]
  },
  {
   "cell_type": "code",
   "execution_count": 106,
   "metadata": {},
   "outputs": [
    {
     "data": {
      "text/plain": [
       "'Submission save at: submission\\\\4_submission.csv'"
      ]
     },
     "execution_count": 106,
     "metadata": {},
     "output_type": "execute_result"
    }
   ],
   "source": [
    "predictions = linear.predict(test_gen[features])\n",
    "\n",
    "create_submission(predictions, 4)"
   ]
  },
  {
   "cell_type": "markdown",
   "metadata": {},
   "source": [
    "## Submission 5"
   ]
  },
  {
   "cell_type": "markdown",
   "metadata": {},
   "source": [
    "Используем l2 регуляризацию для линейной регрессии. Гиперпараметры подобраны поиском по сетке."
   ]
  },
  {
   "cell_type": "code",
   "execution_count": 47,
   "metadata": {},
   "outputs": [
    {
     "name": "stdout",
     "output_type": "stream",
     "text": [
      "RMSE: 0.02916187304385916\n",
      "Baseline RMSE: 0.05770792430906889\n"
     ]
    }
   ],
   "source": [
    "features = ['NTG_Y_mean', 'NTG_cluster_median', 'NTG_cluster_min',\n",
    "         'NTG_cluster_max']\n",
    "\n",
    "x_train, x_val, y_train, y_val = train_test_split(train_gen[features],\n",
    "                                                  train_gen['NTG'],\n",
    "                                                  test_size=0.2,\n",
    "                                                  random_state=split_seed)\n",
    "\n",
    "linear = Ridge(alpha=0.1, fit_intercept=True, normalize=True, solver='svd')\n",
    "\n",
    "linear.fit(x_train, y_train)\n",
    "predictions = linear.predict(x_val)\n",
    "\n",
    "baseline = np.ones(shape=(predictions.shape)) * y_val.mean()\n",
    "\n",
    "print('RMSE: {}'.format(np.sqrt(mean_squared_error(y_val, predictions))))\n",
    "print('Baseline RMSE: {}'.format(np.sqrt(mean_squared_error(y_val, baseline))))"
   ]
  },
  {
   "cell_type": "code",
   "execution_count": 143,
   "metadata": {},
   "outputs": [
    {
     "data": {
      "text/plain": [
       "'Submission save at: submission\\\\5_submission.csv'"
      ]
     },
     "execution_count": 143,
     "metadata": {},
     "output_type": "execute_result"
    }
   ],
   "source": [
    "predictions = linear.predict(test_gen[features])\n",
    "\n",
    "create_submission(predictions, 5)"
   ]
  },
  {
   "cell_type": "markdown",
   "metadata": {},
   "source": [
    "## Submission 6"
   ]
  },
  {
   "cell_type": "markdown",
   "metadata": {},
   "source": [
    "Вместо того чтобы выбирать случайное количество кластеров, логичнее было бы использовать один из специализированных для этого методов.\n",
    "\n",
    "В этом сабмите использовалось правило локтя."
   ]
  },
  {
   "cell_type": "code",
   "execution_count": 27,
   "metadata": {},
   "outputs": [
    {
     "data": {
      "image/png": "[encoded data removed]",
      "text/plain": [
       "<Figure size 432x288 with 2 Axes>"
      ]
     },
     "metadata": {},
     "output_type": "display_data"
    },
    {
     "data": {
      "text/plain": [
       "<AxesSubplot:title={'center':'Distortion Score Elbow for KMeans Clustering'}, xlabel='k', ylabel='distortion score'>"
      ]
     },
     "execution_count": 27,
     "metadata": {},
     "output_type": "execute_result"
    }
   ],
   "source": [
    "model = KMeans()\n",
    "visualizer = KElbowVisualizer(model, k=(2,30), timings= True)\n",
    "visualizer.fit(train[['X', 'Y']])        # Fit data to visualizer\n",
    "visualizer.show()"
   ]
  },
  {
   "cell_type": "code",
   "execution_count": 37,
   "metadata": {},
   "outputs": [
    {
     "name": "stdout",
     "output_type": "stream",
     "text": [
      "RMSE: 0.041781504872772164\n",
      "Baseline RMSE: 0.05770792430906889\n"
     ]
    }
   ],
   "source": [
    "train = pd.read_csv(os.path.join(data_path, 'Training_wells.csv'))\n",
    "test = pd.read_csv(os.path.join(data_path, 'Empty_part.csv'))\n",
    "\n",
    "kmeans = KMeans(n_clusters=9, random_state=kmeans_seed)\n",
    "kmeans.fit(train[['X', 'Y']])\n",
    "\n",
    "train['cluster'] = kmeans.labels_\n",
    "\n",
    "test_copy = test.copy()\n",
    "test_copy['cluster'] = kmeans.predict(test[['X', 'Y']])\n",
    "\n",
    "train_gen, test_gen = generate_grouped_features(train, test_copy)\n",
    "\n",
    "\n",
    "features = ['NTG_Y_mean', 'NTG_cluster_median', 'NTG_cluster_min',\n",
    "         'NTG_cluster_max']\n",
    "\n",
    "x_train, x_val, y_train, y_val = train_test_split(train_gen[features],\n",
    "                                                  train_gen['NTG'],\n",
    "                                                  test_size=0.2,\n",
    "                                                  random_state=split_seed)\n",
    "\n",
    "linear = Ridge(alpha=0.1, fit_intercept=True, normalize=True, solver='svd')\n",
    "\n",
    "linear.fit(x_train, y_train)\n",
    "predictions = linear.predict(x_val)\n",
    "\n",
    "baseline = np.ones(shape=(predictions.shape)) * y_val.mean()\n",
    "\n",
    "print('RMSE: {}'.format(np.sqrt(mean_squared_error(y_val, predictions))))\n",
    "print('Baseline RMSE: {}'.format(np.sqrt(mean_squared_error(y_val, baseline))))"
   ]
  },
  {
   "cell_type": "code",
   "execution_count": 38,
   "metadata": {},
   "outputs": [
    {
     "data": {
      "text/plain": [
       "'Submission save at: submission\\\\6_submission.csv'"
      ]
     },
     "execution_count": 38,
     "metadata": {},
     "output_type": "execute_result"
    }
   ],
   "source": [
    "predictions = linear.predict(test_gen[features])\n",
    "\n",
    "create_submission(predictions, 6)"
   ]
  },
  {
   "cell_type": "code",
   "execution_count": null,
   "metadata": {},
   "outputs": [],
   "source": []
  }
 ],
 "metadata": {
  "kernelspec": {
   "display_name": "Python 3",
   "language": "python",
   "name": "python3"
  },
  "language_info": {
   "codemirror_mode": {
    "name": "ipython",
    "version": 3
   },
   "file_extension": ".py",
   "mimetype": "text/x-python",
   "name": "python",
   "nbconvert_exporter": "python",
   "pygments_lexer": "ipython3",
   "version": "3.8.5"
  }
 },
 "nbformat": 4,
 "nbformat_minor": 4
}
