{
 "cells": [
  {
   "cell_type": "markdown",
   "metadata": {},
   "source": [
    "# Part I"
   ]
  },
  {
   "cell_type": "markdown",
   "metadata": {},
   "source": [
    "### Задание"
   ]
  },
  {
   "cell_type": "markdown",
   "metadata": {},
   "source": [
    "1. Загрузите выборку weighted_knn.csv.\n",
    "2. Реализуйте метод k ближайших соседей. В данной задаче будем использовать метрику Манхэттена:\n",
    "$$ \\rho(u,v)=\\sum_{j=1}^{m}|u_j-v_j|.$$\n",
    "3. Возьмите число соседей равным 5. Какого качества удается достичь на обучающей выборке?\n",
    "4. Метрические методы довольно чувствительны к шумовым признакам. Исходную метрику можно модифицировать таким образом, чтобы каждый из признаков имел свой вес $\\theta_j$:\n",
    "$$ \\rho(u,v)=\\sum_{j=1}^{m}\\theta_j|u_j-v_j|.$$\n",
    "5. Реализуйте функцию, которая принимает на вход обучающую выборку `X`, `y`, число соседей `k` и веса признаков `theta`, а возвращает долю неверно классифицированных объектов при заданных параметрах.\n",
    "6. С помощью функции `minimize` из пакета `scipy` найдите оптимальные значения параметров `theta`. Как изменилось качество классификации?"
   ]
  },
  {
   "cell_type": "markdown",
   "metadata": {},
   "source": [
    "Буквально недавно (2 дня назад) выполнялась мною домашняя работа в параллельном курсе по Машинному обучению в ozon masters, в котором нужно было реализовать собственный KNN, поэтому мне повезло не тратить на это очень много времени. С реализацией и спефицикацией можно ознакомиться в папке knn."
   ]
  },
  {
   "cell_type": "code",
   "execution_count": 1,
   "metadata": {},
   "outputs": [],
   "source": [
    "from knn import KNNClassifier, BatchedKNNClassifier\n",
    "from knn.distances import euclidean_distance, cosine_distance, manhattan_distance\n",
    "from knn.model_selection import knn_cross_val_score\n",
    "from knn.classification import BatchedMixin\n",
    "from knn.nearest_neighbors import NearestNeighborsFinder\n",
    "from sklearn.metrics import accuracy_score\n",
    "from sklearn.model_selection import KFold, BaseCrossValidator\n",
    "from knn.kernels import *\n",
    "\n",
    "import time\n",
    "import scipy\n",
    "import numpy as np\n",
    "import pandas as pd\n",
    "import matplotlib.pyplot as plt\n",
    "%matplotlib inline"
   ]
  },
  {
   "cell_type": "code",
   "execution_count": 2,
   "metadata": {},
   "outputs": [],
   "source": [
    "%load_ext autoreload\n",
    "%autoreload 2"
   ]
  },
  {
   "cell_type": "markdown",
   "metadata": {},
   "source": [
    "# 1 \n",
    "\n",
    "Загрузите выборку `weighted_knn.csv`."
   ]
  },
  {
   "cell_type": "code",
   "execution_count": 3,
   "metadata": {},
   "outputs": [],
   "source": [
    "data = pd.read_csv(\"weighted_knn.csv\")"
   ]
  },
  {
   "cell_type": "code",
   "execution_count": 4,
   "metadata": {},
   "outputs": [
    {
     "data": {
      "text/plain": [
       "((500, 15), (500,))"
      ]
     },
     "execution_count": 4,
     "metadata": {},
     "output_type": "execute_result"
    }
   ],
   "source": [
    "X = data.drop(columns=\"target\").values\n",
    "y = data.target.values\n",
    "X.shape, y.shape"
   ]
  },
  {
   "cell_type": "code",
   "execution_count": 5,
   "metadata": {},
   "outputs": [],
   "source": [
    "n = 400\n",
    "X_train, y_train, X_test, y_test = X[:n], y[:n], X[n:], y[n:]"
   ]
  },
  {
   "cell_type": "code",
   "execution_count": 6,
   "metadata": {},
   "outputs": [
    {
     "data": {
      "text/plain": [
       "((400, 15), (400,), (100, 15), (100,))"
      ]
     },
     "execution_count": 6,
     "metadata": {},
     "output_type": "execute_result"
    }
   ],
   "source": [
    "X_train.shape, y_train.shape, X_test.shape, y_test.shape"
   ]
  },
  {
   "cell_type": "markdown",
   "metadata": {},
   "source": [
    "# 2\n",
    "\n",
    "Реализуйте метод `k` ближайших соседей. В данной задаче будем использовать метрику Манхэттена"
   ]
  },
  {
   "cell_type": "code",
   "execution_count": 7,
   "metadata": {},
   "outputs": [],
   "source": [
    "metrics = ['euclidean', 'cosine', 'manhattan']\n",
    "acc_score_result = {v: 0 for v in metrics}"
   ]
  },
  {
   "cell_type": "markdown",
   "metadata": {},
   "source": [
    "# 3\n",
    "\n",
    "Возьмите число соседей равным 5. Какого качества удается достичь на обучающей выборке?"
   ]
  },
  {
   "cell_type": "code",
   "execution_count": 8,
   "metadata": {},
   "outputs": [],
   "source": [
    "for metric in acc_score_result.keys():\n",
    "    knn_batch = BatchedKNNClassifier(n_neighbors=5, algorithm='my_own', metric=metric, W=False)\n",
    "    knn_batch.set_batch_size(10)\n",
    "    knn_batch.fit(X_train, y_train)\n",
    "    y_pred = knn_batch.predict(X_test)\n",
    "    acc_score_result[metric] = accuracy_score(y_pred, y_test)"
   ]
  },
  {
   "cell_type": "code",
   "execution_count": 9,
   "metadata": {},
   "outputs": [
    {
     "data": {
      "text/plain": [
       "{'euclidean': 0.88, 'cosine': 0.88, 'manhattan': 0.91}"
      ]
     },
     "execution_count": 9,
     "metadata": {},
     "output_type": "execute_result"
    }
   ],
   "source": [
    "acc_score_result"
   ]
  },
  {
   "cell_type": "markdown",
   "metadata": {},
   "source": [
    "**Ответ**: 0.91\n",
    "\n",
    "## 3.1 Кросс-валидация"
   ]
  },
  {
   "cell_type": "code",
   "execution_count": 10,
   "metadata": {},
   "outputs": [],
   "source": [
    "k_list = np.arange(1, 11)\n",
    "acc_score_cross_validation = {v: 0 for v in metrics}"
   ]
  },
  {
   "cell_type": "code",
   "execution_count": 11,
   "metadata": {},
   "outputs": [
    {
     "name": "stdout",
     "output_type": "stream",
     "text": [
      "Metric: euclidean\n",
      "Metric: cosine\n",
      "Metric: manhattan\n"
     ]
    }
   ],
   "source": [
    "for metric in acc_score_cross_validation.keys():\n",
    "    print(f'Metric: {metric}')\n",
    "    res = knn_cross_val_score(X, y, \n",
    "                              k_list=k_list,\n",
    "                              scoring='accuracy',\n",
    "                              cv=KFold(n_splits=10),\n",
    "                              batch_size=1,\n",
    "                              algorithm='my_own',\n",
    "                              metric=metric)\n",
    "    acc_score_cross_validation[metric] = res"
   ]
  },
  {
   "cell_type": "code",
   "execution_count": 12,
   "metadata": {},
   "outputs": [],
   "source": [
    "cross_validation_result_accuracy_mean = {k: {r: np.mean(f) for r, f in acc.items()} for k, acc in acc_score_cross_validation.items()}"
   ]
  },
  {
   "cell_type": "code",
   "execution_count": 13,
   "metadata": {},
   "outputs": [
    {
     "data": {
      "text/html": [
       "<div>\n",
       "<style scoped>\n",
       "    .dataframe tbody tr th:only-of-type {\n",
       "        vertical-align: middle;\n",
       "    }\n",
       "\n",
       "    .dataframe tbody tr th {\n",
       "        vertical-align: top;\n",
       "    }\n",
       "\n",
       "    .dataframe thead th {\n",
       "        text-align: right;\n",
       "    }\n",
       "</style>\n",
       "<table border=\"1\" class=\"dataframe\">\n",
       "  <thead>\n",
       "    <tr style=\"text-align: right;\">\n",
       "      <th></th>\n",
       "      <th>euclidean</th>\n",
       "      <th>cosine</th>\n",
       "      <th>manhattan</th>\n",
       "    </tr>\n",
       "  </thead>\n",
       "  <tbody>\n",
       "    <tr>\n",
       "      <th>1</th>\n",
       "      <td>0.842</td>\n",
       "      <td>0.846</td>\n",
       "      <td>0.868</td>\n",
       "    </tr>\n",
       "    <tr>\n",
       "      <th>2</th>\n",
       "      <td>0.800</td>\n",
       "      <td>0.834</td>\n",
       "      <td>0.840</td>\n",
       "    </tr>\n",
       "    <tr>\n",
       "      <th>3</th>\n",
       "      <td>0.870</td>\n",
       "      <td>0.868</td>\n",
       "      <td>0.898</td>\n",
       "    </tr>\n",
       "    <tr>\n",
       "      <th>4</th>\n",
       "      <td>0.866</td>\n",
       "      <td>0.866</td>\n",
       "      <td>0.888</td>\n",
       "    </tr>\n",
       "    <tr>\n",
       "      <th>5</th>\n",
       "      <td>0.866</td>\n",
       "      <td>0.876</td>\n",
       "      <td>0.898</td>\n",
       "    </tr>\n",
       "    <tr>\n",
       "      <th>6</th>\n",
       "      <td>0.858</td>\n",
       "      <td>0.882</td>\n",
       "      <td>0.894</td>\n",
       "    </tr>\n",
       "    <tr>\n",
       "      <th>7</th>\n",
       "      <td>0.886</td>\n",
       "      <td>0.892</td>\n",
       "      <td>0.914</td>\n",
       "    </tr>\n",
       "    <tr>\n",
       "      <th>8</th>\n",
       "      <td>0.870</td>\n",
       "      <td>0.880</td>\n",
       "      <td>0.906</td>\n",
       "    </tr>\n",
       "    <tr>\n",
       "      <th>9</th>\n",
       "      <td>0.892</td>\n",
       "      <td>0.888</td>\n",
       "      <td>0.916</td>\n",
       "    </tr>\n",
       "    <tr>\n",
       "      <th>10</th>\n",
       "      <td>0.878</td>\n",
       "      <td>0.888</td>\n",
       "      <td>0.906</td>\n",
       "    </tr>\n",
       "  </tbody>\n",
       "</table>\n",
       "</div>"
      ],
      "text/plain": [
       "    euclidean  cosine  manhattan\n",
       "1       0.842   0.846      0.868\n",
       "2       0.800   0.834      0.840\n",
       "3       0.870   0.868      0.898\n",
       "4       0.866   0.866      0.888\n",
       "5       0.866   0.876      0.898\n",
       "6       0.858   0.882      0.894\n",
       "7       0.886   0.892      0.914\n",
       "8       0.870   0.880      0.906\n",
       "9       0.892   0.888      0.916\n",
       "10      0.878   0.888      0.906"
      ]
     },
     "execution_count": 13,
     "metadata": {},
     "output_type": "execute_result"
    }
   ],
   "source": [
    "df_cross_validation_result_accuracy_mean = pd.DataFrame(cross_validation_result_accuracy_mean)\n",
    "df_cross_validation_result_accuracy_mean"
   ]
  },
  {
   "cell_type": "markdown",
   "metadata": {},
   "source": [
    "## 4. \n",
    "\n",
    "Метрические методы довольно чувствительны к шумовым признакам. Исходную метрику можно модифицировать таким образом, чтобы каждый из признаков имел свой вес $\\theta_j$:\n",
    "$$ \\rho(u,v)=\\sum_{j=1}^{m}\\theta_j|u_j-v_j|.$$\n",
    "\n",
    "Добавим `W = np.ndarray размерности D, где D - количество признаков`"
   ]
  },
  {
   "cell_type": "code",
   "execution_count": 14,
   "metadata": {},
   "outputs": [],
   "source": [
    "d = np.ones(15)\n",
    "assert d.shape[0] == X_train.shape[1]"
   ]
  },
  {
   "cell_type": "code",
   "execution_count": 15,
   "metadata": {},
   "outputs": [
    {
     "data": {
      "text/plain": [
       "0.91"
      ]
     },
     "execution_count": 15,
     "metadata": {},
     "output_type": "execute_result"
    }
   ],
   "source": [
    "d = np.array([100, 1, 1, 1, 1, 1, 1, 1, 1, 1, 1, 1, 1, 1, 1])\n",
    "d.shape\n",
    "knn_batch = BatchedKNNClassifier(n_neighbors=5, algorithm='my_own', metric='manhattan', W=d)\n",
    "knn_batch.set_batch_size(10)\n",
    "knn_batch.fit(X_train, y_train)\n",
    "y_pred = knn_batch.predict(X_test)\n",
    "accuracy_score(y_pred, y_test)"
   ]
  },
  {
   "cell_type": "markdown",
   "metadata": {},
   "source": [
    "# 5. \n",
    "\n",
    "Реализуйте функцию, которая принимает на вход обучающую выборку `X`, `y`, число соседей `k` и веса признаков `theta`, а возвращает долю неверно классифицированных объектов при заданных параметрах."
   ]
  },
  {
   "cell_type": "code",
   "execution_count": 16,
   "metadata": {},
   "outputs": [],
   "source": [
    "def get_test_error(w):\n",
    "    knn_batch = BatchedKNNClassifier(n_neighbors=5, algorithm='my_own', metric='manhattan', \n",
    "                                     W = w)\n",
    "    knn_batch.set_batch_size(10)\n",
    "    knn_batch.fit(X_train, y_train)\n",
    "    y_pred = knn_batch.predict(X_test)\n",
    "    return 1 - accuracy_score(y_pred, y_test)"
   ]
  },
  {
   "cell_type": "markdown",
   "metadata": {},
   "source": [
    "# 6\n",
    "\n",
    "С помощью функции `minimize` из пакета `scipy` найдите оптимальные значения параметров `theta`. Как изменилось качество классификации?"
   ]
  },
  {
   "cell_type": "code",
   "execution_count": 17,
   "metadata": {},
   "outputs": [
    {
     "data": {
      "text/plain": [
       "array([ 3.35948153e-05,  2.55960498e-05,  5.59913589e-06,  2.39962967e-06,\n",
       "        2.55960498e-05,  3.99938278e-06,  3.99938278e-06,  6.39901245e-06,\n",
       "        7.99876556e-07,  1.59975311e-06, -3.19950622e-06,  7.99876556e-07,\n",
       "        7.99876556e-06,  0.00000000e+00,  0.00000000e+00])"
      ]
     },
     "execution_count": 17,
     "metadata": {},
     "output_type": "execute_result"
    }
   ],
   "source": [
    "res = scipy.optimize.minimize(get_test_error, x0=np.zeros(X_train.shape[1]))\n",
    "res.x"
   ]
  },
  {
   "cell_type": "code",
   "execution_count": 18,
   "metadata": {},
   "outputs": [
    {
     "data": {
      "text/plain": [
       "0.07999999999999996"
      ]
     },
     "execution_count": 18,
     "metadata": {},
     "output_type": "execute_result"
    }
   ],
   "source": [
    "get_test_error(res.x)"
   ]
  },
  {
   "cell_type": "markdown",
   "metadata": {},
   "source": [
    "# Part II"
   ]
  },
  {
   "cell_type": "markdown",
   "metadata": {},
   "source": [
    "В качестве модельных данных возьмите точки их двух двумерных нормальных распределений с разными математическими ожиданиями.\n",
    "\n",
    "Сгенерируйте обучающую и тестовую выборку для каждого из случаев.\n",
    "\n",
    "Количество объектов в обучающей выборке первого класса - $n_1$, второго - $n_2$. Для тестирования возьмите ещё по 20 объектов каждого из классов."
   ]
  },
  {
   "attachments": {
    "image.png": {
     "image/png": "[encoded data removed]"
    }
   },
   "cell_type": "markdown",
   "metadata": {},
   "source": [
    "![image.png](attachment:image.png)"
   ]
  },
  {
   "cell_type": "markdown",
   "metadata": {},
   "source": [
    "## First"
   ]
  },
  {
   "cell_type": "code",
   "execution_count": 19,
   "metadata": {},
   "outputs": [],
   "source": [
    "seed = np.random.RandomState(2789)\n",
    "train_11 = seed.normal(0, np.sqrt(4), (60, 2))\n",
    "test_11 = seed.normal(0, np.sqrt(4), (20, 2))\n",
    "train_12 = seed.normal(20, np.sqrt(4), (50, 2))\n",
    "test_12 = seed.normal(20, np.sqrt(4), (20, 2))"
   ]
  },
  {
   "cell_type": "code",
   "execution_count": 20,
   "metadata": {},
   "outputs": [],
   "source": [
    "train_1 = np.concatenate((train_11, train_12), axis = 0)\n",
    "test_1 = np.concatenate((test_11, test_12), axis = 0)\n",
    "y_train = np.concatenate((np.full(60, 1), np.full(50, 0)))\n",
    "y_test = np.concatenate((np.full(20, 1), np.full(20, 0)))"
   ]
  },
  {
   "cell_type": "code",
   "execution_count": 21,
   "metadata": {},
   "outputs": [
    {
     "data": {
      "text/plain": [
       "((110, 2), (40, 2))"
      ]
     },
     "execution_count": 21,
     "metadata": {},
     "output_type": "execute_result"
    }
   ],
   "source": [
    "train_1.shape, test_1.shape"
   ]
  },
  {
   "cell_type": "code",
   "execution_count": 22,
   "metadata": {},
   "outputs": [
    {
     "data": {
      "image/png": "[encoded data removed]",
      "text/plain": [
       "<Figure size 1152x720 with 1 Axes>"
      ]
     },
     "metadata": {
      "needs_background": "light"
     },
     "output_type": "display_data"
    }
   ],
   "source": [
    "fig, ax = plt.subplots(1, 1, figsize=(16, 10))\n",
    "ax.scatter(train_1[:, 0], train_1[:, 1], color = 'red', label='Train')\n",
    "ax.scatter(test_1[:, 0], test_1[:, 1], color = 'blue', label='Test')\n",
    "ax.legend(fontsize=20)\n",
    "ax.grid()\n",
    "plt.show()"
   ]
  },
  {
   "cell_type": "markdown",
   "metadata": {},
   "source": [
    "## Second"
   ]
  },
  {
   "cell_type": "code",
   "execution_count": 23,
   "metadata": {},
   "outputs": [],
   "source": [
    "seed = np.random.RandomState(2789)\n",
    "train_21 = seed.normal(0, np.sqrt(4), (60, 2))\n",
    "test_21 = seed.normal(0, np.sqrt(4), (20, 2))\n",
    "train_22 = seed.normal(5, np.sqrt(4), (50, 2))\n",
    "test_22 = seed.normal(5, np.sqrt(4), (20, 2))"
   ]
  },
  {
   "cell_type": "code",
   "execution_count": 24,
   "metadata": {},
   "outputs": [],
   "source": [
    "train_2 = np.concatenate((train_21, train_22), axis = 0)\n",
    "test_2 = np.concatenate((test_21, test_22), axis = 0)"
   ]
  },
  {
   "cell_type": "code",
   "execution_count": 25,
   "metadata": {},
   "outputs": [
    {
     "data": {
      "image/png": "[encoded data removed]",
      "text/plain": [
       "<Figure size 1152x720 with 1 Axes>"
      ]
     },
     "metadata": {
      "needs_background": "light"
     },
     "output_type": "display_data"
    }
   ],
   "source": [
    "fig, ax = plt.subplots(1, 1, figsize=(16, 10))\n",
    "ax.scatter(train_2[:, 0], train_2[:, 1], color = 'red', label='Train')\n",
    "ax.scatter(test_2[:, 0], test_2[:, 1], color = 'blue', label='Test')\n",
    "ax.legend(fontsize=20)\n",
    "ax.grid()\n",
    "plt.show()"
   ]
  },
  {
   "cell_type": "markdown",
   "metadata": {},
   "source": [
    "## Third"
   ]
  },
  {
   "cell_type": "code",
   "execution_count": 26,
   "metadata": {},
   "outputs": [],
   "source": [
    "seed = np.random.RandomState(2789)\n",
    "train_31 = seed.normal(0, np.sqrt(4), (60, 2))\n",
    "test_31 = seed.normal(0, np.sqrt(4), (20, 2))\n",
    "train_32 = seed.normal(0, np.sqrt(12), (50, 2))\n",
    "test_32 = seed.normal(0, np.sqrt(12), (20, 2))"
   ]
  },
  {
   "cell_type": "code",
   "execution_count": 27,
   "metadata": {},
   "outputs": [],
   "source": [
    "train_3 = np.concatenate((train_31, train_32), axis = 0)\n",
    "test_3 = np.concatenate((test_31, test_32), axis = 0)"
   ]
  },
  {
   "cell_type": "code",
   "execution_count": 28,
   "metadata": {},
   "outputs": [
    {
     "data": {
      "image/png": "[encoded data removed]",
      "text/plain": [
       "<Figure size 1152x720 with 1 Axes>"
      ]
     },
     "metadata": {
      "needs_background": "light"
     },
     "output_type": "display_data"
    }
   ],
   "source": [
    "fig, ax = plt.subplots(1, 1, figsize=(16, 10))\n",
    "ax.scatter(train_3[:, 0], train_3[:, 1], color = 'red', label='Train')\n",
    "ax.scatter(test_3[:, 0], test_3[:, 1], color = 'blue', label='Test')\n",
    "ax.legend(fontsize=20)\n",
    "ax.grid()\n",
    "plt.show()"
   ]
  },
  {
   "cell_type": "markdown",
   "metadata": {},
   "source": [
    "## Выбор числа соседей"
   ]
  },
  {
   "cell_type": "code",
   "execution_count": 29,
   "metadata": {},
   "outputs": [
    {
     "data": {
      "text/plain": [
       "{1: {1: 0, 3: 0, 5: 0, 7: 0, 9: 0, 11: 0, 13: 0},\n",
       " 2: {1: 0, 3: 0, 5: 0, 7: 0, 9: 0, 11: 0, 13: 0},\n",
       " 3: {1: 0, 3: 0, 5: 0, 7: 0, 9: 0, 11: 0, 13: 0}}"
      ]
     },
     "execution_count": 29,
     "metadata": {},
     "output_type": "execute_result"
    }
   ],
   "source": [
    "d = {1: (train_1, test_1),\n",
    "     2: (train_2, test_3),\n",
    "     3: (train_3, test_3)\n",
    "    }\n",
    "k_neighbors = range(1, 15, 2)\n",
    "acc_score_result_k = {me : {k: 0 for k in k_neighbors} for me in d.keys()}\n",
    "acc_score_result_k"
   ]
  },
  {
   "cell_type": "code",
   "execution_count": 30,
   "metadata": {},
   "outputs": [],
   "source": [
    "for m in d.keys():\n",
    "    X_train, X_test = d[m]\n",
    "    for k in acc_score_result_k[m].keys():\n",
    "        knn_batch = BatchedKNNClassifier(n_neighbors=k, algorithm='my_own', metric='euclidean', W=False)\n",
    "        knn_batch.set_batch_size(1)\n",
    "        knn_batch.fit(X_train, y_train)\n",
    "        y_pred = knn_batch.predict(X_test)\n",
    "        acc_score_result_k[m][k] = accuracy_score(y_pred, y_test)"
   ]
  },
  {
   "cell_type": "code",
   "execution_count": 31,
   "metadata": {},
   "outputs": [
    {
     "data": {
      "text/plain": [
       "{1: {1: 1.0, 3: 1.0, 5: 1.0, 7: 1.0, 9: 1.0, 11: 1.0, 13: 1.0},\n",
       " 2: {1: 0.575, 3: 0.575, 5: 0.6, 7: 0.6, 9: 0.6, 11: 0.6, 13: 0.6},\n",
       " 3: {1: 0.8, 3: 0.75, 5: 0.725, 7: 0.65, 9: 0.675, 11: 0.675, 13: 0.725}}"
      ]
     },
     "execution_count": 31,
     "metadata": {},
     "output_type": "execute_result"
    }
   ],
   "source": [
    "acc_score_result_k"
   ]
  },
  {
   "cell_type": "code",
   "execution_count": 32,
   "metadata": {},
   "outputs": [
    {
     "data": {
      "text/html": [
       "<div>\n",
       "<style scoped>\n",
       "    .dataframe tbody tr th:only-of-type {\n",
       "        vertical-align: middle;\n",
       "    }\n",
       "\n",
       "    .dataframe tbody tr th {\n",
       "        vertical-align: top;\n",
       "    }\n",
       "\n",
       "    .dataframe thead th {\n",
       "        text-align: right;\n",
       "    }\n",
       "</style>\n",
       "<table border=\"1\" class=\"dataframe\">\n",
       "  <thead>\n",
       "    <tr style=\"text-align: right;\">\n",
       "      <th></th>\n",
       "      <th>1</th>\n",
       "      <th>2</th>\n",
       "      <th>3</th>\n",
       "    </tr>\n",
       "  </thead>\n",
       "  <tbody>\n",
       "    <tr>\n",
       "      <th>1</th>\n",
       "      <td>1.0</td>\n",
       "      <td>0.575</td>\n",
       "      <td>0.800</td>\n",
       "    </tr>\n",
       "    <tr>\n",
       "      <th>3</th>\n",
       "      <td>1.0</td>\n",
       "      <td>0.575</td>\n",
       "      <td>0.750</td>\n",
       "    </tr>\n",
       "    <tr>\n",
       "      <th>5</th>\n",
       "      <td>1.0</td>\n",
       "      <td>0.600</td>\n",
       "      <td>0.725</td>\n",
       "    </tr>\n",
       "    <tr>\n",
       "      <th>7</th>\n",
       "      <td>1.0</td>\n",
       "      <td>0.600</td>\n",
       "      <td>0.650</td>\n",
       "    </tr>\n",
       "    <tr>\n",
       "      <th>9</th>\n",
       "      <td>1.0</td>\n",
       "      <td>0.600</td>\n",
       "      <td>0.675</td>\n",
       "    </tr>\n",
       "    <tr>\n",
       "      <th>11</th>\n",
       "      <td>1.0</td>\n",
       "      <td>0.600</td>\n",
       "      <td>0.675</td>\n",
       "    </tr>\n",
       "    <tr>\n",
       "      <th>13</th>\n",
       "      <td>1.0</td>\n",
       "      <td>0.600</td>\n",
       "      <td>0.725</td>\n",
       "    </tr>\n",
       "  </tbody>\n",
       "</table>\n",
       "</div>"
      ],
      "text/plain": [
       "      1      2      3\n",
       "1   1.0  0.575  0.800\n",
       "3   1.0  0.575  0.750\n",
       "5   1.0  0.600  0.725\n",
       "7   1.0  0.600  0.650\n",
       "9   1.0  0.600  0.675\n",
       "11  1.0  0.600  0.675\n",
       "13  1.0  0.600  0.725"
      ]
     },
     "execution_count": 32,
     "metadata": {},
     "output_type": "execute_result"
    }
   ],
   "source": [
    "result = pd.DataFrame(acc_score_result_k)\n",
    "result"
   ]
  },
  {
   "cell_type": "markdown",
   "metadata": {},
   "source": [
    "**Вывод**: для первой выборки абсолютная точность - не удивительно, ведь кластеры расположены далеко друг от друга. Для второй выборки разделение происходит с точностью наивного алгоритма - точки смешаны и нет выделенных кластеров. В третьем случае `accuracy` лучше, когда мы предсказываем класс по классу ближайшего соседа."
   ]
  },
  {
   "cell_type": "markdown",
   "metadata": {},
   "source": [
    "## Метод Парзеновского окна"
   ]
  },
  {
   "attachments": {
    "image.png": {
     "image/png": "[encoded data removed]"
    }
   },
   "cell_type": "markdown",
   "metadata": {},
   "source": [
    "Рассмотрим различные функции ядра $K(z)$.\n",
    "\n",
    "Решение методом Парзеновского окна ищется в виде:\n",
    "\n",
    "$$a(x) = \\underset{y \\in Y}{\\operatorname{argmax}}\\sum\\limits_{i=1}^l [y_u = y]K\\left(\\frac{\\rho(x, x_i)}{h}\\right)$$\n",
    "\n",
    "При следующих [ядрах](https://en.wikipedia.org/wiki/Kernel_(statistics)):\n",
    "\n",
    "![image.png](attachment:image.png)\n",
    "\n",
    "где $K(z)$ - функция ядра, $\\rho(x, x_i)$ - расстояние между классифицируемым объектом и объектом выборки, а $h$ - ширина окна."
   ]
  },
  {
   "cell_type": "code",
   "execution_count": 33,
   "metadata": {},
   "outputs": [],
   "source": [
    "kernels = ['epanechnikov', 'quartic', 'triangular', 'gaussian', 'uniform']\n",
    "methods = [epanechnikov_kernel, quartic_kernel, triangular_kernel, gaussian_kernel, uniform_kernel]"
   ]
  },
  {
   "cell_type": "code",
   "execution_count": 34,
   "metadata": {},
   "outputs": [],
   "source": [
    "arr = np.linspace(-3, 3, 1000)"
   ]
  },
  {
   "cell_type": "code",
   "execution_count": 35,
   "metadata": {},
   "outputs": [],
   "source": [
    "ker = dict(zip(kernels, methods))"
   ]
  },
  {
   "cell_type": "code",
   "execution_count": 36,
   "metadata": {},
   "outputs": [
    {
     "data": {
      "image/png": "[encoded data removed]",
      "text/plain": [
       "<Figure size 1152x720 with 1 Axes>"
      ]
     },
     "metadata": {
      "needs_background": "light"
     },
     "output_type": "display_data"
    }
   ],
   "source": [
    "fig, ax = plt.subplots(1, 1, figsize=(16, 10))\n",
    "for kernel, function in ker.items():\n",
    "    values = function(arr)\n",
    "    ax.plot(arr, values, label=f'Kernel {kernel}')\n",
    "\n",
    "ax.legend(fontsize=20)\n",
    "plt.show()"
   ]
  },
  {
   "cell_type": "markdown",
   "metadata": {},
   "source": [
    "## 4\n",
    "\n",
    "По исходным данным выберите ширину окна. Постройте классификаторы со всеми перечисленными функциями ядра.  Проведите эксперименты для каждого из случаев и укажите среднее качество. Сделайте выводы."
   ]
  },
  {
   "cell_type": "markdown",
   "metadata": {},
   "source": [
    "## Fixed k"
   ]
  },
  {
   "cell_type": "code",
   "execution_count": 37,
   "metadata": {},
   "outputs": [
    {
     "data": {
      "text/plain": [
       "{0.5: {'epanechnikov': 0,\n",
       "  'quartic': 0,\n",
       "  'triangular': 0,\n",
       "  'gaussian': 0,\n",
       "  'uniform': 0},\n",
       " 1.0: {'epanechnikov': 0,\n",
       "  'quartic': 0,\n",
       "  'triangular': 0,\n",
       "  'gaussian': 0,\n",
       "  'uniform': 0},\n",
       " 1.5: {'epanechnikov': 0,\n",
       "  'quartic': 0,\n",
       "  'triangular': 0,\n",
       "  'gaussian': 0,\n",
       "  'uniform': 0},\n",
       " 2.0: {'epanechnikov': 0,\n",
       "  'quartic': 0,\n",
       "  'triangular': 0,\n",
       "  'gaussian': 0,\n",
       "  'uniform': 0},\n",
       " 2.5: {'epanechnikov': 0,\n",
       "  'quartic': 0,\n",
       "  'triangular': 0,\n",
       "  'gaussian': 0,\n",
       "  'uniform': 0},\n",
       " 3.0: {'epanechnikov': 0,\n",
       "  'quartic': 0,\n",
       "  'triangular': 0,\n",
       "  'gaussian': 0,\n",
       "  'uniform': 0},\n",
       " 3.5: {'epanechnikov': 0,\n",
       "  'quartic': 0,\n",
       "  'triangular': 0,\n",
       "  'gaussian': 0,\n",
       "  'uniform': 0},\n",
       " 4.0: {'epanechnikov': 0,\n",
       "  'quartic': 0,\n",
       "  'triangular': 0,\n",
       "  'gaussian': 0,\n",
       "  'uniform': 0},\n",
       " 4.5: {'epanechnikov': 0,\n",
       "  'quartic': 0,\n",
       "  'triangular': 0,\n",
       "  'gaussian': 0,\n",
       "  'uniform': 0},\n",
       " 5.0: {'epanechnikov': 0,\n",
       "  'quartic': 0,\n",
       "  'triangular': 0,\n",
       "  'gaussian': 0,\n",
       "  'uniform': 0}}"
      ]
     },
     "execution_count": 37,
     "metadata": {},
     "output_type": "execute_result"
    }
   ],
   "source": [
    "d = {1: (train_1, test_1),\n",
    "     2: (train_2, test_3),\n",
    "     3: (train_3, test_3)\n",
    "    }\n",
    "h_neighbors = np.linspace(0.5, 5, 10)\n",
    "acc_score_result_k = {me : {k: {kernel: 0 for kernel in kernels} for k in h_neighbors} for me in d.keys()}\n",
    "acc_score_result_k[1]"
   ]
  },
  {
   "cell_type": "code",
   "execution_count": 38,
   "metadata": {},
   "outputs": [],
   "source": [
    "for m in d.keys():\n",
    "    X_train, X_test = d[m]\n",
    "    for h in acc_score_result_k[m].keys():\n",
    "        for kernel in acc_score_result_k[m][h].keys():\n",
    "            knn_batch = BatchedKNNClassifier(n_neighbors=5, \n",
    "                                             algorithm='my_own',\n",
    "                                             weights ='kernel',\n",
    "                                             metric='euclidean',\n",
    "                                             W=False, \n",
    "                                             h=h, \n",
    "                                             kernel=kernel)\n",
    "            knn_batch.set_batch_size(1)\n",
    "            knn_batch.fit(X_train, y_train)\n",
    "            y_pred = knn_batch.predict(X_test)\n",
    "            acc_score_result_k[m][h][kernel] = accuracy_score(y_pred, y_test)"
   ]
  },
  {
   "cell_type": "code",
   "execution_count": 39,
   "metadata": {},
   "outputs": [
    {
     "data": {
      "text/html": [
       "<div>\n",
       "<style scoped>\n",
       "    .dataframe tbody tr th:only-of-type {\n",
       "        vertical-align: middle;\n",
       "    }\n",
       "\n",
       "    .dataframe tbody tr th {\n",
       "        vertical-align: top;\n",
       "    }\n",
       "\n",
       "    .dataframe thead th {\n",
       "        text-align: right;\n",
       "    }\n",
       "</style>\n",
       "<table border=\"1\" class=\"dataframe\">\n",
       "  <thead>\n",
       "    <tr style=\"text-align: right;\">\n",
       "      <th></th>\n",
       "      <th>0.5</th>\n",
       "      <th>1.0</th>\n",
       "      <th>1.5</th>\n",
       "      <th>2.0</th>\n",
       "      <th>2.5</th>\n",
       "      <th>3.0</th>\n",
       "      <th>3.5</th>\n",
       "      <th>4.0</th>\n",
       "      <th>4.5</th>\n",
       "      <th>5.0</th>\n",
       "    </tr>\n",
       "  </thead>\n",
       "  <tbody>\n",
       "    <tr>\n",
       "      <th>epanechnikov</th>\n",
       "      <td>0.75</td>\n",
       "      <td>0.95</td>\n",
       "      <td>0.975</td>\n",
       "      <td>1.0</td>\n",
       "      <td>1.0</td>\n",
       "      <td>1.0</td>\n",
       "      <td>1.0</td>\n",
       "      <td>1.0</td>\n",
       "      <td>1.0</td>\n",
       "      <td>1.0</td>\n",
       "    </tr>\n",
       "    <tr>\n",
       "      <th>quartic</th>\n",
       "      <td>0.75</td>\n",
       "      <td>0.95</td>\n",
       "      <td>0.975</td>\n",
       "      <td>1.0</td>\n",
       "      <td>1.0</td>\n",
       "      <td>1.0</td>\n",
       "      <td>1.0</td>\n",
       "      <td>1.0</td>\n",
       "      <td>1.0</td>\n",
       "      <td>1.0</td>\n",
       "    </tr>\n",
       "    <tr>\n",
       "      <th>triangular</th>\n",
       "      <td>0.75</td>\n",
       "      <td>0.95</td>\n",
       "      <td>0.975</td>\n",
       "      <td>1.0</td>\n",
       "      <td>1.0</td>\n",
       "      <td>1.0</td>\n",
       "      <td>1.0</td>\n",
       "      <td>1.0</td>\n",
       "      <td>1.0</td>\n",
       "      <td>1.0</td>\n",
       "    </tr>\n",
       "    <tr>\n",
       "      <th>gaussian</th>\n",
       "      <td>1.00</td>\n",
       "      <td>1.00</td>\n",
       "      <td>1.000</td>\n",
       "      <td>1.0</td>\n",
       "      <td>1.0</td>\n",
       "      <td>1.0</td>\n",
       "      <td>1.0</td>\n",
       "      <td>1.0</td>\n",
       "      <td>1.0</td>\n",
       "      <td>1.0</td>\n",
       "    </tr>\n",
       "    <tr>\n",
       "      <th>uniform</th>\n",
       "      <td>0.75</td>\n",
       "      <td>0.95</td>\n",
       "      <td>0.975</td>\n",
       "      <td>1.0</td>\n",
       "      <td>1.0</td>\n",
       "      <td>1.0</td>\n",
       "      <td>1.0</td>\n",
       "      <td>1.0</td>\n",
       "      <td>1.0</td>\n",
       "      <td>1.0</td>\n",
       "    </tr>\n",
       "  </tbody>\n",
       "</table>\n",
       "</div>"
      ],
      "text/plain": [
       "               0.5   1.0    1.5  2.0  2.5  3.0  3.5  4.0  4.5  5.0\n",
       "epanechnikov  0.75  0.95  0.975  1.0  1.0  1.0  1.0  1.0  1.0  1.0\n",
       "quartic       0.75  0.95  0.975  1.0  1.0  1.0  1.0  1.0  1.0  1.0\n",
       "triangular    0.75  0.95  0.975  1.0  1.0  1.0  1.0  1.0  1.0  1.0\n",
       "gaussian      1.00  1.00  1.000  1.0  1.0  1.0  1.0  1.0  1.0  1.0\n",
       "uniform       0.75  0.95  0.975  1.0  1.0  1.0  1.0  1.0  1.0  1.0"
      ]
     },
     "execution_count": 39,
     "metadata": {},
     "output_type": "execute_result"
    }
   ],
   "source": [
    "result_kernels_1 = pd.DataFrame(acc_score_result_k[1])\n",
    "result_kernels_1"
   ]
  },
  {
   "cell_type": "code",
   "execution_count": 40,
   "metadata": {},
   "outputs": [
    {
     "data": {
      "text/html": [
       "<div>\n",
       "<style scoped>\n",
       "    .dataframe tbody tr th:only-of-type {\n",
       "        vertical-align: middle;\n",
       "    }\n",
       "\n",
       "    .dataframe tbody tr th {\n",
       "        vertical-align: top;\n",
       "    }\n",
       "\n",
       "    .dataframe thead th {\n",
       "        text-align: right;\n",
       "    }\n",
       "</style>\n",
       "<table border=\"1\" class=\"dataframe\">\n",
       "  <thead>\n",
       "    <tr style=\"text-align: right;\">\n",
       "      <th></th>\n",
       "      <th>0.5</th>\n",
       "      <th>1.0</th>\n",
       "      <th>1.5</th>\n",
       "      <th>2.0</th>\n",
       "      <th>2.5</th>\n",
       "      <th>3.0</th>\n",
       "      <th>3.5</th>\n",
       "      <th>4.0</th>\n",
       "      <th>4.5</th>\n",
       "      <th>5.0</th>\n",
       "    </tr>\n",
       "  </thead>\n",
       "  <tbody>\n",
       "    <tr>\n",
       "      <th>epanechnikov</th>\n",
       "      <td>0.675</td>\n",
       "      <td>0.8</td>\n",
       "      <td>0.675</td>\n",
       "      <td>0.700</td>\n",
       "      <td>0.675</td>\n",
       "      <td>0.675</td>\n",
       "      <td>0.65</td>\n",
       "      <td>0.65</td>\n",
       "      <td>0.65</td>\n",
       "      <td>0.65</td>\n",
       "    </tr>\n",
       "    <tr>\n",
       "      <th>quartic</th>\n",
       "      <td>0.675</td>\n",
       "      <td>0.8</td>\n",
       "      <td>0.675</td>\n",
       "      <td>0.675</td>\n",
       "      <td>0.675</td>\n",
       "      <td>0.675</td>\n",
       "      <td>0.65</td>\n",
       "      <td>0.65</td>\n",
       "      <td>0.65</td>\n",
       "      <td>0.65</td>\n",
       "    </tr>\n",
       "    <tr>\n",
       "      <th>triangular</th>\n",
       "      <td>0.675</td>\n",
       "      <td>0.8</td>\n",
       "      <td>0.675</td>\n",
       "      <td>0.675</td>\n",
       "      <td>0.675</td>\n",
       "      <td>0.675</td>\n",
       "      <td>0.65</td>\n",
       "      <td>0.65</td>\n",
       "      <td>0.65</td>\n",
       "      <td>0.65</td>\n",
       "    </tr>\n",
       "    <tr>\n",
       "      <th>gaussian</th>\n",
       "      <td>0.575</td>\n",
       "      <td>0.6</td>\n",
       "      <td>0.600</td>\n",
       "      <td>0.600</td>\n",
       "      <td>0.600</td>\n",
       "      <td>0.600</td>\n",
       "      <td>0.60</td>\n",
       "      <td>0.60</td>\n",
       "      <td>0.60</td>\n",
       "      <td>0.60</td>\n",
       "    </tr>\n",
       "    <tr>\n",
       "      <th>uniform</th>\n",
       "      <td>0.700</td>\n",
       "      <td>0.8</td>\n",
       "      <td>0.675</td>\n",
       "      <td>0.700</td>\n",
       "      <td>0.675</td>\n",
       "      <td>0.675</td>\n",
       "      <td>0.65</td>\n",
       "      <td>0.65</td>\n",
       "      <td>0.65</td>\n",
       "      <td>0.65</td>\n",
       "    </tr>\n",
       "  </tbody>\n",
       "</table>\n",
       "</div>"
      ],
      "text/plain": [
       "                0.5  1.0    1.5    2.0    2.5    3.0   3.5   4.0   4.5   5.0\n",
       "epanechnikov  0.675  0.8  0.675  0.700  0.675  0.675  0.65  0.65  0.65  0.65\n",
       "quartic       0.675  0.8  0.675  0.675  0.675  0.675  0.65  0.65  0.65  0.65\n",
       "triangular    0.675  0.8  0.675  0.675  0.675  0.675  0.65  0.65  0.65  0.65\n",
       "gaussian      0.575  0.6  0.600  0.600  0.600  0.600  0.60  0.60  0.60  0.60\n",
       "uniform       0.700  0.8  0.675  0.700  0.675  0.675  0.65  0.65  0.65  0.65"
      ]
     },
     "execution_count": 40,
     "metadata": {},
     "output_type": "execute_result"
    }
   ],
   "source": [
    "result_kernels_2 = pd.DataFrame(acc_score_result_k[2])\n",
    "result_kernels_2"
   ]
  },
  {
   "cell_type": "code",
   "execution_count": 41,
   "metadata": {},
   "outputs": [
    {
     "data": {
      "text/html": [
       "<div>\n",
       "<style scoped>\n",
       "    .dataframe tbody tr th:only-of-type {\n",
       "        vertical-align: middle;\n",
       "    }\n",
       "\n",
       "    .dataframe tbody tr th {\n",
       "        vertical-align: top;\n",
       "    }\n",
       "\n",
       "    .dataframe thead th {\n",
       "        text-align: right;\n",
       "    }\n",
       "</style>\n",
       "<table border=\"1\" class=\"dataframe\">\n",
       "  <thead>\n",
       "    <tr style=\"text-align: right;\">\n",
       "      <th></th>\n",
       "      <th>0.5</th>\n",
       "      <th>1.0</th>\n",
       "      <th>1.5</th>\n",
       "      <th>2.0</th>\n",
       "      <th>2.5</th>\n",
       "      <th>3.0</th>\n",
       "      <th>3.5</th>\n",
       "      <th>4.0</th>\n",
       "      <th>4.5</th>\n",
       "      <th>5.0</th>\n",
       "    </tr>\n",
       "  </thead>\n",
       "  <tbody>\n",
       "    <tr>\n",
       "      <th>epanechnikov</th>\n",
       "      <td>0.675</td>\n",
       "      <td>0.85</td>\n",
       "      <td>0.775</td>\n",
       "      <td>0.750</td>\n",
       "      <td>0.750</td>\n",
       "      <td>0.750</td>\n",
       "      <td>0.750</td>\n",
       "      <td>0.725</td>\n",
       "      <td>0.725</td>\n",
       "      <td>0.725</td>\n",
       "    </tr>\n",
       "    <tr>\n",
       "      <th>quartic</th>\n",
       "      <td>0.675</td>\n",
       "      <td>0.85</td>\n",
       "      <td>0.825</td>\n",
       "      <td>0.775</td>\n",
       "      <td>0.750</td>\n",
       "      <td>0.750</td>\n",
       "      <td>0.750</td>\n",
       "      <td>0.750</td>\n",
       "      <td>0.750</td>\n",
       "      <td>0.725</td>\n",
       "    </tr>\n",
       "    <tr>\n",
       "      <th>triangular</th>\n",
       "      <td>0.675</td>\n",
       "      <td>0.85</td>\n",
       "      <td>0.775</td>\n",
       "      <td>0.775</td>\n",
       "      <td>0.750</td>\n",
       "      <td>0.750</td>\n",
       "      <td>0.750</td>\n",
       "      <td>0.750</td>\n",
       "      <td>0.725</td>\n",
       "      <td>0.725</td>\n",
       "    </tr>\n",
       "    <tr>\n",
       "      <th>gaussian</th>\n",
       "      <td>0.825</td>\n",
       "      <td>0.75</td>\n",
       "      <td>0.750</td>\n",
       "      <td>0.750</td>\n",
       "      <td>0.725</td>\n",
       "      <td>0.725</td>\n",
       "      <td>0.725</td>\n",
       "      <td>0.725</td>\n",
       "      <td>0.725</td>\n",
       "      <td>0.725</td>\n",
       "    </tr>\n",
       "    <tr>\n",
       "      <th>uniform</th>\n",
       "      <td>0.675</td>\n",
       "      <td>0.80</td>\n",
       "      <td>0.800</td>\n",
       "      <td>0.750</td>\n",
       "      <td>0.750</td>\n",
       "      <td>0.750</td>\n",
       "      <td>0.725</td>\n",
       "      <td>0.725</td>\n",
       "      <td>0.725</td>\n",
       "      <td>0.725</td>\n",
       "    </tr>\n",
       "  </tbody>\n",
       "</table>\n",
       "</div>"
      ],
      "text/plain": [
       "                0.5   1.0    1.5    2.0    2.5    3.0    3.5    4.0    4.5  \\\n",
       "epanechnikov  0.675  0.85  0.775  0.750  0.750  0.750  0.750  0.725  0.725   \n",
       "quartic       0.675  0.85  0.825  0.775  0.750  0.750  0.750  0.750  0.750   \n",
       "triangular    0.675  0.85  0.775  0.775  0.750  0.750  0.750  0.750  0.725   \n",
       "gaussian      0.825  0.75  0.750  0.750  0.725  0.725  0.725  0.725  0.725   \n",
       "uniform       0.675  0.80  0.800  0.750  0.750  0.750  0.725  0.725  0.725   \n",
       "\n",
       "                5.0  \n",
       "epanechnikov  0.725  \n",
       "quartic       0.725  \n",
       "triangular    0.725  \n",
       "gaussian      0.725  \n",
       "uniform       0.725  "
      ]
     },
     "execution_count": 41,
     "metadata": {},
     "output_type": "execute_result"
    }
   ],
   "source": [
    "result_kernels_3 = pd.DataFrame(acc_score_result_k[3])\n",
    "result_kernels_3"
   ]
  },
  {
   "cell_type": "markdown",
   "metadata": {},
   "source": [
    "## Fixed k"
   ]
  },
  {
   "cell_type": "code",
   "execution_count": 42,
   "metadata": {},
   "outputs": [],
   "source": [
    "d = {1: (train_1, test_1),\n",
    "     2: (train_2, test_3),\n",
    "     3: (train_3, test_3)\n",
    "    }\n",
    "k_neighbors = range(1, 15, 2)\n",
    "acc_score_result_k = {me : {k: {kernel: 0 for kernel in kernels} for k in k_neighbors} for me in d.keys()}"
   ]
  },
  {
   "cell_type": "code",
   "execution_count": 43,
   "metadata": {},
   "outputs": [],
   "source": [
    "for m in d.keys():\n",
    "    X_train, X_test = d[m]\n",
    "    for k in acc_score_result_k[m].keys():\n",
    "        for kernel in acc_score_result_k[m][k].keys():\n",
    "            knn_batch = BatchedKNNClassifier(n_neighbors=k, \n",
    "                                             algorithm='my_own',\n",
    "                                             weights ='kernel',\n",
    "                                             metric='euclidean',\n",
    "                                             W=False, \n",
    "                                             h=1, \n",
    "                                             kernel=kernel)\n",
    "            knn_batch.set_batch_size(1)\n",
    "            knn_batch.fit(X_train, y_train)\n",
    "            y_pred = knn_batch.predict(X_test)\n",
    "            acc_score_result_k[m][k][kernel] = accuracy_score(y_pred, y_test)"
   ]
  },
  {
   "cell_type": "code",
   "execution_count": 44,
   "metadata": {},
   "outputs": [
    {
     "data": {
      "text/html": [
       "<div>\n",
       "<style scoped>\n",
       "    .dataframe tbody tr th:only-of-type {\n",
       "        vertical-align: middle;\n",
       "    }\n",
       "\n",
       "    .dataframe tbody tr th {\n",
       "        vertical-align: top;\n",
       "    }\n",
       "\n",
       "    .dataframe thead th {\n",
       "        text-align: right;\n",
       "    }\n",
       "</style>\n",
       "<table border=\"1\" class=\"dataframe\">\n",
       "  <thead>\n",
       "    <tr style=\"text-align: right;\">\n",
       "      <th></th>\n",
       "      <th>1</th>\n",
       "      <th>3</th>\n",
       "      <th>5</th>\n",
       "      <th>7</th>\n",
       "      <th>9</th>\n",
       "      <th>11</th>\n",
       "      <th>13</th>\n",
       "    </tr>\n",
       "  </thead>\n",
       "  <tbody>\n",
       "    <tr>\n",
       "      <th>epanechnikov</th>\n",
       "      <td>0.95</td>\n",
       "      <td>0.95</td>\n",
       "      <td>0.95</td>\n",
       "      <td>0.95</td>\n",
       "      <td>0.95</td>\n",
       "      <td>0.95</td>\n",
       "      <td>0.95</td>\n",
       "    </tr>\n",
       "    <tr>\n",
       "      <th>quartic</th>\n",
       "      <td>0.95</td>\n",
       "      <td>0.95</td>\n",
       "      <td>0.95</td>\n",
       "      <td>0.95</td>\n",
       "      <td>0.95</td>\n",
       "      <td>0.95</td>\n",
       "      <td>0.95</td>\n",
       "    </tr>\n",
       "    <tr>\n",
       "      <th>triangular</th>\n",
       "      <td>0.95</td>\n",
       "      <td>0.95</td>\n",
       "      <td>0.95</td>\n",
       "      <td>0.95</td>\n",
       "      <td>0.95</td>\n",
       "      <td>0.95</td>\n",
       "      <td>0.95</td>\n",
       "    </tr>\n",
       "    <tr>\n",
       "      <th>gaussian</th>\n",
       "      <td>1.00</td>\n",
       "      <td>1.00</td>\n",
       "      <td>1.00</td>\n",
       "      <td>1.00</td>\n",
       "      <td>1.00</td>\n",
       "      <td>1.00</td>\n",
       "      <td>1.00</td>\n",
       "    </tr>\n",
       "    <tr>\n",
       "      <th>uniform</th>\n",
       "      <td>0.95</td>\n",
       "      <td>0.95</td>\n",
       "      <td>0.95</td>\n",
       "      <td>0.95</td>\n",
       "      <td>0.95</td>\n",
       "      <td>0.95</td>\n",
       "      <td>0.95</td>\n",
       "    </tr>\n",
       "  </tbody>\n",
       "</table>\n",
       "</div>"
      ],
      "text/plain": [
       "                1     3     5     7     9     11    13\n",
       "epanechnikov  0.95  0.95  0.95  0.95  0.95  0.95  0.95\n",
       "quartic       0.95  0.95  0.95  0.95  0.95  0.95  0.95\n",
       "triangular    0.95  0.95  0.95  0.95  0.95  0.95  0.95\n",
       "gaussian      1.00  1.00  1.00  1.00  1.00  1.00  1.00\n",
       "uniform       0.95  0.95  0.95  0.95  0.95  0.95  0.95"
      ]
     },
     "execution_count": 44,
     "metadata": {},
     "output_type": "execute_result"
    }
   ],
   "source": [
    "result_kernels_1 = pd.DataFrame(acc_score_result_k[1])\n",
    "result_kernels_1"
   ]
  },
  {
   "cell_type": "code",
   "execution_count": 45,
   "metadata": {},
   "outputs": [
    {
     "data": {
      "text/html": [
       "<div>\n",
       "<style scoped>\n",
       "    .dataframe tbody tr th:only-of-type {\n",
       "        vertical-align: middle;\n",
       "    }\n",
       "\n",
       "    .dataframe tbody tr th {\n",
       "        vertical-align: top;\n",
       "    }\n",
       "\n",
       "    .dataframe thead th {\n",
       "        text-align: right;\n",
       "    }\n",
       "</style>\n",
       "<table border=\"1\" class=\"dataframe\">\n",
       "  <thead>\n",
       "    <tr style=\"text-align: right;\">\n",
       "      <th></th>\n",
       "      <th>1</th>\n",
       "      <th>3</th>\n",
       "      <th>5</th>\n",
       "      <th>7</th>\n",
       "      <th>9</th>\n",
       "      <th>11</th>\n",
       "      <th>13</th>\n",
       "    </tr>\n",
       "  </thead>\n",
       "  <tbody>\n",
       "    <tr>\n",
       "      <th>epanechnikov</th>\n",
       "      <td>0.800</td>\n",
       "      <td>0.800</td>\n",
       "      <td>0.8</td>\n",
       "      <td>0.8</td>\n",
       "      <td>0.8</td>\n",
       "      <td>0.8</td>\n",
       "      <td>0.8</td>\n",
       "    </tr>\n",
       "    <tr>\n",
       "      <th>quartic</th>\n",
       "      <td>0.800</td>\n",
       "      <td>0.800</td>\n",
       "      <td>0.8</td>\n",
       "      <td>0.8</td>\n",
       "      <td>0.8</td>\n",
       "      <td>0.8</td>\n",
       "      <td>0.8</td>\n",
       "    </tr>\n",
       "    <tr>\n",
       "      <th>triangular</th>\n",
       "      <td>0.800</td>\n",
       "      <td>0.800</td>\n",
       "      <td>0.8</td>\n",
       "      <td>0.8</td>\n",
       "      <td>0.8</td>\n",
       "      <td>0.8</td>\n",
       "      <td>0.8</td>\n",
       "    </tr>\n",
       "    <tr>\n",
       "      <th>gaussian</th>\n",
       "      <td>0.575</td>\n",
       "      <td>0.575</td>\n",
       "      <td>0.6</td>\n",
       "      <td>0.6</td>\n",
       "      <td>0.6</td>\n",
       "      <td>0.6</td>\n",
       "      <td>0.6</td>\n",
       "    </tr>\n",
       "    <tr>\n",
       "      <th>uniform</th>\n",
       "      <td>0.800</td>\n",
       "      <td>0.800</td>\n",
       "      <td>0.8</td>\n",
       "      <td>0.8</td>\n",
       "      <td>0.8</td>\n",
       "      <td>0.8</td>\n",
       "      <td>0.8</td>\n",
       "    </tr>\n",
       "  </tbody>\n",
       "</table>\n",
       "</div>"
      ],
      "text/plain": [
       "                 1      3    5    7    9    11   13\n",
       "epanechnikov  0.800  0.800  0.8  0.8  0.8  0.8  0.8\n",
       "quartic       0.800  0.800  0.8  0.8  0.8  0.8  0.8\n",
       "triangular    0.800  0.800  0.8  0.8  0.8  0.8  0.8\n",
       "gaussian      0.575  0.575  0.6  0.6  0.6  0.6  0.6\n",
       "uniform       0.800  0.800  0.8  0.8  0.8  0.8  0.8"
      ]
     },
     "execution_count": 45,
     "metadata": {},
     "output_type": "execute_result"
    }
   ],
   "source": [
    "result_kernels_2 = pd.DataFrame(acc_score_result_k[2])\n",
    "result_kernels_2"
   ]
  },
  {
   "cell_type": "code",
   "execution_count": 46,
   "metadata": {},
   "outputs": [
    {
     "data": {
      "text/html": [
       "<div>\n",
       "<style scoped>\n",
       "    .dataframe tbody tr th:only-of-type {\n",
       "        vertical-align: middle;\n",
       "    }\n",
       "\n",
       "    .dataframe tbody tr th {\n",
       "        vertical-align: top;\n",
       "    }\n",
       "\n",
       "    .dataframe thead th {\n",
       "        text-align: right;\n",
       "    }\n",
       "</style>\n",
       "<table border=\"1\" class=\"dataframe\">\n",
       "  <thead>\n",
       "    <tr style=\"text-align: right;\">\n",
       "      <th></th>\n",
       "      <th>1</th>\n",
       "      <th>3</th>\n",
       "      <th>5</th>\n",
       "      <th>7</th>\n",
       "      <th>9</th>\n",
       "      <th>11</th>\n",
       "      <th>13</th>\n",
       "    </tr>\n",
       "  </thead>\n",
       "  <tbody>\n",
       "    <tr>\n",
       "      <th>epanechnikov</th>\n",
       "      <td>0.8</td>\n",
       "      <td>0.825</td>\n",
       "      <td>0.85</td>\n",
       "      <td>0.825</td>\n",
       "      <td>0.825</td>\n",
       "      <td>0.825</td>\n",
       "      <td>0.825</td>\n",
       "    </tr>\n",
       "    <tr>\n",
       "      <th>quartic</th>\n",
       "      <td>0.8</td>\n",
       "      <td>0.825</td>\n",
       "      <td>0.85</td>\n",
       "      <td>0.825</td>\n",
       "      <td>0.825</td>\n",
       "      <td>0.825</td>\n",
       "      <td>0.825</td>\n",
       "    </tr>\n",
       "    <tr>\n",
       "      <th>triangular</th>\n",
       "      <td>0.8</td>\n",
       "      <td>0.825</td>\n",
       "      <td>0.85</td>\n",
       "      <td>0.825</td>\n",
       "      <td>0.825</td>\n",
       "      <td>0.825</td>\n",
       "      <td>0.825</td>\n",
       "    </tr>\n",
       "    <tr>\n",
       "      <th>gaussian</th>\n",
       "      <td>0.8</td>\n",
       "      <td>0.775</td>\n",
       "      <td>0.75</td>\n",
       "      <td>0.725</td>\n",
       "      <td>0.750</td>\n",
       "      <td>0.750</td>\n",
       "      <td>0.725</td>\n",
       "    </tr>\n",
       "    <tr>\n",
       "      <th>uniform</th>\n",
       "      <td>0.8</td>\n",
       "      <td>0.825</td>\n",
       "      <td>0.80</td>\n",
       "      <td>0.775</td>\n",
       "      <td>0.800</td>\n",
       "      <td>0.800</td>\n",
       "      <td>0.775</td>\n",
       "    </tr>\n",
       "  </tbody>\n",
       "</table>\n",
       "</div>"
      ],
      "text/plain": [
       "               1      3     5      7      9      11     13\n",
       "epanechnikov  0.8  0.825  0.85  0.825  0.825  0.825  0.825\n",
       "quartic       0.8  0.825  0.85  0.825  0.825  0.825  0.825\n",
       "triangular    0.8  0.825  0.85  0.825  0.825  0.825  0.825\n",
       "gaussian      0.8  0.775  0.75  0.725  0.750  0.750  0.725\n",
       "uniform       0.8  0.825  0.80  0.775  0.800  0.800  0.775"
      ]
     },
     "execution_count": 46,
     "metadata": {},
     "output_type": "execute_result"
    }
   ],
   "source": [
    "result_kernels_3 = pd.DataFrame(acc_score_result_k[3])\n",
    "result_kernels_3"
   ]
  },
  {
   "cell_type": "markdown",
   "metadata": {},
   "source": [
    "**Выводы**: можно сделать вывод, что с помощью различных ядер для различных задач можно подобрать параметры, при котороых качество классификации будет увеличиваться. Так в третьей выборке мы смогли подобрать такое ядро (`epanechnikov`), такое количество ближайших соседей `k=5` и ширину окна `h=1`, чтобы при данных параметрах классификация улучшилась до `0.85`, а во втором случае - до `0.8`. Также можно сделать вывод, что ядро Гаусса работает лучше для разделимой выборки."
   ]
  }
 ],
 "metadata": {
  "kernelspec": {
   "display_name": "Python 3",
   "language": "python",
   "name": "python3"
  },
  "language_info": {
   "codemirror_mode": {
    "name": "ipython",
    "version": 3
   },
   "file_extension": ".py",
   "mimetype": "text/x-python",
   "name": "python",
   "nbconvert_exporter": "python",
   "pygments_lexer": "ipython3",
   "version": "3.8.5"
  }
 },
 "nbformat": 4,
 "nbformat_minor": 4
}
